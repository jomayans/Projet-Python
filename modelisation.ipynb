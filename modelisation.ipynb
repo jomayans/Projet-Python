{
 "cells": [
  {
   "cell_type": "code",
   "execution_count": 1,
   "id": "850128cd-93a4-4175-9cb3-1e9ffc18d1ab",
   "metadata": {},
   "outputs": [
    {
     "name": "stdout",
     "output_type": "stream",
     "text": [
      "Requirement already satisfied: category_encoders in /opt/mamba/lib/python3.10/site-packages (2.5.1.post0)\n",
      "Requirement already satisfied: numpy>=1.14.0 in /opt/mamba/lib/python3.10/site-packages (from category_encoders) (1.23.5)\n",
      "Requirement already satisfied: patsy>=0.5.1 in /opt/mamba/lib/python3.10/site-packages (from category_encoders) (0.5.3)\n",
      "Requirement already satisfied: pandas>=1.0.5 in /opt/mamba/lib/python3.10/site-packages (from category_encoders) (1.5.1)\n",
      "Requirement already satisfied: scipy>=1.0.0 in /opt/mamba/lib/python3.10/site-packages (from category_encoders) (1.9.3)\n",
      "Requirement already satisfied: scikit-learn>=0.20.0 in /opt/mamba/lib/python3.10/site-packages (from category_encoders) (1.1.3)\n",
      "Requirement already satisfied: statsmodels>=0.9.0 in /opt/mamba/lib/python3.10/site-packages (from category_encoders) (0.13.5)\n",
      "Requirement already satisfied: python-dateutil>=2.8.1 in /opt/mamba/lib/python3.10/site-packages (from pandas>=1.0.5->category_encoders) (2.8.2)\n",
      "Requirement already satisfied: pytz>=2020.1 in /opt/mamba/lib/python3.10/site-packages (from pandas>=1.0.5->category_encoders) (2022.6)\n",
      "Requirement already satisfied: six in /opt/mamba/lib/python3.10/site-packages (from patsy>=0.5.1->category_encoders) (1.16.0)\n",
      "Requirement already satisfied: joblib>=1.0.0 in /opt/mamba/lib/python3.10/site-packages (from scikit-learn>=0.20.0->category_encoders) (1.2.0)\n",
      "Requirement already satisfied: threadpoolctl>=2.0.0 in /opt/mamba/lib/python3.10/site-packages (from scikit-learn>=0.20.0->category_encoders) (3.1.0)\n",
      "Requirement already satisfied: packaging>=21.3 in /opt/mamba/lib/python3.10/site-packages (from statsmodels>=0.9.0->category_encoders) (21.3)\n",
      "Requirement already satisfied: pyparsing!=3.0.5,>=2.0.2 in /opt/mamba/lib/python3.10/site-packages (from packaging>=21.3->statsmodels>=0.9.0->category_encoders) (3.0.9)\n"
     ]
    }
   ],
   "source": [
    "!pip install category_encoders"
   ]
  },
  {
   "cell_type": "code",
   "execution_count": 2,
   "id": "ec8c5833-f522-4ca4-a15b-05fec4ae18ba",
   "metadata": {},
   "outputs": [],
   "source": [
    "# Import librairies.\n",
    "from src.utils import (  # local functions.\n",
    "    extract_only_names, \n",
    "    select_first_element\n",
    ")  \n",
    "import numpy as np\n",
    "import pandas as pd\n",
    "from category_encoders import OneHotEncoder, OrdinalEncoder\n",
    "from sklearn.impute import SimpleImputer\n",
    "from sklearn.pipeline import Pipeline, make_pipeline\n",
    "from sklearn.pipeline import make_pipeline, make_union\n",
    "from sklearn.linear_model import LinearRegression, Ridge, Lasso\n",
    "from sklearn.compose import make_column_transformer, make_column_selector\n",
    "from sklearn.metrics import mean_squared_error, mean_absolute_percentage_error\n",
    "from sklearn.preprocessing import OrdinalEncoder, OneHotEncoder, StandardScaler\n",
    "from sklearn.model_selection import train_test_split, cross_val_score, GridSearchCV, learning_curve, validation_curve"
   ]
  },
  {
   "cell_type": "markdown",
   "id": "c1ec711e-f80c-4fb5-8ded-567adbf8180d",
   "metadata": {},
   "source": [
    "# Modélisation"
   ]
  },
  {
   "cell_type": "markdown",
   "id": "1449cd66-8135-42c0-a04e-16a7563cd380",
   "metadata": {},
   "source": [
    "## Importation des données"
   ]
  },
  {
   "cell_type": "code",
   "execution_count": 3,
   "id": "dbb847d8-3e6c-4ccc-9800-e05b0c43e328",
   "metadata": {},
   "outputs": [
    {
     "name": "stdout",
     "output_type": "stream",
     "text": [
      "Initial dimension : (10000, 25)\n",
      "Dimension after restriction: (4974, 25)\n"
     ]
    },
    {
     "data": {
      "text/html": [
       "<div>\n",
       "<style scoped>\n",
       "    .dataframe tbody tr th:only-of-type {\n",
       "        vertical-align: middle;\n",
       "    }\n",
       "\n",
       "    .dataframe tbody tr th {\n",
       "        vertical-align: top;\n",
       "    }\n",
       "\n",
       "    .dataframe thead th {\n",
       "        text-align: right;\n",
       "    }\n",
       "</style>\n",
       "<table border=\"1\" class=\"dataframe\">\n",
       "  <thead>\n",
       "    <tr style=\"text-align: right;\">\n",
       "      <th></th>\n",
       "      <th>adult</th>\n",
       "      <th>backdrop_path</th>\n",
       "      <th>belongs_to_collection</th>\n",
       "      <th>budget</th>\n",
       "      <th>genres</th>\n",
       "      <th>homepage</th>\n",
       "      <th>id</th>\n",
       "      <th>imdb_id</th>\n",
       "      <th>original_language</th>\n",
       "      <th>original_title</th>\n",
       "      <th>...</th>\n",
       "      <th>release_date</th>\n",
       "      <th>revenue</th>\n",
       "      <th>runtime</th>\n",
       "      <th>spoken_languages</th>\n",
       "      <th>status</th>\n",
       "      <th>tagline</th>\n",
       "      <th>title</th>\n",
       "      <th>video</th>\n",
       "      <th>vote_average</th>\n",
       "      <th>vote_count</th>\n",
       "    </tr>\n",
       "  </thead>\n",
       "  <tbody>\n",
       "    <tr>\n",
       "      <th>0</th>\n",
       "      <td>False</td>\n",
       "      <td>/Yc9q6QuWrMp9nuDm5R8ExNqbEq.jpg</td>\n",
       "      <td>{'id': 87096, 'name': 'Avatar Collection', 'po...</td>\n",
       "      <td>237000000</td>\n",
       "      <td>[{'id': 28, 'name': 'Action'}, {'id': 12, 'nam...</td>\n",
       "      <td>https://www.avatar.com/movies/avatar</td>\n",
       "      <td>19995</td>\n",
       "      <td>tt0499549</td>\n",
       "      <td>en</td>\n",
       "      <td>Avatar</td>\n",
       "      <td>...</td>\n",
       "      <td>2009-12-15</td>\n",
       "      <td>2920357254</td>\n",
       "      <td>162</td>\n",
       "      <td>[{'english_name': 'English', 'iso_639_1': 'en'...</td>\n",
       "      <td>Released</td>\n",
       "      <td>Enter the world of Pandora.</td>\n",
       "      <td>Avatar</td>\n",
       "      <td>False</td>\n",
       "      <td>7.542</td>\n",
       "      <td>27004</td>\n",
       "    </tr>\n",
       "  </tbody>\n",
       "</table>\n",
       "<p>1 rows × 25 columns</p>\n",
       "</div>"
      ],
      "text/plain": [
       "   adult                    backdrop_path  \\\n",
       "0  False  /Yc9q6QuWrMp9nuDm5R8ExNqbEq.jpg   \n",
       "\n",
       "                               belongs_to_collection     budget  \\\n",
       "0  {'id': 87096, 'name': 'Avatar Collection', 'po...  237000000   \n",
       "\n",
       "                                              genres  \\\n",
       "0  [{'id': 28, 'name': 'Action'}, {'id': 12, 'nam...   \n",
       "\n",
       "                               homepage     id    imdb_id original_language  \\\n",
       "0  https://www.avatar.com/movies/avatar  19995  tt0499549                en   \n",
       "\n",
       "  original_title  ... release_date     revenue runtime  \\\n",
       "0         Avatar  ...   2009-12-15  2920357254     162   \n",
       "\n",
       "                                    spoken_languages    status  \\\n",
       "0  [{'english_name': 'English', 'iso_639_1': 'en'...  Released   \n",
       "\n",
       "                       tagline   title  video vote_average vote_count  \n",
       "0  Enter the world of Pandora.  Avatar  False        7.542      27004  \n",
       "\n",
       "[1 rows x 25 columns]"
      ]
     },
     "execution_count": 3,
     "metadata": {},
     "output_type": "execute_result"
    }
   ],
   "source": [
    "# Load the movie data into a pandas DataFrame.\n",
    "movies_df = pd.read_pickle(\"./data/movies_tmdb.pkl\")\n",
    "print(\"Initial dimension :\", movies_df.shape)\n",
    "\n",
    "# Keep only non-zero budget and non-zero revenue.\n",
    "movies_df = movies_df.query('budget > 0 and revenue > 0')\n",
    "print(\"Dimension after restriction:\", movies_df.shape)\n",
    "\n",
    "movies_df.head(1)"
   ]
  },
  {
   "cell_type": "markdown",
   "id": "4e9a22af-b096-4d4a-ba73-38a259a96463",
   "metadata": {},
   "source": [
    "## Pré-traitement des données"
   ]
  },
  {
   "cell_type": "code",
   "execution_count": 4,
   "id": "41ce44cd-1c4b-4291-b72e-10ffdf10abf5",
   "metadata": {},
   "outputs": [
    {
     "data": {
      "text/html": [
       "<div>\n",
       "<style scoped>\n",
       "    .dataframe tbody tr th:only-of-type {\n",
       "        vertical-align: middle;\n",
       "    }\n",
       "\n",
       "    .dataframe tbody tr th {\n",
       "        vertical-align: top;\n",
       "    }\n",
       "\n",
       "    .dataframe thead th {\n",
       "        text-align: right;\n",
       "    }\n",
       "</style>\n",
       "<table border=\"1\" class=\"dataframe\">\n",
       "  <thead>\n",
       "    <tr style=\"text-align: right;\">\n",
       "      <th></th>\n",
       "      <th>genres</th>\n",
       "      <th>production_countries</th>\n",
       "      <th>production_companies</th>\n",
       "    </tr>\n",
       "  </thead>\n",
       "  <tbody>\n",
       "    <tr>\n",
       "      <th>0</th>\n",
       "      <td>[Action, Adventure, Fantasy, Science Fiction]</td>\n",
       "      <td>[United States of America, United Kingdom]</td>\n",
       "      <td>[20th Century Fox, Ingenious Media, Dune Enter...</td>\n",
       "    </tr>\n",
       "    <tr>\n",
       "      <th>3</th>\n",
       "      <td>[Family, Comedy, Fantasy]</td>\n",
       "      <td>[Germany, United States of America]</td>\n",
       "      <td>[Imagine Entertainment, Universal Pictures, LU...</td>\n",
       "    </tr>\n",
       "  </tbody>\n",
       "</table>\n",
       "</div>"
      ],
      "text/plain": [
       "                                          genres  \\\n",
       "0  [Action, Adventure, Fantasy, Science Fiction]   \n",
       "3                      [Family, Comedy, Fantasy]   \n",
       "\n",
       "                         production_countries  \\\n",
       "0  [United States of America, United Kingdom]   \n",
       "3         [Germany, United States of America]   \n",
       "\n",
       "                                production_companies  \n",
       "0  [20th Century Fox, Ingenious Media, Dune Enter...  \n",
       "3  [Imagine Entertainment, Universal Pictures, LU...  "
      ]
     },
     "execution_count": 4,
     "metadata": {},
     "output_type": "execute_result"
    }
   ],
   "source": [
    "# List of columns to which apply the function. \n",
    "colnames = [\"genres\", \"production_countries\", \"production_companies\"]\n",
    "\n",
    "# Apply cleaning functions.\n",
    "for colname in colnames:\n",
    "    try:\n",
    "        # Extract only names.\n",
    "        movies_df[colname] = movies_df[colname].apply(extract_only_names)\n",
    "        # Replace empty lists with numpy.nan\n",
    "        movies_df[colname] = movies_df[colname].apply(lambda x: np.nan if not x else x)\n",
    "    except:\n",
    "        pass\n",
    "\n",
    "movies_df[colnames].head(2)"
   ]
  },
  {
   "cell_type": "code",
   "execution_count": 5,
   "id": "ced93a3e-1d16-4296-8b98-7b632e7fa9d0",
   "metadata": {},
   "outputs": [
    {
     "name": "stdout",
     "output_type": "stream",
     "text": [
      "2728 nan\n",
      "OK\n"
     ]
    }
   ],
   "source": [
    "# Replace empty lists with numpy.nan / Sanity Check\n",
    "df = movies_df['genres'].apply(lambda x: np.nan if not x else x)\n",
    "\n",
    "for id, genre in enumerate(df):\n",
    "    try:\n",
    "        genre[0]\n",
    "    except:\n",
    "        print(id, genre)\n",
    "        if genre is np.nan:\n",
    "            print(\"OK\")"
   ]
  },
  {
   "cell_type": "code",
   "execution_count": 6,
   "id": "f5ba6e21-2a77-45da-abac-c79957ecf07d",
   "metadata": {},
   "outputs": [
    {
     "data": {
      "text/html": [
       "<div>\n",
       "<style scoped>\n",
       "    .dataframe tbody tr th:only-of-type {\n",
       "        vertical-align: middle;\n",
       "    }\n",
       "\n",
       "    .dataframe tbody tr th {\n",
       "        vertical-align: top;\n",
       "    }\n",
       "\n",
       "    .dataframe thead th {\n",
       "        text-align: right;\n",
       "    }\n",
       "</style>\n",
       "<table border=\"1\" class=\"dataframe\">\n",
       "  <thead>\n",
       "    <tr style=\"text-align: right;\">\n",
       "      <th></th>\n",
       "      <th>release_date</th>\n",
       "      <th>budget</th>\n",
       "      <th>genres</th>\n",
       "      <th>popularity</th>\n",
       "      <th>production_companies</th>\n",
       "      <th>production_countries</th>\n",
       "      <th>runtime</th>\n",
       "      <th>tagline</th>\n",
       "      <th>vote_average</th>\n",
       "      <th>vote_count</th>\n",
       "      <th>revenue</th>\n",
       "    </tr>\n",
       "  </thead>\n",
       "  <tbody>\n",
       "    <tr>\n",
       "      <th>0</th>\n",
       "      <td>2009-12-15</td>\n",
       "      <td>237000000</td>\n",
       "      <td>[Action, Adventure, Fantasy, Science Fiction]</td>\n",
       "      <td>3424.983</td>\n",
       "      <td>[20th Century Fox, Ingenious Media, Dune Enter...</td>\n",
       "      <td>[United States of America, United Kingdom]</td>\n",
       "      <td>162</td>\n",
       "      <td>Enter the world of Pandora.</td>\n",
       "      <td>7.542</td>\n",
       "      <td>27004</td>\n",
       "      <td>2920357254</td>\n",
       "    </tr>\n",
       "  </tbody>\n",
       "</table>\n",
       "</div>"
      ],
      "text/plain": [
       "  release_date     budget                                         genres  \\\n",
       "0   2009-12-15  237000000  [Action, Adventure, Fantasy, Science Fiction]   \n",
       "\n",
       "   popularity                               production_companies  \\\n",
       "0    3424.983  [20th Century Fox, Ingenious Media, Dune Enter...   \n",
       "\n",
       "                         production_countries  runtime  \\\n",
       "0  [United States of America, United Kingdom]      162   \n",
       "\n",
       "                       tagline  vote_average  vote_count     revenue  \n",
       "0  Enter the world of Pandora.         7.542       27004  2920357254  "
      ]
     },
     "execution_count": 6,
     "metadata": {},
     "output_type": "execute_result"
    }
   ],
   "source": [
    "# Subset columns.\n",
    "columns = [\n",
    "    \"release_date\", \"budget\", \"genres\", \"popularity\", \n",
    "    \"production_companies\", \"production_countries\", \"runtime\", \n",
    "    \"vote_average\", \"vote_count\", \"revenue\", \n",
    "]\n",
    "movies_df = movies_df[columns]\n",
    "movies_df.head(1)"
   ]
  },
  {
   "cell_type": "markdown",
   "id": "6b884633-8be9-4b39-a1ab-248f0b520d07",
   "metadata": {},
   "source": [
    "* [ ] **`genres`, `production_countries`, `production_companies`** \n",
    "\n",
    "**Extracting the primary genre / production countries / production companies**: At a first glance, we are going to considered only the primary genre, production and countries of each movie, so that we extract the first genre in the list and use that as a categorical feature. We will then use one-hot encoding or label encoding to represent the primary genre as a numerical value further in the modeling._"
   ]
  },
  {
   "cell_type": "code",
   "execution_count": 7,
   "id": "55a12a2c-0e44-4d81-87cb-31cabb2b9e49",
   "metadata": {},
   "outputs": [
    {
     "name": "stdout",
     "output_type": "stream",
     "text": [
      "genres\n",
      "OK\n",
      "production_countries\n",
      "OK\n",
      "production_companies\n",
      "OK\n"
     ]
    },
    {
     "data": {
      "text/html": [
       "<div>\n",
       "<style scoped>\n",
       "    .dataframe tbody tr th:only-of-type {\n",
       "        vertical-align: middle;\n",
       "    }\n",
       "\n",
       "    .dataframe tbody tr th {\n",
       "        vertical-align: top;\n",
       "    }\n",
       "\n",
       "    .dataframe thead th {\n",
       "        text-align: right;\n",
       "    }\n",
       "</style>\n",
       "<table border=\"1\" class=\"dataframe\">\n",
       "  <thead>\n",
       "    <tr style=\"text-align: right;\">\n",
       "      <th></th>\n",
       "      <th>genres</th>\n",
       "      <th>production_countries</th>\n",
       "      <th>production_companies</th>\n",
       "    </tr>\n",
       "  </thead>\n",
       "  <tbody>\n",
       "    <tr>\n",
       "      <th>0</th>\n",
       "      <td>Action</td>\n",
       "      <td>United States of America</td>\n",
       "      <td>20th Century Fox</td>\n",
       "    </tr>\n",
       "    <tr>\n",
       "      <th>3</th>\n",
       "      <td>Family</td>\n",
       "      <td>Germany</td>\n",
       "      <td>Imagine Entertainment</td>\n",
       "    </tr>\n",
       "    <tr>\n",
       "      <th>5</th>\n",
       "      <td>Adventure</td>\n",
       "      <td>United Kingdom</td>\n",
       "      <td>Walt Disney Pictures</td>\n",
       "    </tr>\n",
       "    <tr>\n",
       "      <th>6</th>\n",
       "      <td>Action</td>\n",
       "      <td>United States of America</td>\n",
       "      <td>DreamWorks Animation</td>\n",
       "    </tr>\n",
       "    <tr>\n",
       "      <th>8</th>\n",
       "      <td>Comedy</td>\n",
       "      <td>United States of America</td>\n",
       "      <td>Orion Pictures</td>\n",
       "    </tr>\n",
       "    <tr>\n",
       "      <th>...</th>\n",
       "      <td>...</td>\n",
       "      <td>...</td>\n",
       "      <td>...</td>\n",
       "    </tr>\n",
       "    <tr>\n",
       "      <th>9986</th>\n",
       "      <td>Mystery</td>\n",
       "      <td>Germany</td>\n",
       "      <td>Epsilon Motion Pictures</td>\n",
       "    </tr>\n",
       "    <tr>\n",
       "      <th>9993</th>\n",
       "      <td>Drama</td>\n",
       "      <td>Denmark</td>\n",
       "      <td>Zentropa Entertainments</td>\n",
       "    </tr>\n",
       "    <tr>\n",
       "      <th>9994</th>\n",
       "      <td>Action</td>\n",
       "      <td>France</td>\n",
       "      <td>Paradis Films</td>\n",
       "    </tr>\n",
       "    <tr>\n",
       "      <th>9996</th>\n",
       "      <td>Drama</td>\n",
       "      <td>Canada</td>\n",
       "      <td>Universal Pictures</td>\n",
       "    </tr>\n",
       "    <tr>\n",
       "      <th>9997</th>\n",
       "      <td>Comedy</td>\n",
       "      <td>United States of America</td>\n",
       "      <td>The Steve Tisch Company</td>\n",
       "    </tr>\n",
       "  </tbody>\n",
       "</table>\n",
       "<p>4974 rows × 3 columns</p>\n",
       "</div>"
      ],
      "text/plain": [
       "         genres      production_countries     production_companies\n",
       "0        Action  United States of America         20th Century Fox\n",
       "3        Family                   Germany    Imagine Entertainment\n",
       "5     Adventure            United Kingdom     Walt Disney Pictures\n",
       "6        Action  United States of America     DreamWorks Animation\n",
       "8        Comedy  United States of America           Orion Pictures\n",
       "...         ...                       ...                      ...\n",
       "9986    Mystery                   Germany  Epsilon Motion Pictures\n",
       "9993      Drama                   Denmark  Zentropa Entertainments\n",
       "9994     Action                    France            Paradis Films\n",
       "9996      Drama                    Canada       Universal Pictures\n",
       "9997     Comedy  United States of America  The Steve Tisch Company\n",
       "\n",
       "[4974 rows x 3 columns]"
      ]
     },
     "execution_count": 7,
     "metadata": {},
     "output_type": "execute_result"
    }
   ],
   "source": [
    "# Select only first element.\n",
    "for colname in colnames:\n",
    "    print(colname)\n",
    "    movies_df[colname] = movies_df[colname].apply(select_first_element)\n",
    "    print(\"OK\")\n",
    "    \n",
    "movies_df[colnames].head(5)"
   ]
  },
  {
   "cell_type": "code",
   "execution_count": 12,
   "id": "6cfc2945-7585-4330-b02d-d4d9e60f2ac3",
   "metadata": {},
   "outputs": [
    {
     "name": "stdout",
     "output_type": "stream",
     "text": [
      "X shape: (4974, 8)\n",
      "y shape: (4974,)\n",
      "X_train shape: (3979, 8)\n",
      "y_train shape: (3979,)\n",
      "X_test shape: (995, 8)\n",
      "y_test shape: (995,)\n"
     ]
    }
   ],
   "source": [
    "# Subset Data.\n",
    "modelcols = [\n",
    "    \"genres\", \"popularity\", \"production_companies\", \"production_countries\", \n",
    "    \"budget\", \"runtime\", \"vote_average\", \"vote_count\", \"revenue\"\n",
    "]\n",
    "movies2_df = movies_df[modelcols]"
   ]
  },
  {
   "cell_type": "markdown",
   "id": "d125510a-b652-473e-8e68-278c5257f473",
   "metadata": {},
   "source": [
    "- [ ] **`Release date`** \n",
    "\n",
    "Nous avons réfléchi à plusieurs façons de gérer ces caractéristiques pour notre modélisation. Parmi celles-ci :\n",
    "1. Utiliser les dates **tel quel**. Cela est intéressant Mais cela impliquerait trop de catégories à inclure et expliquerait la matrice des caractéristiques pour les modèles qui ont besoin d'un encodage catégoriel. \n",
    "2. **Regrouper les dates** dans des catégories, telles que \"récent\", \"moyen\" et \"ancien\", en fonction de la date de sortie, puis utiliser ces catégories comme une caractéristique catégorielle dans notre modèle. Nous ne souffrons plus du problème de cardinalité élevée. Néanmoins, il est clair, d'après l'analyse descriptive, que les recettes du box-office ont augmenté au fil des ans et que cette tendance se poursuit.\n",
    "3. \n",
    "\n"
   ]
  },
  {
   "cell_type": "code",
   "execution_count": null,
   "id": "d2608ec7-4cbf-4ede-a42f-0a7da5c3d1dd",
   "metadata": {},
   "outputs": [],
   "source": []
  },
  {
   "cell_type": "markdown",
   "id": "b6dfe58b-f52f-44c7-a6fa-e2c220757b13",
   "metadata": {},
   "source": [
    "## Création de pipelines."
   ]
  },
  {
   "cell_type": "markdown",
   "id": "a1ebf316-9661-4c93-a9ba-485b877a1893",
   "metadata": {},
   "source": [
    "**Pipelines**\n",
    "- [x] Dealing Missing values\n",
    "- [x] Handling Outliers\n",
    "- [x] One Hot Encoding (categorical features)\n",
    "- [x] Normalization Operations (numerical features)\n",
    "- [ ] Vectorization? (for features with list as values)"
   ]
  },
  {
   "cell_type": "code",
   "execution_count": null,
   "id": "b85c1c7a-31c5-44a6-81d2-a7173da4dbdd",
   "metadata": {},
   "outputs": [],
   "source": [
    "# Split features and target.\n",
    "target=\"revenue\"\n",
    "X = movies2_df.drop(columns=target)\n",
    "y = movies2_df[target]\n",
    "print(\"X shape:\", X.shape)\n",
    "print(\"y shape:\", y.shape)\n",
    "\n",
    "# Train-Test split.\n",
    "X_train, X_test, y_train, y_test = train_test_split(\n",
    "    X, y, test_size=0.2, random_state=42\n",
    ")\n",
    "print(\"X_train shape:\", X_train.shape)\n",
    "print(\"y_train shape:\", y_train.shape)\n",
    "print(\"X_test shape:\", X_test.shape)\n",
    "print(\"y_test shape:\", y_test.shape)"
   ]
  },
  {
   "cell_type": "code",
   "execution_count": 179,
   "id": "4b359ddf-9bff-42e3-907c-534e75df8e52",
   "metadata": {},
   "outputs": [],
   "source": [
    "# Filter features according to their type. \n",
    "numerical_features = make_column_selector(dtype_include=np.number)\n",
    "categorical_features = make_column_selector(dtype_include=object)\n",
    "\n",
    "# Create a pipeline of transformation for each type of columns.\n",
    "## Impute missing by the median and standardize numerical features.\n",
    "numerical_pipeline = make_pipeline(\n",
    "    SimpleImputer(strategy='median'), \n",
    "    StandardScaler()\n",
    ")\n",
    "\n",
    "## Impute missing by the mode and one-hot categorical features.\n",
    "categorical_pipeline = make_pipeline(\n",
    "    SimpleImputer(strategy='most_frequent'), \n",
    "    OneHotEncoder(drop=None, handle_unknown='ignore')\n",
    ")\n",
    "\n",
    "# Create transformer to apply pipeline transformation to each groups of columns.\n",
    "preprocessor = make_column_transformer(\n",
    "    (numerical_pipeline, numerical_features),\n",
    "    (categorical_pipeline, categorical_features)\n",
    ")"
   ]
  },
  {
   "cell_type": "markdown",
   "id": "5eaa4910-c6d9-4c6b-83ba-86dde04a404a",
   "metadata": {},
   "source": [
    "**Low- and high-cardinality features**\n",
    "\n",
    "The next thing we need to look out for are categorical columns with **low or high cardinality**. If there's only one category in a column, it won't provide any unique information to our model. At the other extreme, columns where nearly every row has its own category won't help our model in identifying useful trends in the data.\n",
    "\n",
    "Let's take a look at the cardinality of our features."
   ]
  },
  {
   "cell_type": "code",
   "execution_count": 28,
   "id": "218169bf-89ef-4180-bc73-7a7cfbd92547",
   "metadata": {},
   "outputs": [
    {
     "data": {
      "text/plain": [
       "genres                    18\n",
       "popularity              4589\n",
       "production_companies     944\n",
       "production_countries      65\n",
       "budget                   600\n",
       "runtime                  150\n",
       "vote_average            2333\n",
       "vote_count              2753\n",
       "revenue                 4703\n",
       "dtype: int64"
      ]
     },
     "execution_count": 28,
     "metadata": {},
     "output_type": "execute_result"
    }
   ],
   "source": [
    "# Unique values.\n",
    "movies2_df.nunique()"
   ]
  },
  {
   "cell_type": "markdown",
   "id": "f6129bd8-e504-4094-9af8-974eabda5fa0",
   "metadata": {},
   "source": [
    "There features `production_companies` has too many unique values (944 over 5000 observations). It can increase the dimensionality of the data and make it difficult to model. We are going to group the production companies into bins based on the number of movies they have produced (`binning`). This could reduce the number of unique values and make it easier to model the data."
   ]
  },
  {
   "cell_type": "code",
   "execution_count": 34,
   "id": "d07cc5d2-2e18-48b5-a052-b61983ea5b11",
   "metadata": {},
   "outputs": [],
   "source": [
    "# Define a function.\n",
    "def number_values_cumulative(self, column, quantile):\n",
    "    return (self[column].value_counts(normalize=True).cumsum() < quantile).sum()\n",
    "# Define a method inside the DataFrame class.\n",
    "pd.DataFrame.number_values_cumulative = number_values_cumulative\n",
    "\n",
    "movies2_df.number_values_cumulative(\"production_companies\", 0.50)"
   ]
  },
  {
   "cell_type": "code",
   "execution_count": 51,
   "id": "9a8d5ebc-37f0-43fb-9b2b-700e7e30aa4d",
   "metadata": {},
   "outputs": [
    {
     "data": {
      "text/html": [
       "<div>\n",
       "<style scoped>\n",
       "    .dataframe tbody tr th:only-of-type {\n",
       "        vertical-align: middle;\n",
       "    }\n",
       "\n",
       "    .dataframe tbody tr th {\n",
       "        vertical-align: top;\n",
       "    }\n",
       "\n",
       "    .dataframe thead th {\n",
       "        text-align: right;\n",
       "    }\n",
       "</style>\n",
       "<table border=\"1\" class=\"dataframe\">\n",
       "  <thead>\n",
       "    <tr style=\"text-align: right;\">\n",
       "      <th></th>\n",
       "      <th>quantile</th>\n",
       "      <th>nombre de compagnies</th>\n",
       "    </tr>\n",
       "  </thead>\n",
       "  <tbody>\n",
       "    <tr>\n",
       "      <th>0</th>\n",
       "      <td>0.1</td>\n",
       "      <td>1</td>\n",
       "    </tr>\n",
       "    <tr>\n",
       "      <th>1</th>\n",
       "      <td>0.2</td>\n",
       "      <td>2</td>\n",
       "    </tr>\n",
       "    <tr>\n",
       "      <th>2</th>\n",
       "      <td>0.3</td>\n",
       "      <td>4</td>\n",
       "    </tr>\n",
       "    <tr>\n",
       "      <th>3</th>\n",
       "      <td>0.4</td>\n",
       "      <td>7</td>\n",
       "    </tr>\n",
       "    <tr>\n",
       "      <th>4</th>\n",
       "      <td>0.5</td>\n",
       "      <td>12</td>\n",
       "    </tr>\n",
       "    <tr>\n",
       "      <th>5</th>\n",
       "      <td>0.6</td>\n",
       "      <td>28</td>\n",
       "    </tr>\n",
       "    <tr>\n",
       "      <th>6</th>\n",
       "      <td>0.7</td>\n",
       "      <td>65</td>\n",
       "    </tr>\n",
       "    <tr>\n",
       "      <th>7</th>\n",
       "      <td>0.8</td>\n",
       "      <td>167</td>\n",
       "    </tr>\n",
       "    <tr>\n",
       "      <th>8</th>\n",
       "      <td>0.9</td>\n",
       "      <td>447</td>\n",
       "    </tr>\n",
       "    <tr>\n",
       "      <th>9</th>\n",
       "      <td>1.0</td>\n",
       "      <td>943</td>\n",
       "    </tr>\n",
       "  </tbody>\n",
       "</table>\n",
       "</div>"
      ],
      "text/plain": [
       "   quantile  nombre de compagnies\n",
       "0       0.1                     1\n",
       "1       0.2                     2\n",
       "2       0.3                     4\n",
       "3       0.4                     7\n",
       "4       0.5                    12\n",
       "5       0.6                    28\n",
       "6       0.7                    65\n",
       "7       0.8                   167\n",
       "8       0.9                   447\n",
       "9       1.0                   943"
      ]
     },
     "execution_count": 51,
     "metadata": {},
     "output_type": "execute_result"
    }
   ],
   "source": [
    "pd.DataFrame([\n",
    "    (q, movies2_df.number_values_cumulative(\"production_companies\", q)) for q in np.linspace(0.1, 1.0, num=10)\n",
    "], columns=[\"quantile\", \"nombre de compagnies\"])"
   ]
  },
  {
   "cell_type": "code",
   "execution_count": 53,
   "id": "453125cc-8cac-4483-b174-9cad1cccac24",
   "metadata": {},
   "outputs": [
    {
     "data": {
      "text/plain": [
       "array(['United States of America', 'Germany', 'United Kingdom',\n",
       "       'New Zealand', 'Japan', 'France', 'Canada', 'Hong Kong', 'Belgium',\n",
       "       'South Korea', 'Australia', 'Czech Republic', 'China', 'Spain',\n",
       "       'Mexico', 'Indonesia', 'Bulgaria', 'Italy', 'Luxembourg',\n",
       "       'Argentina', 'Brazil', 'India', 'Chile', 'United Arab Emirates',\n",
       "       'Netherlands', 'Norway', 'Thailand', 'Denmark', 'Cambodia',\n",
       "       'Ireland', 'Russia', 'Hungary', 'Ghana', 'Iceland', 'Austria',\n",
       "       'South Africa', 'Greece', 'Switzerland', 'Romania', 'Sweden',\n",
       "       'Finland', 'Slovakia', 'Peru', 'Uruguay', 'Singapore', 'Namibia',\n",
       "       'Taiwan', None, 'Iran', 'Libyan Arab Jamahiriya', 'Kuwait',\n",
       "       'Soviet Union', 'Afghanistan', 'Colombia', 'Morocco', 'Estonia',\n",
       "       'Poland', 'Aruba', 'Ecuador', 'Venezuela', 'Philippines',\n",
       "       'Belarus', 'Turkey', 'Israel', 'Malaysia', 'Qatar'], dtype=object)"
      ]
     },
     "execution_count": 53,
     "metadata": {},
     "output_type": "execute_result"
    }
   ],
   "source": [
    "movies2_df[\"production_countries\"].unique()"
   ]
  },
  {
   "cell_type": "code",
   "execution_count": 48,
   "id": "4d30abb2-fd8b-4a2f-b2b2-8714c6814b4c",
   "metadata": {},
   "outputs": [
    {
     "data": {
      "text/plain": [
       "6"
      ]
     },
     "execution_count": 48,
     "metadata": {},
     "output_type": "execute_result"
    }
   ],
   "source": [
    "((\n",
    "    movies2_df.groupby(\"production_companies\")[\"revenue\"]\n",
    "    .sum().sort_values(ascending=False).cumsum() / movies2_df[\"revenue\"].sum()\n",
    ") < 0.4).sum()"
   ]
  },
  {
   "cell_type": "code",
   "execution_count": 29,
   "id": "46c928c1-13dc-4e90-bf4c-005f1b7d6041",
   "metadata": {},
   "outputs": [
    {
     "ename": "TypeError",
     "evalue": "Encoders require their input to be uniformly strings or numbers. Got ['list']",
     "output_type": "error",
     "traceback": [
      "\u001b[0;31m---------------------------------------------------------------------------\u001b[0m",
      "\u001b[0;31mTypeError\u001b[0m                                 Traceback (most recent call last)",
      "File \u001b[0;32m/opt/mamba/lib/python3.10/site-packages/sklearn/utils/_encode.py:170\u001b[0m, in \u001b[0;36m_unique_python\u001b[0;34m(values, return_inverse, return_counts)\u001b[0m\n\u001b[1;32m    169\u001b[0m \u001b[38;5;28;01mtry\u001b[39;00m:\n\u001b[0;32m--> 170\u001b[0m     uniques_set \u001b[38;5;241m=\u001b[39m \u001b[38;5;28;43mset\u001b[39;49m\u001b[43m(\u001b[49m\u001b[43mvalues\u001b[49m\u001b[43m)\u001b[49m\n\u001b[1;32m    171\u001b[0m     uniques_set, missing_values \u001b[38;5;241m=\u001b[39m _extract_missing(uniques_set)\n",
      "\u001b[0;31mTypeError\u001b[0m: unhashable type: 'list'",
      "\nDuring handling of the above exception, another exception occurred:\n",
      "\u001b[0;31mTypeError\u001b[0m                                 Traceback (most recent call last)",
      "Cell \u001b[0;32mIn [29], line 1\u001b[0m\n\u001b[0;32m----> 1\u001b[0m \u001b[43msklearn\u001b[49m\u001b[38;5;241;43m.\u001b[39;49m\u001b[43mpreprocessing\u001b[49m\u001b[38;5;241;43m.\u001b[39;49m\u001b[43mOneHotEncoder\u001b[49m\u001b[43m(\u001b[49m\u001b[43mhandle_unknown\u001b[49m\u001b[38;5;241;43m=\u001b[39;49m\u001b[38;5;124;43m\"\u001b[39;49m\u001b[38;5;124;43mignore\u001b[39;49m\u001b[38;5;124;43m\"\u001b[39;49m\u001b[43m)\u001b[49m\u001b[38;5;241;43m.\u001b[39;49m\u001b[43mfit_transform\u001b[49m\u001b[43m(\u001b[49m\u001b[43mX\u001b[49m\u001b[43m,\u001b[49m\u001b[43m \u001b[49m\u001b[43my\u001b[49m\u001b[43m)\u001b[49m\n",
      "File \u001b[0;32m/opt/mamba/lib/python3.10/site-packages/sklearn/preprocessing/_encoders.py:855\u001b[0m, in \u001b[0;36mOneHotEncoder.fit_transform\u001b[0;34m(self, X, y)\u001b[0m\n\u001b[1;32m    833\u001b[0m \u001b[38;5;124;03m\"\"\"\u001b[39;00m\n\u001b[1;32m    834\u001b[0m \u001b[38;5;124;03mFit OneHotEncoder to X, then transform X.\u001b[39;00m\n\u001b[1;32m    835\u001b[0m \n\u001b[0;32m   (...)\u001b[0m\n\u001b[1;32m    852\u001b[0m \u001b[38;5;124;03m    returned.\u001b[39;00m\n\u001b[1;32m    853\u001b[0m \u001b[38;5;124;03m\"\"\"\u001b[39;00m\n\u001b[1;32m    854\u001b[0m \u001b[38;5;28mself\u001b[39m\u001b[38;5;241m.\u001b[39m_validate_keywords()\n\u001b[0;32m--> 855\u001b[0m \u001b[38;5;28;01mreturn\u001b[39;00m \u001b[38;5;28;43msuper\u001b[39;49m\u001b[43m(\u001b[49m\u001b[43m)\u001b[49m\u001b[38;5;241;43m.\u001b[39;49m\u001b[43mfit_transform\u001b[49m\u001b[43m(\u001b[49m\u001b[43mX\u001b[49m\u001b[43m,\u001b[49m\u001b[43m \u001b[49m\u001b[43my\u001b[49m\u001b[43m)\u001b[49m\n",
      "File \u001b[0;32m/opt/mamba/lib/python3.10/site-packages/sklearn/base.py:870\u001b[0m, in \u001b[0;36mTransformerMixin.fit_transform\u001b[0;34m(self, X, y, **fit_params)\u001b[0m\n\u001b[1;32m    867\u001b[0m     \u001b[38;5;28;01mreturn\u001b[39;00m \u001b[38;5;28mself\u001b[39m\u001b[38;5;241m.\u001b[39mfit(X, \u001b[38;5;241m*\u001b[39m\u001b[38;5;241m*\u001b[39mfit_params)\u001b[38;5;241m.\u001b[39mtransform(X)\n\u001b[1;32m    868\u001b[0m \u001b[38;5;28;01melse\u001b[39;00m:\n\u001b[1;32m    869\u001b[0m     \u001b[38;5;66;03m# fit method of arity 2 (supervised transformation)\u001b[39;00m\n\u001b[0;32m--> 870\u001b[0m     \u001b[38;5;28;01mreturn\u001b[39;00m \u001b[38;5;28;43mself\u001b[39;49m\u001b[38;5;241;43m.\u001b[39;49m\u001b[43mfit\u001b[49m\u001b[43m(\u001b[49m\u001b[43mX\u001b[49m\u001b[43m,\u001b[49m\u001b[43m \u001b[49m\u001b[43my\u001b[49m\u001b[43m,\u001b[49m\u001b[43m \u001b[49m\u001b[38;5;241;43m*\u001b[39;49m\u001b[38;5;241;43m*\u001b[39;49m\u001b[43mfit_params\u001b[49m\u001b[43m)\u001b[49m\u001b[38;5;241m.\u001b[39mtransform(X)\n",
      "File \u001b[0;32m/opt/mamba/lib/python3.10/site-packages/sklearn/preprocessing/_encoders.py:818\u001b[0m, in \u001b[0;36mOneHotEncoder.fit\u001b[0;34m(self, X, y)\u001b[0m\n\u001b[1;32m    800\u001b[0m \u001b[38;5;124;03m\"\"\"\u001b[39;00m\n\u001b[1;32m    801\u001b[0m \u001b[38;5;124;03mFit OneHotEncoder to X.\u001b[39;00m\n\u001b[1;32m    802\u001b[0m \n\u001b[0;32m   (...)\u001b[0m\n\u001b[1;32m    815\u001b[0m \u001b[38;5;124;03m    Fitted encoder.\u001b[39;00m\n\u001b[1;32m    816\u001b[0m \u001b[38;5;124;03m\"\"\"\u001b[39;00m\n\u001b[1;32m    817\u001b[0m \u001b[38;5;28mself\u001b[39m\u001b[38;5;241m.\u001b[39m_validate_keywords()\n\u001b[0;32m--> 818\u001b[0m fit_results \u001b[38;5;241m=\u001b[39m \u001b[38;5;28;43mself\u001b[39;49m\u001b[38;5;241;43m.\u001b[39;49m\u001b[43m_fit\u001b[49m\u001b[43m(\u001b[49m\n\u001b[1;32m    819\u001b[0m \u001b[43m    \u001b[49m\u001b[43mX\u001b[49m\u001b[43m,\u001b[49m\n\u001b[1;32m    820\u001b[0m \u001b[43m    \u001b[49m\u001b[43mhandle_unknown\u001b[49m\u001b[38;5;241;43m=\u001b[39;49m\u001b[38;5;28;43mself\u001b[39;49m\u001b[38;5;241;43m.\u001b[39;49m\u001b[43mhandle_unknown\u001b[49m\u001b[43m,\u001b[49m\n\u001b[1;32m    821\u001b[0m \u001b[43m    \u001b[49m\u001b[43mforce_all_finite\u001b[49m\u001b[38;5;241;43m=\u001b[39;49m\u001b[38;5;124;43m\"\u001b[39;49m\u001b[38;5;124;43mallow-nan\u001b[39;49m\u001b[38;5;124;43m\"\u001b[39;49m\u001b[43m,\u001b[49m\n\u001b[1;32m    822\u001b[0m \u001b[43m    \u001b[49m\u001b[43mreturn_counts\u001b[49m\u001b[38;5;241;43m=\u001b[39;49m\u001b[38;5;28;43mself\u001b[39;49m\u001b[38;5;241;43m.\u001b[39;49m\u001b[43m_infrequent_enabled\u001b[49m\u001b[43m,\u001b[49m\n\u001b[1;32m    823\u001b[0m \u001b[43m\u001b[49m\u001b[43m)\u001b[49m\n\u001b[1;32m    824\u001b[0m \u001b[38;5;28;01mif\u001b[39;00m \u001b[38;5;28mself\u001b[39m\u001b[38;5;241m.\u001b[39m_infrequent_enabled:\n\u001b[1;32m    825\u001b[0m     \u001b[38;5;28mself\u001b[39m\u001b[38;5;241m.\u001b[39m_fit_infrequent_category_mapping(\n\u001b[1;32m    826\u001b[0m         fit_results[\u001b[38;5;124m\"\u001b[39m\u001b[38;5;124mn_samples\u001b[39m\u001b[38;5;124m\"\u001b[39m], fit_results[\u001b[38;5;124m\"\u001b[39m\u001b[38;5;124mcategory_counts\u001b[39m\u001b[38;5;124m\"\u001b[39m]\n\u001b[1;32m    827\u001b[0m     )\n",
      "File \u001b[0;32m/opt/mamba/lib/python3.10/site-packages/sklearn/preprocessing/_encoders.py:99\u001b[0m, in \u001b[0;36m_BaseEncoder._fit\u001b[0;34m(self, X, handle_unknown, force_all_finite, return_counts)\u001b[0m\n\u001b[1;32m     96\u001b[0m Xi \u001b[38;5;241m=\u001b[39m X_list[i]\n\u001b[1;32m     98\u001b[0m \u001b[38;5;28;01mif\u001b[39;00m \u001b[38;5;28mself\u001b[39m\u001b[38;5;241m.\u001b[39mcategories \u001b[38;5;241m==\u001b[39m \u001b[38;5;124m\"\u001b[39m\u001b[38;5;124mauto\u001b[39m\u001b[38;5;124m\"\u001b[39m:\n\u001b[0;32m---> 99\u001b[0m     result \u001b[38;5;241m=\u001b[39m \u001b[43m_unique\u001b[49m\u001b[43m(\u001b[49m\u001b[43mXi\u001b[49m\u001b[43m,\u001b[49m\u001b[43m \u001b[49m\u001b[43mreturn_counts\u001b[49m\u001b[38;5;241;43m=\u001b[39;49m\u001b[43mreturn_counts\u001b[49m\u001b[43m)\u001b[49m\n\u001b[1;32m    100\u001b[0m     \u001b[38;5;28;01mif\u001b[39;00m return_counts:\n\u001b[1;32m    101\u001b[0m         cats, counts \u001b[38;5;241m=\u001b[39m result\n",
      "File \u001b[0;32m/opt/mamba/lib/python3.10/site-packages/sklearn/utils/_encode.py:41\u001b[0m, in \u001b[0;36m_unique\u001b[0;34m(values, return_inverse, return_counts)\u001b[0m\n\u001b[1;32m     10\u001b[0m \u001b[38;5;124;03m\"\"\"Helper function to find unique values with support for python objects.\u001b[39;00m\n\u001b[1;32m     11\u001b[0m \n\u001b[1;32m     12\u001b[0m \u001b[38;5;124;03mUses pure python method for object dtype, and numpy method for\u001b[39;00m\n\u001b[0;32m   (...)\u001b[0m\n\u001b[1;32m     38\u001b[0m \u001b[38;5;124;03m    array. Only provided if `return_counts` is True.\u001b[39;00m\n\u001b[1;32m     39\u001b[0m \u001b[38;5;124;03m\"\"\"\u001b[39;00m\n\u001b[1;32m     40\u001b[0m \u001b[38;5;28;01mif\u001b[39;00m values\u001b[38;5;241m.\u001b[39mdtype \u001b[38;5;241m==\u001b[39m \u001b[38;5;28mobject\u001b[39m:\n\u001b[0;32m---> 41\u001b[0m     \u001b[38;5;28;01mreturn\u001b[39;00m \u001b[43m_unique_python\u001b[49m\u001b[43m(\u001b[49m\n\u001b[1;32m     42\u001b[0m \u001b[43m        \u001b[49m\u001b[43mvalues\u001b[49m\u001b[43m,\u001b[49m\u001b[43m \u001b[49m\u001b[43mreturn_inverse\u001b[49m\u001b[38;5;241;43m=\u001b[39;49m\u001b[43mreturn_inverse\u001b[49m\u001b[43m,\u001b[49m\u001b[43m \u001b[49m\u001b[43mreturn_counts\u001b[49m\u001b[38;5;241;43m=\u001b[39;49m\u001b[43mreturn_counts\u001b[49m\n\u001b[1;32m     43\u001b[0m \u001b[43m    \u001b[49m\u001b[43m)\u001b[49m\n\u001b[1;32m     44\u001b[0m \u001b[38;5;66;03m# numerical\u001b[39;00m\n\u001b[1;32m     45\u001b[0m \u001b[38;5;28;01mreturn\u001b[39;00m _unique_np(\n\u001b[1;32m     46\u001b[0m     values, return_inverse\u001b[38;5;241m=\u001b[39mreturn_inverse, return_counts\u001b[38;5;241m=\u001b[39mreturn_counts\n\u001b[1;32m     47\u001b[0m )\n",
      "File \u001b[0;32m/opt/mamba/lib/python3.10/site-packages/sklearn/utils/_encode.py:178\u001b[0m, in \u001b[0;36m_unique_python\u001b[0;34m(values, return_inverse, return_counts)\u001b[0m\n\u001b[1;32m    176\u001b[0m \u001b[38;5;28;01mexcept\u001b[39;00m \u001b[38;5;167;01mTypeError\u001b[39;00m:\n\u001b[1;32m    177\u001b[0m     types \u001b[38;5;241m=\u001b[39m \u001b[38;5;28msorted\u001b[39m(t\u001b[38;5;241m.\u001b[39m\u001b[38;5;18m__qualname__\u001b[39m \u001b[38;5;28;01mfor\u001b[39;00m t \u001b[38;5;129;01min\u001b[39;00m \u001b[38;5;28mset\u001b[39m(\u001b[38;5;28mtype\u001b[39m(v) \u001b[38;5;28;01mfor\u001b[39;00m v \u001b[38;5;129;01min\u001b[39;00m values))\n\u001b[0;32m--> 178\u001b[0m     \u001b[38;5;28;01mraise\u001b[39;00m \u001b[38;5;167;01mTypeError\u001b[39;00m(\n\u001b[1;32m    179\u001b[0m         \u001b[38;5;124m\"\u001b[39m\u001b[38;5;124mEncoders require their input to be uniformly \u001b[39m\u001b[38;5;124m\"\u001b[39m\n\u001b[1;32m    180\u001b[0m         \u001b[38;5;124mf\u001b[39m\u001b[38;5;124m\"\u001b[39m\u001b[38;5;124mstrings or numbers. Got \u001b[39m\u001b[38;5;132;01m{\u001b[39;00mtypes\u001b[38;5;132;01m}\u001b[39;00m\u001b[38;5;124m\"\u001b[39m\n\u001b[1;32m    181\u001b[0m     )\n\u001b[1;32m    182\u001b[0m ret \u001b[38;5;241m=\u001b[39m (uniques,)\n\u001b[1;32m    184\u001b[0m \u001b[38;5;28;01mif\u001b[39;00m return_inverse:\n",
      "\u001b[0;31mTypeError\u001b[0m: Encoders require their input to be uniformly strings or numbers. Got ['list']"
     ]
    }
   ],
   "source": [
    "sklearn.preprocessing.OneHotEncoder(handle_unknown=\"ignore\").fit_transform(X, y)"
   ]
  },
  {
   "cell_type": "code",
   "execution_count": null,
   "id": "30f99490-5334-4a4d-a4df-74bee3c6f830",
   "metadata": {},
   "outputs": [],
   "source": [
    "\n",
    "\n",
    "\n",
    "\n",
    "# Baseline mean square error\n",
    "acc_baseline = y_train.value_counts(normalize=True).max()\n",
    "print(\"Baseline Accuracy:\", round(acc_baseline, 2))\n",
    "\n",
    "\n",
    "## Iterate.\n",
    "\n",
    "# Create a pipeline.\n",
    "model = make_pipeline(\n",
    "    OneHotEncoder(use_cat_names=True),\n",
    "    SimpleImputer(),\n",
    "    Ridge()\n",
    ")\n",
    "\n",
    "# Fit the model.\n",
    "model.fit(X_train, y_train)\n",
    "\n",
    "# Evaluate.\n",
    "\n"
   ]
  },
  {
   "cell_type": "code",
   "execution_count": null,
   "id": "652c3f40-7ca9-4028-a1b5-7f16e56b8f35",
   "metadata": {},
   "outputs": [],
   "source": []
  },
  {
   "cell_type": "markdown",
   "id": "a39be6ef-3c02-45ee-97ac-62257bb370e6",
   "metadata": {},
   "source": [
    "## Testing result using embedding / vectorisation for categorical "
   ]
  },
  {
   "cell_type": "markdown",
   "id": "17e450b4-4bc2-4bbe-8e84-d39fd2cafe2a",
   "metadata": {},
   "source": []
  },
  {
   "cell_type": "markdown",
   "id": "76b5190e-d9a9-492a-9790-ac4920c97cea",
   "metadata": {},
   "source": [
    "# Communicate Results"
   ]
  },
  {
   "cell_type": "code",
   "execution_count": null,
   "id": "ce9a1fcc-b718-43b0-affc-81e7918dd57f",
   "metadata": {},
   "outputs": [],
   "source": []
  }
 ],
 "metadata": {
  "kernelspec": {
   "display_name": "Python 3 (ipykernel)",
   "language": "python",
   "name": "python3"
  },
  "language_info": {
   "codemirror_mode": {
    "name": "ipython",
    "version": 3
   },
   "file_extension": ".py",
   "mimetype": "text/x-python",
   "name": "python",
   "nbconvert_exporter": "python",
   "pygments_lexer": "ipython3",
   "version": "3.10.4"
  },
  "toc-autonumbering": true
 },
 "nbformat": 4,
 "nbformat_minor": 5
}
