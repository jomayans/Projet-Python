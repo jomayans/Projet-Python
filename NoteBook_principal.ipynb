{
 "cells": [
  {
   "cell_type": "markdown",
   "id": "db8e8bd6-5823-4435-aeb3-fc39de2c9304",
   "metadata": {
    "tags": []
   },
   "source": [
    "### 1  Importation"
   ]
  },
  {
   "cell_type": "code",
   "execution_count": 342,
   "id": "d0e907f3-1176-49e7-b695-82946a0d3b07",
   "metadata": {
    "tags": []
   },
   "outputs": [],
   "source": [
    "import pandas as pd\n",
    "import numpy as np\n",
    "import pickle\n",
    "import plotly.express as px"
   ]
  },
  {
   "cell_type": "code",
   "execution_count": 343,
   "id": "15c50db3-715f-4f22-b967-fb11b06e98ac",
   "metadata": {},
   "outputs": [
    {
     "name": "stdout",
     "output_type": "stream",
     "text": [
      "Requirement already satisfied: geopy in /opt/mamba/lib/python3.10/site-packages (2.3.0)\n",
      "Requirement already satisfied: geographiclib<3,>=1.52 in /opt/mamba/lib/python3.10/site-packages (from geopy) (2.0)\n",
      "Note: you may need to restart the kernel to use updated packages.\n"
     ]
    }
   ],
   "source": [
    "pip install geopy "
   ]
  },
  {
   "cell_type": "code",
   "execution_count": 344,
   "id": "93597791-a6a4-47db-a586-210e6647c778",
   "metadata": {},
   "outputs": [
    {
     "name": "stdout",
     "output_type": "stream",
     "text": [
      "Requirement already satisfied: tmdbv3api in /opt/mamba/lib/python3.10/site-packages (1.7.7)\n",
      "Requirement already satisfied: requests in /opt/mamba/lib/python3.10/site-packages (from tmdbv3api) (2.28.1)\n",
      "Requirement already satisfied: idna<4,>=2.5 in /opt/mamba/lib/python3.10/site-packages (from requests->tmdbv3api) (3.4)\n",
      "Requirement already satisfied: charset-normalizer<3,>=2 in /opt/mamba/lib/python3.10/site-packages (from requests->tmdbv3api) (2.1.1)\n",
      "Requirement already satisfied: certifi>=2017.4.17 in /opt/mamba/lib/python3.10/site-packages (from requests->tmdbv3api) (2022.9.24)\n",
      "Requirement already satisfied: urllib3<1.27,>=1.21.1 in /opt/mamba/lib/python3.10/site-packages (from requests->tmdbv3api) (1.26.11)\n",
      "Note: you may need to restart the kernel to use updated packages.\n"
     ]
    }
   ],
   "source": [
    "pip install tmdbv3api"
   ]
  },
  {
   "cell_type": "code",
   "execution_count": 345,
   "id": "815b6d37-e16f-4844-b87e-3ea850256a8a",
   "metadata": {},
   "outputs": [
    {
     "data": {
      "text/html": [
       "<div>\n",
       "<style scoped>\n",
       "    .dataframe tbody tr th:only-of-type {\n",
       "        vertical-align: middle;\n",
       "    }\n",
       "\n",
       "    .dataframe tbody tr th {\n",
       "        vertical-align: top;\n",
       "    }\n",
       "\n",
       "    .dataframe thead th {\n",
       "        text-align: right;\n",
       "    }\n",
       "</style>\n",
       "<table border=\"1\" class=\"dataframe\">\n",
       "  <thead>\n",
       "    <tr style=\"text-align: right;\">\n",
       "      <th></th>\n",
       "      <th>id</th>\n",
       "      <th>Titre</th>\n",
       "      <th>Original_title</th>\n",
       "      <th>Original_language</th>\n",
       "      <th>Production_companies</th>\n",
       "      <th>Production_countries</th>\n",
       "      <th>Release_date</th>\n",
       "      <th>Popularity</th>\n",
       "      <th>Budget</th>\n",
       "      <th>Overview</th>\n",
       "      <th>Runtime</th>\n",
       "      <th>Revenu</th>\n",
       "      <th>Spoken_languages</th>\n",
       "      <th>Tagline</th>\n",
       "      <th>Vote_average</th>\n",
       "      <th>Vote_count</th>\n",
       "      <th>Genres</th>\n",
       "      <th>Adult</th>\n",
       "    </tr>\n",
       "  </thead>\n",
       "  <tbody>\n",
       "    <tr>\n",
       "      <th>0</th>\n",
       "      <td>2</td>\n",
       "      <td>Ariel</td>\n",
       "      <td>Ariel</td>\n",
       "      <td>fi</td>\n",
       "      <td>[[id, logo_path, name, origin_country]]</td>\n",
       "      <td>[[iso_3166_1, name]]</td>\n",
       "      <td>1988-10-21</td>\n",
       "      <td>20.997</td>\n",
       "      <td>0</td>\n",
       "      <td>Taisto Kasurinen is a Finnish coal miner whose...</td>\n",
       "      <td>73</td>\n",
       "      <td>0</td>\n",
       "      <td>[[english_name, iso_639_1, name]]</td>\n",
       "      <td></td>\n",
       "      <td>7.055</td>\n",
       "      <td>209</td>\n",
       "      <td>[[id, name], [id, name], [id, name]]</td>\n",
       "      <td>False</td>\n",
       "    </tr>\n",
       "    <tr>\n",
       "      <th>1</th>\n",
       "      <td>3</td>\n",
       "      <td>Shadows in Paradise</td>\n",
       "      <td>Varjoja paratiisissa</td>\n",
       "      <td>fi</td>\n",
       "      <td>[[id, logo_path, name, origin_country]]</td>\n",
       "      <td>[[iso_3166_1, name]]</td>\n",
       "      <td>1986-10-17</td>\n",
       "      <td>15.827</td>\n",
       "      <td>0</td>\n",
       "      <td>An episode in the life of Nikander, a garbage ...</td>\n",
       "      <td>74</td>\n",
       "      <td>0</td>\n",
       "      <td>[[english_name, iso_639_1, name], [english_nam...</td>\n",
       "      <td></td>\n",
       "      <td>7.245</td>\n",
       "      <td>204</td>\n",
       "      <td>[[id, name], [id, name], [id, name]]</td>\n",
       "      <td>False</td>\n",
       "    </tr>\n",
       "    <tr>\n",
       "      <th>2</th>\n",
       "      <td>5</td>\n",
       "      <td>Four Rooms</td>\n",
       "      <td>Four Rooms</td>\n",
       "      <td>en</td>\n",
       "      <td>[[id, logo_path, name, origin_country], [id, l...</td>\n",
       "      <td>[[iso_3166_1, name]]</td>\n",
       "      <td>1995-12-09</td>\n",
       "      <td>36.022</td>\n",
       "      <td>4000000</td>\n",
       "      <td>It's Ted the Bellhop's first night on the job....</td>\n",
       "      <td>98</td>\n",
       "      <td>4257354</td>\n",
       "      <td>[[english_name, iso_639_1, name]]</td>\n",
       "      <td>Twelve outrageous guests. Four scandalous requ...</td>\n",
       "      <td>5.708</td>\n",
       "      <td>2268</td>\n",
       "      <td>[[id, name], [id, name]]</td>\n",
       "      <td>False</td>\n",
       "    </tr>\n",
       "    <tr>\n",
       "      <th>3</th>\n",
       "      <td>6</td>\n",
       "      <td>Judgment Night</td>\n",
       "      <td>Judgment Night</td>\n",
       "      <td>en</td>\n",
       "      <td>[[id, logo_path, name, origin_country], [id, l...</td>\n",
       "      <td>[[iso_3166_1, name]]</td>\n",
       "      <td>1993-10-15</td>\n",
       "      <td>19.026</td>\n",
       "      <td>21000000</td>\n",
       "      <td>While racing to a boxing match, Frank, Mike, J...</td>\n",
       "      <td>109</td>\n",
       "      <td>12136938</td>\n",
       "      <td>[[english_name, iso_639_1, name]]</td>\n",
       "      <td>Don't move. Don't whisper. Don't even breathe.</td>\n",
       "      <td>6.600</td>\n",
       "      <td>268</td>\n",
       "      <td>[[id, name], [id, name], [id, name]]</td>\n",
       "      <td>False</td>\n",
       "    </tr>\n",
       "    <tr>\n",
       "      <th>4</th>\n",
       "      <td>8</td>\n",
       "      <td>Life in Loops (A Megacities RMX)</td>\n",
       "      <td>Life in Loops (A Megacities RMX)</td>\n",
       "      <td>en</td>\n",
       "      <td>[[id, logo_path, name, origin_country]]</td>\n",
       "      <td>[[iso_3166_1, name]]</td>\n",
       "      <td>2006-01-01</td>\n",
       "      <td>2.033</td>\n",
       "      <td>42000</td>\n",
       "      <td>Timo Novotny labels his new project an experim...</td>\n",
       "      <td>80</td>\n",
       "      <td>0</td>\n",
       "      <td>[[english_name, iso_639_1, name], [english_nam...</td>\n",
       "      <td>A Megacities remix.</td>\n",
       "      <td>7.738</td>\n",
       "      <td>21</td>\n",
       "      <td>[[id, name]]</td>\n",
       "      <td>False</td>\n",
       "    </tr>\n",
       "    <tr>\n",
       "      <th>...</th>\n",
       "      <td>...</td>\n",
       "      <td>...</td>\n",
       "      <td>...</td>\n",
       "      <td>...</td>\n",
       "      <td>...</td>\n",
       "      <td>...</td>\n",
       "      <td>...</td>\n",
       "      <td>...</td>\n",
       "      <td>...</td>\n",
       "      <td>...</td>\n",
       "      <td>...</td>\n",
       "      <td>...</td>\n",
       "      <td>...</td>\n",
       "      <td>...</td>\n",
       "      <td>...</td>\n",
       "      <td>...</td>\n",
       "      <td>...</td>\n",
       "      <td>...</td>\n",
       "    </tr>\n",
       "    <tr>\n",
       "      <th>383</th>\n",
       "      <td>493</td>\n",
       "      <td>Shaft's Big Score!</td>\n",
       "      <td>Shaft's Big Score!</td>\n",
       "      <td>en</td>\n",
       "      <td>[[id, logo_path, name, origin_country], [id, l...</td>\n",
       "      <td>[[iso_3166_1, name]]</td>\n",
       "      <td>1972-06-08</td>\n",
       "      <td>5.672</td>\n",
       "      <td>1978000</td>\n",
       "      <td>John Shaft is back as the lady-loved black det...</td>\n",
       "      <td>104</td>\n",
       "      <td>10000000</td>\n",
       "      <td>[[english_name, iso_639_1, name]]</td>\n",
       "      <td>Last time he was nice. This time he's ice!</td>\n",
       "      <td>6.186</td>\n",
       "      <td>43</td>\n",
       "      <td>[[id, name], [id, name], [id, name], [id, name]]</td>\n",
       "      <td>False</td>\n",
       "    </tr>\n",
       "    <tr>\n",
       "      <th>384</th>\n",
       "      <td>494</td>\n",
       "      <td>Shaft in Africa</td>\n",
       "      <td>Shaft in Africa</td>\n",
       "      <td>en</td>\n",
       "      <td>[[id, logo_path, name, origin_country], [id, l...</td>\n",
       "      <td>[[iso_3166_1, name]]</td>\n",
       "      <td>1973-06-14</td>\n",
       "      <td>5.954</td>\n",
       "      <td>2142000</td>\n",
       "      <td>Detective John Shaft travels incognito to Ethi...</td>\n",
       "      <td>112</td>\n",
       "      <td>1458000</td>\n",
       "      <td>[[english_name, iso_639_1, name]]</td>\n",
       "      <td>Shaft is stickin' it...all the way.</td>\n",
       "      <td>6.000</td>\n",
       "      <td>41</td>\n",
       "      <td>[[id, name], [id, name], [id, name], [id, name...</td>\n",
       "      <td>False</td>\n",
       "    </tr>\n",
       "    <tr>\n",
       "      <th>385</th>\n",
       "      <td>496</td>\n",
       "      <td>Borat: Cultural Learnings of America for Make ...</td>\n",
       "      <td>Borat: Cultural Learnings of America for Make ...</td>\n",
       "      <td>en</td>\n",
       "      <td>[[id, logo_path, name, origin_country], [id, l...</td>\n",
       "      <td>[[iso_3166_1, name], [iso_3166_1, name]]</td>\n",
       "      <td>2006-11-01</td>\n",
       "      <td>18.973</td>\n",
       "      <td>18000000</td>\n",
       "      <td>Kazakh journalist Borat Sagdiyev travels to Am...</td>\n",
       "      <td>84</td>\n",
       "      <td>262552893</td>\n",
       "      <td>[[english_name, iso_639_1, name], [english_nam...</td>\n",
       "      <td>Come to Kazakhstan, it's nice!</td>\n",
       "      <td>6.739</td>\n",
       "      <td>4592</td>\n",
       "      <td>[[id, name]]</td>\n",
       "      <td>False</td>\n",
       "    </tr>\n",
       "    <tr>\n",
       "      <th>386</th>\n",
       "      <td>497</td>\n",
       "      <td>The Green Mile</td>\n",
       "      <td>The Green Mile</td>\n",
       "      <td>en</td>\n",
       "      <td>[[id, logo_path, name, origin_country], [id, l...</td>\n",
       "      <td>[[iso_3166_1, name]]</td>\n",
       "      <td>1999-12-10</td>\n",
       "      <td>74.257</td>\n",
       "      <td>60000000</td>\n",
       "      <td>A supernatural tale set on death row in a Sout...</td>\n",
       "      <td>189</td>\n",
       "      <td>286801374</td>\n",
       "      <td>[[english_name, iso_639_1, name], [english_nam...</td>\n",
       "      <td>Miracles do happen.</td>\n",
       "      <td>8.509</td>\n",
       "      <td>14741</td>\n",
       "      <td>[[id, name], [id, name], [id, name]]</td>\n",
       "      <td>False</td>\n",
       "    </tr>\n",
       "    <tr>\n",
       "      <th>387</th>\n",
       "      <td>499</td>\n",
       "      <td>Cléo from 5 to 7</td>\n",
       "      <td>Cléo de 5 à 7</td>\n",
       "      <td>fr</td>\n",
       "      <td>[[id, logo_path, name, origin_country], [id, l...</td>\n",
       "      <td>[[iso_3166_1, name], [iso_3166_1, name]]</td>\n",
       "      <td>1962-04-11</td>\n",
       "      <td>12.822</td>\n",
       "      <td>0</td>\n",
       "      <td>Agnès Varda eloquently captures Paris in the s...</td>\n",
       "      <td>90</td>\n",
       "      <td>0</td>\n",
       "      <td>[[english_name, iso_639_1, name]]</td>\n",
       "      <td></td>\n",
       "      <td>7.728</td>\n",
       "      <td>496</td>\n",
       "      <td>[[id, name]]</td>\n",
       "      <td>False</td>\n",
       "    </tr>\n",
       "  </tbody>\n",
       "</table>\n",
       "<p>388 rows × 18 columns</p>\n",
       "</div>"
      ],
      "text/plain": [
       "      id                                              Titre  \\\n",
       "0      2                                              Ariel   \n",
       "1      3                                Shadows in Paradise   \n",
       "2      5                                         Four Rooms   \n",
       "3      6                                     Judgment Night   \n",
       "4      8                   Life in Loops (A Megacities RMX)   \n",
       "..   ...                                                ...   \n",
       "383  493                                 Shaft's Big Score!   \n",
       "384  494                                    Shaft in Africa   \n",
       "385  496  Borat: Cultural Learnings of America for Make ...   \n",
       "386  497                                     The Green Mile   \n",
       "387  499                                   Cléo from 5 to 7   \n",
       "\n",
       "                                        Original_title Original_language  \\\n",
       "0                                                Ariel                fi   \n",
       "1                                 Varjoja paratiisissa                fi   \n",
       "2                                           Four Rooms                en   \n",
       "3                                       Judgment Night                en   \n",
       "4                     Life in Loops (A Megacities RMX)                en   \n",
       "..                                                 ...               ...   \n",
       "383                                 Shaft's Big Score!                en   \n",
       "384                                    Shaft in Africa                en   \n",
       "385  Borat: Cultural Learnings of America for Make ...                en   \n",
       "386                                     The Green Mile                en   \n",
       "387                                      Cléo de 5 à 7                fr   \n",
       "\n",
       "                                  Production_companies  \\\n",
       "0              [[id, logo_path, name, origin_country]]   \n",
       "1              [[id, logo_path, name, origin_country]]   \n",
       "2    [[id, logo_path, name, origin_country], [id, l...   \n",
       "3    [[id, logo_path, name, origin_country], [id, l...   \n",
       "4              [[id, logo_path, name, origin_country]]   \n",
       "..                                                 ...   \n",
       "383  [[id, logo_path, name, origin_country], [id, l...   \n",
       "384  [[id, logo_path, name, origin_country], [id, l...   \n",
       "385  [[id, logo_path, name, origin_country], [id, l...   \n",
       "386  [[id, logo_path, name, origin_country], [id, l...   \n",
       "387  [[id, logo_path, name, origin_country], [id, l...   \n",
       "\n",
       "                         Production_countries Release_date  Popularity  \\\n",
       "0                        [[iso_3166_1, name]]   1988-10-21      20.997   \n",
       "1                        [[iso_3166_1, name]]   1986-10-17      15.827   \n",
       "2                        [[iso_3166_1, name]]   1995-12-09      36.022   \n",
       "3                        [[iso_3166_1, name]]   1993-10-15      19.026   \n",
       "4                        [[iso_3166_1, name]]   2006-01-01       2.033   \n",
       "..                                        ...          ...         ...   \n",
       "383                      [[iso_3166_1, name]]   1972-06-08       5.672   \n",
       "384                      [[iso_3166_1, name]]   1973-06-14       5.954   \n",
       "385  [[iso_3166_1, name], [iso_3166_1, name]]   2006-11-01      18.973   \n",
       "386                      [[iso_3166_1, name]]   1999-12-10      74.257   \n",
       "387  [[iso_3166_1, name], [iso_3166_1, name]]   1962-04-11      12.822   \n",
       "\n",
       "       Budget                                           Overview  Runtime  \\\n",
       "0           0  Taisto Kasurinen is a Finnish coal miner whose...       73   \n",
       "1           0  An episode in the life of Nikander, a garbage ...       74   \n",
       "2     4000000  It's Ted the Bellhop's first night on the job....       98   \n",
       "3    21000000  While racing to a boxing match, Frank, Mike, J...      109   \n",
       "4       42000  Timo Novotny labels his new project an experim...       80   \n",
       "..        ...                                                ...      ...   \n",
       "383   1978000  John Shaft is back as the lady-loved black det...      104   \n",
       "384   2142000  Detective John Shaft travels incognito to Ethi...      112   \n",
       "385  18000000  Kazakh journalist Borat Sagdiyev travels to Am...       84   \n",
       "386  60000000  A supernatural tale set on death row in a Sout...      189   \n",
       "387         0  Agnès Varda eloquently captures Paris in the s...       90   \n",
       "\n",
       "        Revenu                                   Spoken_languages  \\\n",
       "0            0                  [[english_name, iso_639_1, name]]   \n",
       "1            0  [[english_name, iso_639_1, name], [english_nam...   \n",
       "2      4257354                  [[english_name, iso_639_1, name]]   \n",
       "3     12136938                  [[english_name, iso_639_1, name]]   \n",
       "4            0  [[english_name, iso_639_1, name], [english_nam...   \n",
       "..         ...                                                ...   \n",
       "383   10000000                  [[english_name, iso_639_1, name]]   \n",
       "384    1458000                  [[english_name, iso_639_1, name]]   \n",
       "385  262552893  [[english_name, iso_639_1, name], [english_nam...   \n",
       "386  286801374  [[english_name, iso_639_1, name], [english_nam...   \n",
       "387          0                  [[english_name, iso_639_1, name]]   \n",
       "\n",
       "                                               Tagline  Vote_average  \\\n",
       "0                                                              7.055   \n",
       "1                                                              7.245   \n",
       "2    Twelve outrageous guests. Four scandalous requ...         5.708   \n",
       "3       Don't move. Don't whisper. Don't even breathe.         6.600   \n",
       "4                                  A Megacities remix.         7.738   \n",
       "..                                                 ...           ...   \n",
       "383         Last time he was nice. This time he's ice!         6.186   \n",
       "384                Shaft is stickin' it...all the way.         6.000   \n",
       "385                     Come to Kazakhstan, it's nice!         6.739   \n",
       "386                                Miracles do happen.         8.509   \n",
       "387                                                            7.728   \n",
       "\n",
       "     Vote_count                                             Genres  Adult  \n",
       "0           209               [[id, name], [id, name], [id, name]]  False  \n",
       "1           204               [[id, name], [id, name], [id, name]]  False  \n",
       "2          2268                           [[id, name], [id, name]]  False  \n",
       "3           268               [[id, name], [id, name], [id, name]]  False  \n",
       "4            21                                       [[id, name]]  False  \n",
       "..          ...                                                ...    ...  \n",
       "383          43   [[id, name], [id, name], [id, name], [id, name]]  False  \n",
       "384          41  [[id, name], [id, name], [id, name], [id, name...  False  \n",
       "385        4592                                       [[id, name]]  False  \n",
       "386       14741               [[id, name], [id, name], [id, name]]  False  \n",
       "387         496                                       [[id, name]]  False  \n",
       "\n",
       "[388 rows x 18 columns]"
      ]
     },
     "execution_count": 345,
     "metadata": {},
     "output_type": "execute_result"
    }
   ],
   "source": [
    "df_movies = pd.read_pickle(\"./data/fichier.pkl\")\n",
    "df_movies"
   ]
  },
  {
   "cell_type": "markdown",
   "id": "4e9a22af-b096-4d4a-ba73-38a259a96463",
   "metadata": {},
   "source": [
    "### 2 Analyse descriptive"
   ]
  },
  {
   "cell_type": "code",
   "execution_count": 346,
   "id": "41ce44cd-1c4b-4291-b72e-10ffdf10abf5",
   "metadata": {},
   "outputs": [
    {
     "data": {
      "text/html": [
       "<div>\n",
       "<style scoped>\n",
       "    .dataframe tbody tr th:only-of-type {\n",
       "        vertical-align: middle;\n",
       "    }\n",
       "\n",
       "    .dataframe tbody tr th {\n",
       "        vertical-align: top;\n",
       "    }\n",
       "\n",
       "    .dataframe thead th {\n",
       "        text-align: right;\n",
       "    }\n",
       "</style>\n",
       "<table border=\"1\" class=\"dataframe\">\n",
       "  <thead>\n",
       "    <tr style=\"text-align: right;\">\n",
       "      <th></th>\n",
       "      <th>id</th>\n",
       "      <th>Titre</th>\n",
       "      <th>Original_title</th>\n",
       "      <th>Original_language</th>\n",
       "      <th>Production_companies</th>\n",
       "      <th>Production_countries</th>\n",
       "      <th>Release_date</th>\n",
       "      <th>Popularity</th>\n",
       "      <th>Budget</th>\n",
       "      <th>Overview</th>\n",
       "      <th>...</th>\n",
       "      <th>Revenu</th>\n",
       "      <th>Spoken_languages</th>\n",
       "      <th>Tagline</th>\n",
       "      <th>Vote_average</th>\n",
       "      <th>Vote_count</th>\n",
       "      <th>Genres</th>\n",
       "      <th>Adult</th>\n",
       "      <th>genres</th>\n",
       "      <th>production_countries</th>\n",
       "      <th>production_companies</th>\n",
       "    </tr>\n",
       "  </thead>\n",
       "  <tbody>\n",
       "    <tr>\n",
       "      <th>0</th>\n",
       "      <td>2</td>\n",
       "      <td>Ariel</td>\n",
       "      <td>Ariel</td>\n",
       "      <td>fi</td>\n",
       "      <td>[[id, logo_path, name, origin_country]]</td>\n",
       "      <td>[[iso_3166_1, name]]</td>\n",
       "      <td>1988-10-21</td>\n",
       "      <td>20.997</td>\n",
       "      <td>0</td>\n",
       "      <td>Taisto Kasurinen is a Finnish coal miner whose...</td>\n",
       "      <td>...</td>\n",
       "      <td>0</td>\n",
       "      <td>[[english_name, iso_639_1, name]]</td>\n",
       "      <td></td>\n",
       "      <td>7.055</td>\n",
       "      <td>209</td>\n",
       "      <td>[[id, name], [id, name], [id, name]]</td>\n",
       "      <td>False</td>\n",
       "      <td>[Drama, Comedy, Crime]</td>\n",
       "      <td>[Finland]</td>\n",
       "      <td>[Villealfa Filmproductions]</td>\n",
       "    </tr>\n",
       "    <tr>\n",
       "      <th>1</th>\n",
       "      <td>3</td>\n",
       "      <td>Shadows in Paradise</td>\n",
       "      <td>Varjoja paratiisissa</td>\n",
       "      <td>fi</td>\n",
       "      <td>[[id, logo_path, name, origin_country]]</td>\n",
       "      <td>[[iso_3166_1, name]]</td>\n",
       "      <td>1986-10-17</td>\n",
       "      <td>15.827</td>\n",
       "      <td>0</td>\n",
       "      <td>An episode in the life of Nikander, a garbage ...</td>\n",
       "      <td>...</td>\n",
       "      <td>0</td>\n",
       "      <td>[[english_name, iso_639_1, name], [english_nam...</td>\n",
       "      <td></td>\n",
       "      <td>7.245</td>\n",
       "      <td>204</td>\n",
       "      <td>[[id, name], [id, name], [id, name]]</td>\n",
       "      <td>False</td>\n",
       "      <td>[Drama, Comedy, Romance]</td>\n",
       "      <td>[Finland]</td>\n",
       "      <td>[Villealfa Filmproductions]</td>\n",
       "    </tr>\n",
       "    <tr>\n",
       "      <th>2</th>\n",
       "      <td>5</td>\n",
       "      <td>Four Rooms</td>\n",
       "      <td>Four Rooms</td>\n",
       "      <td>en</td>\n",
       "      <td>[[id, logo_path, name, origin_country], [id, l...</td>\n",
       "      <td>[[iso_3166_1, name]]</td>\n",
       "      <td>1995-12-09</td>\n",
       "      <td>36.022</td>\n",
       "      <td>4000000</td>\n",
       "      <td>It's Ted the Bellhop's first night on the job....</td>\n",
       "      <td>...</td>\n",
       "      <td>4257354</td>\n",
       "      <td>[[english_name, iso_639_1, name]]</td>\n",
       "      <td>Twelve outrageous guests. Four scandalous requ...</td>\n",
       "      <td>5.708</td>\n",
       "      <td>2268</td>\n",
       "      <td>[[id, name], [id, name]]</td>\n",
       "      <td>False</td>\n",
       "      <td>[Crime, Comedy]</td>\n",
       "      <td>[United States of America]</td>\n",
       "      <td>[Miramax, A Band Apart]</td>\n",
       "    </tr>\n",
       "    <tr>\n",
       "      <th>3</th>\n",
       "      <td>6</td>\n",
       "      <td>Judgment Night</td>\n",
       "      <td>Judgment Night</td>\n",
       "      <td>en</td>\n",
       "      <td>[[id, logo_path, name, origin_country], [id, l...</td>\n",
       "      <td>[[iso_3166_1, name]]</td>\n",
       "      <td>1993-10-15</td>\n",
       "      <td>19.026</td>\n",
       "      <td>21000000</td>\n",
       "      <td>While racing to a boxing match, Frank, Mike, J...</td>\n",
       "      <td>...</td>\n",
       "      <td>12136938</td>\n",
       "      <td>[[english_name, iso_639_1, name]]</td>\n",
       "      <td>Don't move. Don't whisper. Don't even breathe.</td>\n",
       "      <td>6.600</td>\n",
       "      <td>268</td>\n",
       "      <td>[[id, name], [id, name], [id, name]]</td>\n",
       "      <td>False</td>\n",
       "      <td>[Action, Crime, Thriller]</td>\n",
       "      <td>[United States of America]</td>\n",
       "      <td>[JVC, Largo Entertainment]</td>\n",
       "    </tr>\n",
       "    <tr>\n",
       "      <th>4</th>\n",
       "      <td>8</td>\n",
       "      <td>Life in Loops (A Megacities RMX)</td>\n",
       "      <td>Life in Loops (A Megacities RMX)</td>\n",
       "      <td>en</td>\n",
       "      <td>[[id, logo_path, name, origin_country]]</td>\n",
       "      <td>[[iso_3166_1, name]]</td>\n",
       "      <td>2006-01-01</td>\n",
       "      <td>2.033</td>\n",
       "      <td>42000</td>\n",
       "      <td>Timo Novotny labels his new project an experim...</td>\n",
       "      <td>...</td>\n",
       "      <td>0</td>\n",
       "      <td>[[english_name, iso_639_1, name], [english_nam...</td>\n",
       "      <td>A Megacities remix.</td>\n",
       "      <td>7.738</td>\n",
       "      <td>21</td>\n",
       "      <td>[[id, name]]</td>\n",
       "      <td>False</td>\n",
       "      <td>[Documentary]</td>\n",
       "      <td>[Austria]</td>\n",
       "      <td>[inLoops]</td>\n",
       "    </tr>\n",
       "    <tr>\n",
       "      <th>...</th>\n",
       "      <td>...</td>\n",
       "      <td>...</td>\n",
       "      <td>...</td>\n",
       "      <td>...</td>\n",
       "      <td>...</td>\n",
       "      <td>...</td>\n",
       "      <td>...</td>\n",
       "      <td>...</td>\n",
       "      <td>...</td>\n",
       "      <td>...</td>\n",
       "      <td>...</td>\n",
       "      <td>...</td>\n",
       "      <td>...</td>\n",
       "      <td>...</td>\n",
       "      <td>...</td>\n",
       "      <td>...</td>\n",
       "      <td>...</td>\n",
       "      <td>...</td>\n",
       "      <td>...</td>\n",
       "      <td>...</td>\n",
       "      <td>...</td>\n",
       "    </tr>\n",
       "    <tr>\n",
       "      <th>383</th>\n",
       "      <td>493</td>\n",
       "      <td>Shaft's Big Score!</td>\n",
       "      <td>Shaft's Big Score!</td>\n",
       "      <td>en</td>\n",
       "      <td>[[id, logo_path, name, origin_country], [id, l...</td>\n",
       "      <td>[[iso_3166_1, name]]</td>\n",
       "      <td>1972-06-08</td>\n",
       "      <td>5.672</td>\n",
       "      <td>1978000</td>\n",
       "      <td>John Shaft is back as the lady-loved black det...</td>\n",
       "      <td>...</td>\n",
       "      <td>10000000</td>\n",
       "      <td>[[english_name, iso_639_1, name]]</td>\n",
       "      <td>Last time he was nice. This time he's ice!</td>\n",
       "      <td>6.186</td>\n",
       "      <td>43</td>\n",
       "      <td>[[id, name], [id, name], [id, name], [id, name]]</td>\n",
       "      <td>False</td>\n",
       "      <td>[Action, Adventure, Crime, Mystery]</td>\n",
       "      <td>[United States of America]</td>\n",
       "      <td>[Metro-Goldwyn-Mayer, Shaft Productions]</td>\n",
       "    </tr>\n",
       "    <tr>\n",
       "      <th>384</th>\n",
       "      <td>494</td>\n",
       "      <td>Shaft in Africa</td>\n",
       "      <td>Shaft in Africa</td>\n",
       "      <td>en</td>\n",
       "      <td>[[id, logo_path, name, origin_country], [id, l...</td>\n",
       "      <td>[[iso_3166_1, name]]</td>\n",
       "      <td>1973-06-14</td>\n",
       "      <td>5.954</td>\n",
       "      <td>2142000</td>\n",
       "      <td>Detective John Shaft travels incognito to Ethi...</td>\n",
       "      <td>...</td>\n",
       "      <td>1458000</td>\n",
       "      <td>[[english_name, iso_639_1, name]]</td>\n",
       "      <td>Shaft is stickin' it...all the way.</td>\n",
       "      <td>6.000</td>\n",
       "      <td>41</td>\n",
       "      <td>[[id, name], [id, name], [id, name], [id, name...</td>\n",
       "      <td>False</td>\n",
       "      <td>[Adventure, Action, Thriller, Crime, Mystery]</td>\n",
       "      <td>[United States of America]</td>\n",
       "      <td>[Metro-Goldwyn-Mayer, Shaft Productions]</td>\n",
       "    </tr>\n",
       "    <tr>\n",
       "      <th>385</th>\n",
       "      <td>496</td>\n",
       "      <td>Borat: Cultural Learnings of America for Make ...</td>\n",
       "      <td>Borat: Cultural Learnings of America for Make ...</td>\n",
       "      <td>en</td>\n",
       "      <td>[[id, logo_path, name, origin_country], [id, l...</td>\n",
       "      <td>[[iso_3166_1, name], [iso_3166_1, name]]</td>\n",
       "      <td>2006-11-01</td>\n",
       "      <td>18.973</td>\n",
       "      <td>18000000</td>\n",
       "      <td>Kazakh journalist Borat Sagdiyev travels to Am...</td>\n",
       "      <td>...</td>\n",
       "      <td>262552893</td>\n",
       "      <td>[[english_name, iso_639_1, name], [english_nam...</td>\n",
       "      <td>Come to Kazakhstan, it's nice!</td>\n",
       "      <td>6.739</td>\n",
       "      <td>4592</td>\n",
       "      <td>[[id, name]]</td>\n",
       "      <td>False</td>\n",
       "      <td>[Comedy]</td>\n",
       "      <td>[United Kingdom, United States of America]</td>\n",
       "      <td>[20th Century Fox, Dune Entertainment, Major S...</td>\n",
       "    </tr>\n",
       "    <tr>\n",
       "      <th>386</th>\n",
       "      <td>497</td>\n",
       "      <td>The Green Mile</td>\n",
       "      <td>The Green Mile</td>\n",
       "      <td>en</td>\n",
       "      <td>[[id, logo_path, name, origin_country], [id, l...</td>\n",
       "      <td>[[iso_3166_1, name]]</td>\n",
       "      <td>1999-12-10</td>\n",
       "      <td>74.257</td>\n",
       "      <td>60000000</td>\n",
       "      <td>A supernatural tale set on death row in a Sout...</td>\n",
       "      <td>...</td>\n",
       "      <td>286801374</td>\n",
       "      <td>[[english_name, iso_639_1, name], [english_nam...</td>\n",
       "      <td>Miracles do happen.</td>\n",
       "      <td>8.509</td>\n",
       "      <td>14741</td>\n",
       "      <td>[[id, name], [id, name], [id, name]]</td>\n",
       "      <td>False</td>\n",
       "      <td>[Fantasy, Drama, Crime]</td>\n",
       "      <td>[United States of America]</td>\n",
       "      <td>[Castle Rock Entertainment, Warner Bros. Pictu...</td>\n",
       "    </tr>\n",
       "    <tr>\n",
       "      <th>387</th>\n",
       "      <td>499</td>\n",
       "      <td>Cléo from 5 to 7</td>\n",
       "      <td>Cléo de 5 à 7</td>\n",
       "      <td>fr</td>\n",
       "      <td>[[id, logo_path, name, origin_country], [id, l...</td>\n",
       "      <td>[[iso_3166_1, name], [iso_3166_1, name]]</td>\n",
       "      <td>1962-04-11</td>\n",
       "      <td>12.822</td>\n",
       "      <td>0</td>\n",
       "      <td>Agnès Varda eloquently captures Paris in the s...</td>\n",
       "      <td>...</td>\n",
       "      <td>0</td>\n",
       "      <td>[[english_name, iso_639_1, name]]</td>\n",
       "      <td></td>\n",
       "      <td>7.728</td>\n",
       "      <td>496</td>\n",
       "      <td>[[id, name]]</td>\n",
       "      <td>False</td>\n",
       "      <td>[Drama]</td>\n",
       "      <td>[France, Italy]</td>\n",
       "      <td>[Rome Paris Films, Ciné-Tamaris]</td>\n",
       "    </tr>\n",
       "  </tbody>\n",
       "</table>\n",
       "<p>388 rows × 21 columns</p>\n",
       "</div>"
      ],
      "text/plain": [
       "      id                                              Titre  \\\n",
       "0      2                                              Ariel   \n",
       "1      3                                Shadows in Paradise   \n",
       "2      5                                         Four Rooms   \n",
       "3      6                                     Judgment Night   \n",
       "4      8                   Life in Loops (A Megacities RMX)   \n",
       "..   ...                                                ...   \n",
       "383  493                                 Shaft's Big Score!   \n",
       "384  494                                    Shaft in Africa   \n",
       "385  496  Borat: Cultural Learnings of America for Make ...   \n",
       "386  497                                     The Green Mile   \n",
       "387  499                                   Cléo from 5 to 7   \n",
       "\n",
       "                                        Original_title Original_language  \\\n",
       "0                                                Ariel                fi   \n",
       "1                                 Varjoja paratiisissa                fi   \n",
       "2                                           Four Rooms                en   \n",
       "3                                       Judgment Night                en   \n",
       "4                     Life in Loops (A Megacities RMX)                en   \n",
       "..                                                 ...               ...   \n",
       "383                                 Shaft's Big Score!                en   \n",
       "384                                    Shaft in Africa                en   \n",
       "385  Borat: Cultural Learnings of America for Make ...                en   \n",
       "386                                     The Green Mile                en   \n",
       "387                                      Cléo de 5 à 7                fr   \n",
       "\n",
       "                                  Production_companies  \\\n",
       "0              [[id, logo_path, name, origin_country]]   \n",
       "1              [[id, logo_path, name, origin_country]]   \n",
       "2    [[id, logo_path, name, origin_country], [id, l...   \n",
       "3    [[id, logo_path, name, origin_country], [id, l...   \n",
       "4              [[id, logo_path, name, origin_country]]   \n",
       "..                                                 ...   \n",
       "383  [[id, logo_path, name, origin_country], [id, l...   \n",
       "384  [[id, logo_path, name, origin_country], [id, l...   \n",
       "385  [[id, logo_path, name, origin_country], [id, l...   \n",
       "386  [[id, logo_path, name, origin_country], [id, l...   \n",
       "387  [[id, logo_path, name, origin_country], [id, l...   \n",
       "\n",
       "                         Production_countries Release_date  Popularity  \\\n",
       "0                        [[iso_3166_1, name]]   1988-10-21      20.997   \n",
       "1                        [[iso_3166_1, name]]   1986-10-17      15.827   \n",
       "2                        [[iso_3166_1, name]]   1995-12-09      36.022   \n",
       "3                        [[iso_3166_1, name]]   1993-10-15      19.026   \n",
       "4                        [[iso_3166_1, name]]   2006-01-01       2.033   \n",
       "..                                        ...          ...         ...   \n",
       "383                      [[iso_3166_1, name]]   1972-06-08       5.672   \n",
       "384                      [[iso_3166_1, name]]   1973-06-14       5.954   \n",
       "385  [[iso_3166_1, name], [iso_3166_1, name]]   2006-11-01      18.973   \n",
       "386                      [[iso_3166_1, name]]   1999-12-10      74.257   \n",
       "387  [[iso_3166_1, name], [iso_3166_1, name]]   1962-04-11      12.822   \n",
       "\n",
       "       Budget                                           Overview  ...  \\\n",
       "0           0  Taisto Kasurinen is a Finnish coal miner whose...  ...   \n",
       "1           0  An episode in the life of Nikander, a garbage ...  ...   \n",
       "2     4000000  It's Ted the Bellhop's first night on the job....  ...   \n",
       "3    21000000  While racing to a boxing match, Frank, Mike, J...  ...   \n",
       "4       42000  Timo Novotny labels his new project an experim...  ...   \n",
       "..        ...                                                ...  ...   \n",
       "383   1978000  John Shaft is back as the lady-loved black det...  ...   \n",
       "384   2142000  Detective John Shaft travels incognito to Ethi...  ...   \n",
       "385  18000000  Kazakh journalist Borat Sagdiyev travels to Am...  ...   \n",
       "386  60000000  A supernatural tale set on death row in a Sout...  ...   \n",
       "387         0  Agnès Varda eloquently captures Paris in the s...  ...   \n",
       "\n",
       "        Revenu                                   Spoken_languages  \\\n",
       "0            0                  [[english_name, iso_639_1, name]]   \n",
       "1            0  [[english_name, iso_639_1, name], [english_nam...   \n",
       "2      4257354                  [[english_name, iso_639_1, name]]   \n",
       "3     12136938                  [[english_name, iso_639_1, name]]   \n",
       "4            0  [[english_name, iso_639_1, name], [english_nam...   \n",
       "..         ...                                                ...   \n",
       "383   10000000                  [[english_name, iso_639_1, name]]   \n",
       "384    1458000                  [[english_name, iso_639_1, name]]   \n",
       "385  262552893  [[english_name, iso_639_1, name], [english_nam...   \n",
       "386  286801374  [[english_name, iso_639_1, name], [english_nam...   \n",
       "387          0                  [[english_name, iso_639_1, name]]   \n",
       "\n",
       "                                               Tagline Vote_average  \\\n",
       "0                                                             7.055   \n",
       "1                                                             7.245   \n",
       "2    Twelve outrageous guests. Four scandalous requ...        5.708   \n",
       "3       Don't move. Don't whisper. Don't even breathe.        6.600   \n",
       "4                                  A Megacities remix.        7.738   \n",
       "..                                                 ...          ...   \n",
       "383         Last time he was nice. This time he's ice!        6.186   \n",
       "384                Shaft is stickin' it...all the way.        6.000   \n",
       "385                     Come to Kazakhstan, it's nice!        6.739   \n",
       "386                                Miracles do happen.        8.509   \n",
       "387                                                           7.728   \n",
       "\n",
       "     Vote_count                                             Genres  Adult  \\\n",
       "0           209               [[id, name], [id, name], [id, name]]  False   \n",
       "1           204               [[id, name], [id, name], [id, name]]  False   \n",
       "2          2268                           [[id, name], [id, name]]  False   \n",
       "3           268               [[id, name], [id, name], [id, name]]  False   \n",
       "4            21                                       [[id, name]]  False   \n",
       "..          ...                                                ...    ...   \n",
       "383          43   [[id, name], [id, name], [id, name], [id, name]]  False   \n",
       "384          41  [[id, name], [id, name], [id, name], [id, name...  False   \n",
       "385        4592                                       [[id, name]]  False   \n",
       "386       14741               [[id, name], [id, name], [id, name]]  False   \n",
       "387         496                                       [[id, name]]  False   \n",
       "\n",
       "                                            genres  \\\n",
       "0                           [Drama, Comedy, Crime]   \n",
       "1                         [Drama, Comedy, Romance]   \n",
       "2                                  [Crime, Comedy]   \n",
       "3                        [Action, Crime, Thriller]   \n",
       "4                                    [Documentary]   \n",
       "..                                             ...   \n",
       "383            [Action, Adventure, Crime, Mystery]   \n",
       "384  [Adventure, Action, Thriller, Crime, Mystery]   \n",
       "385                                       [Comedy]   \n",
       "386                        [Fantasy, Drama, Crime]   \n",
       "387                                        [Drama]   \n",
       "\n",
       "                           production_countries  \\\n",
       "0                                     [Finland]   \n",
       "1                                     [Finland]   \n",
       "2                    [United States of America]   \n",
       "3                    [United States of America]   \n",
       "4                                     [Austria]   \n",
       "..                                          ...   \n",
       "383                  [United States of America]   \n",
       "384                  [United States of America]   \n",
       "385  [United Kingdom, United States of America]   \n",
       "386                  [United States of America]   \n",
       "387                             [France, Italy]   \n",
       "\n",
       "                                  production_companies  \n",
       "0                          [Villealfa Filmproductions]  \n",
       "1                          [Villealfa Filmproductions]  \n",
       "2                              [Miramax, A Band Apart]  \n",
       "3                           [JVC, Largo Entertainment]  \n",
       "4                                            [inLoops]  \n",
       "..                                                 ...  \n",
       "383           [Metro-Goldwyn-Mayer, Shaft Productions]  \n",
       "384           [Metro-Goldwyn-Mayer, Shaft Productions]  \n",
       "385  [20th Century Fox, Dune Entertainment, Major S...  \n",
       "386  [Castle Rock Entertainment, Warner Bros. Pictu...  \n",
       "387                   [Rome Paris Films, Ciné-Tamaris]  \n",
       "\n",
       "[388 rows x 21 columns]"
      ]
     },
     "execution_count": 346,
     "metadata": {},
     "output_type": "execute_result"
    }
   ],
   "source": [
    "# Cleaning Genre : \n",
    "def traitement_genre(ligne_genre):\n",
    "    genres = []\n",
    "    for i in ligne_genre:\n",
    "        genres.append(i[\"name\"])    \n",
    "    return genres\n",
    "\n",
    "df_movies[\"genres\"] = df_movies[\"Genres\"].apply(traitement_genre)\n",
    "\n",
    "\n",
    "# Cleaning Production_countries : \n",
    "def traitement_production_countries(ligne_pays):\n",
    "    countries = []\n",
    "    for type_pays  in ligne_pays:\n",
    "        countries.append(type_pays[\"name\"])    \n",
    "    return countries\n",
    "\n",
    "df_movies[\"production_countries\"]= df_movies[\"Production_countries\"].apply(traitement_production_countries)\n",
    "\n",
    "\n",
    "# Cleaning Production_companies :\n",
    "def traitement_production_companies(ligne_compagnie):\n",
    "    companies = []\n",
    "    for type_companies  in ligne_compagnie:\n",
    "        companies.append(type_companies[\"name\"])    \n",
    "    return companies\n",
    "\n",
    "df_movies[\"production_companies\"]= df_movies[\"Production_companies\"].apply(traitement_production_countries)\n",
    "df_movies\n",
    "\n",
    "\n"
   ]
  },
  {
   "cell_type": "code",
   "execution_count": 347,
   "id": "7e892fad-91e3-42d3-98d0-dcc9c095e6f0",
   "metadata": {},
   "outputs": [
    {
     "data": {
      "text/plain": [
       "Index(['id', 'Titre', 'Original_title', 'Original_language',\n",
       "       'Production_companies', 'Production_countries', 'Release_date',\n",
       "       'Popularity', 'Budget', 'Overview', 'Runtime', 'Revenu',\n",
       "       'Spoken_languages', 'Tagline', 'Vote_average', 'Vote_count', 'Genres',\n",
       "       'Adult', 'genres', 'production_countries', 'production_companies'],\n",
       "      dtype='object')"
      ]
     },
     "execution_count": 347,
     "metadata": {},
     "output_type": "execute_result"
    }
   ],
   "source": [
    "df_movies.columns"
   ]
  },
  {
   "cell_type": "code",
   "execution_count": 348,
   "id": "8d03f10e-f245-44a9-907d-1e361c9c8978",
   "metadata": {},
   "outputs": [],
   "source": [
    "# Remove column\n",
    "df_movies=df_movies.drop(columns =['Tagline', 'Adult', 'Production_companies',\"Production_countries\",\"Genres\"])"
   ]
  },
  {
   "cell_type": "code",
   "execution_count": 349,
   "id": "1a2d3628-7de7-46a9-937f-48eb3430acfe",
   "metadata": {},
   "outputs": [
    {
     "data": {
      "text/plain": [
       "Index(['id', 'Titre', 'Original_title', 'Original_language', 'Release_date',\n",
       "       'Popularity', 'Budget', 'Overview', 'Runtime', 'Revenu',\n",
       "       'Spoken_languages', 'Vote_average', 'Vote_count', 'genres',\n",
       "       'production_countries', 'production_companies'],\n",
       "      dtype='object')"
      ]
     },
     "execution_count": 349,
     "metadata": {},
     "output_type": "execute_result"
    }
   ],
   "source": [
    "df_movies.columns"
   ]
  },
  {
   "cell_type": "code",
   "execution_count": 350,
   "id": "bd943131-50aa-4bf3-bb65-cb3c2aa580c8",
   "metadata": {},
   "outputs": [
    {
     "data": {
      "application/vnd.plotly.v1+json": {
       "config": {
        "plotlyServerURL": "https://plot.ly"
       },
       "data": [
        {
         "alignmentgroup": "True",
         "bingroup": "x",
         "hovertemplate": "pays=%{x}<br>count=%{y}<extra></extra>",
         "legendgroup": "",
         "marker": {
          "color": "#636efa",
          "pattern": {
           "shape": ""
          }
         },
         "name": "",
         "offsetgroup": "",
         "orientation": "v",
         "showlegend": false,
         "type": "histogram",
         "x": [
          "Finland",
          "Finland",
          "United States of America",
          "United States of America",
          "Austria",
          "Germany",
          "United States of America",
          "United States of America",
          "United States of America",
          "United States of America",
          "United States of America",
          "Argentina",
          "Denmark",
          "Finland",
          "France",
          "Germany",
          "Iceland",
          "Italy",
          "Netherlands",
          "Norway",
          "Sweden",
          "United Kingdom",
          "United States of America",
          "Germany",
          "United Kingdom",
          "France",
          "United Kingdom",
          "Germany",
          "Canada",
          "Spain",
          "United States of America",
          "United States of America",
          "United States of America",
          "United Kingdom",
          "United States of America",
          "Israel",
          "Sweden",
          "United Kingdom",
          "United States of America",
          "United States of America",
          "South Korea",
          "United States of America",
          "United States of America",
          "Mexico",
          "United States of America",
          "United States of America",
          "Canada",
          "Germany",
          "United Kingdom",
          "United States of America",
          "United States of America",
          "Spain",
          "Germany",
          "United States of America",
          "United States of America",
          "France",
          "Germany",
          "Netherlands",
          "Palestinian Territory",
          "United Kingdom",
          "United States of America",
          "Germany",
          "United States of America",
          "United States of America",
          "France",
          "United Kingdom",
          "United States of America",
          "United States of America",
          "United States of America",
          "United States of America",
          "Austria",
          "Switzerland",
          "United States of America",
          "United States of America",
          "United States of America",
          "Hong Kong",
          "United Kingdom",
          "China",
          "United States of America",
          "Japan",
          "Uruguay",
          "United States of America",
          "Germany",
          "Paraguay",
          "United States of America",
          "United States of America",
          "Germany",
          "United States of America",
          "United States of America",
          "United States of America",
          "United States of America",
          "France",
          "Spain",
          "Austria",
          "Switzerland",
          "United States of America",
          "Germany",
          "United States of America",
          "United States of America",
          "United States of America",
          "United Kingdom",
          "United States of America",
          "Spain",
          "France",
          "United Kingdom",
          "United States of America",
          "France",
          "Denmark",
          "United States of America",
          "Germany",
          "United States of America",
          "United States of America",
          "United Kingdom",
          "United States of America",
          "France",
          "Poland",
          "Switzerland",
          "France",
          "Poland",
          "France",
          "Poland",
          "Switzerland",
          "United States of America",
          "Denmark",
          "Sweden",
          "South Korea",
          "Germany",
          "United States of America",
          "United Kingdom",
          "United States of America",
          "France",
          "Ireland",
          "Luxembourg",
          "United Kingdom",
          "United States of America",
          "United States of America",
          "United Kingdom",
          "United States of America",
          "New Zealand",
          "United States of America",
          "New Zealand",
          "United States of America",
          "New Zealand",
          "United States of America",
          "Spain",
          "United Kingdom",
          "United States of America",
          "Poland",
          "Poland",
          "Poland",
          "Poland",
          "Japan",
          "Japan",
          "United States of America",
          "United States of America",
          "United States of America",
          "United Kingdom",
          "United States of America",
          "United States of America",
          "United States of America",
          "United States of America",
          "Denmark",
          "Sweden",
          "Spain",
          "United States of America",
          "Canada",
          "United States of America",
          "United States of America",
          "France",
          "Germany",
          "Denmark",
          "France",
          "Iceland",
          "Netherlands",
          "Norway",
          "Spain",
          "Sweden",
          "United Kingdom",
          "China",
          "Hong Kong",
          "Taiwan",
          "United States of America",
          "France",
          "Spain",
          "Japan",
          "United States of America",
          "United States of America",
          "Japan",
          "United Kingdom",
          "United States of America",
          "United States of America",
          "United Kingdom",
          "United States of America",
          "Denmark",
          "France",
          "United Kingdom",
          "Sweden",
          "United States of America",
          "Germany",
          "Germany",
          "France",
          "United States of America",
          "United States of America",
          "United States of America",
          "United States of America",
          "United States of America",
          "France",
          "Germany",
          "United Kingdom",
          "United States of America",
          "United States of America",
          "United States of America",
          "United Kingdom",
          "France",
          "United States of America",
          "United States of America",
          "United States of America",
          "France",
          "Italy",
          "United States of America",
          "United States of America",
          "United States of America",
          "United States of America",
          "France",
          "Germany",
          "United Kingdom",
          "United States of America",
          "United States of America",
          "United States of America",
          "United States of America",
          "United States of America",
          "United Kingdom",
          "United States of America",
          "Canada",
          "Germany",
          "United Kingdom",
          "United States of America",
          "United States of America",
          "United States of America",
          "Germany",
          "Germany",
          "Germany",
          "France",
          "Italy",
          "United States of America",
          "France",
          "Germany",
          "United States of America",
          "United States of America",
          "United States of America",
          "United States of America",
          "United States of America",
          "United States of America",
          "United States of America",
          "United States of America",
          "France",
          "Italy",
          "Italy",
          "South Africa",
          "United Kingdom",
          "United States of America",
          "Australia",
          "Germany",
          "France",
          "United Kingdom",
          "United States of America",
          "Germany",
          "Argentina",
          "United States of America",
          "United States of America",
          "United States of America",
          "United States of America",
          "Germany",
          "United States of America",
          "United Kingdom",
          "United States of America",
          "Spain",
          "United States of America",
          "United States of America",
          "Germany",
          "United States of America",
          "Poland",
          "Poland",
          "United States of America",
          "United States of America",
          "Germany",
          "United States of America",
          "United States of America",
          "United States of America",
          "United States of America",
          "Germany",
          "United States of America",
          "Australia",
          "France",
          "France",
          "United Kingdom",
          "United States of America",
          "United States of America",
          "United States of America",
          "United States of America",
          "United States of America",
          "United Kingdom",
          "United States of America",
          "United States of America",
          "United Kingdom",
          "United States of America",
          "Japan",
          "United States of America",
          "United States of America",
          "United States of America",
          "Denmark",
          "United States of America",
          "United States of America",
          "United Kingdom",
          "New Zealand",
          "United States of America",
          "Germany",
          "France",
          "France",
          "Czech Republic",
          "France",
          "Italy",
          "United Kingdom",
          "France",
          "Italy",
          "France",
          "United Kingdom",
          "United States of America",
          "United States of America",
          "Germany",
          "France",
          "Italy",
          "Spain",
          "France",
          "United States of America",
          "France",
          "Germany",
          "Sweden",
          "Norway",
          "United Kingdom",
          "United States of America",
          "Germany",
          "United States of America",
          "United Kingdom",
          "United States of America",
          "Austria",
          "Germany",
          "Germany",
          "Hungary",
          "United Kingdom",
          "United States of America",
          "United States of America",
          "United States of America",
          "France",
          "United States of America",
          "United States of America",
          "United States of America",
          "United States of America",
          "Germany",
          "United States of America",
          "United States of America",
          "United States of America",
          "United Kingdom",
          "United States of America",
          "France",
          "United States of America",
          "United States of America",
          "United States of America",
          "United States of America",
          "Germany",
          "United Kingdom",
          "United States of America",
          "United States of America",
          "United States of America",
          "United States of America",
          "France",
          "Italy",
          "United States of America",
          "France",
          "United Kingdom",
          "United States of America",
          "United States of America",
          "Italy",
          "France",
          "United States of America",
          "Denmark",
          "Sweden",
          "United States of America",
          "United States of America",
          "Italy",
          "Germany",
          "Canada",
          "United Kingdom",
          "United States of America",
          "United States of America",
          "Germany",
          "Bosnia and Herzegovina",
          "Austria",
          "Germany",
          "Croatia",
          "United States of America",
          "Germany",
          "United States of America",
          "United States of America",
          "Canada",
          "United States of America",
          "United States of America",
          "United States of America",
          "Japan",
          "United Kingdom",
          "United States of America",
          "United States of America",
          "United States of America",
          "United States of America",
          "Canada",
          "United States of America",
          "Italy",
          "United States of America",
          "Spain",
          "Italy",
          "France",
          "Germany",
          "Germany",
          "France",
          "Japan",
          "United Kingdom",
          "United States of America",
          "United States of America",
          "France",
          "United States of America",
          "Germany",
          "United States of America",
          "Germany",
          "United Kingdom",
          "United States of America",
          "Japan",
          "Germany",
          "United States of America",
          "United Kingdom",
          "France",
          "France",
          "United States of America",
          "Germany",
          "Germany",
          "Turkey",
          "United States of America",
          "United States of America",
          "United Kingdom",
          "United States of America",
          "United States of America",
          "United States of America",
          "United States of America",
          "United States of America",
          "Germany",
          "United States of America",
          "United States of America",
          "Germany",
          "Portugal",
          "Germany",
          "Spain",
          "Italy",
          "United Kingdom",
          "United States of America",
          "United States of America",
          "Germany",
          "Canada",
          "Czech Republic",
          "United States of America",
          "United States of America",
          "United Kingdom",
          "United States of America",
          "Canada",
          "United States of America",
          "United States of America",
          "United States of America",
          "France",
          "United States of America",
          "United States of America",
          "United States of America",
          "Italy",
          "France",
          "Germany",
          "United States of America",
          "United Kingdom",
          "United States of America",
          "Germany",
          "United Kingdom",
          "United States of America",
          "United States of America",
          "United States of America",
          "Germany",
          "United States of America",
          "Italy",
          "France",
          "France",
          "Germany",
          "Poland",
          "United Kingdom",
          "United States of America",
          "United States of America",
          "United States of America",
          "France",
          "Italy",
          "Germany",
          "United States of America",
          "Italy",
          "Spain",
          "Germany",
          "United States of America",
          "Canada",
          "United States of America",
          "Germany",
          "United States of America",
          "Ecuador",
          "Colombia",
          "United States of America",
          "Canada",
          "Canada",
          "France",
          "Italy",
          "United States of America",
          "United States of America",
          "Denmark",
          "Finland",
          "Sweden",
          "Austria",
          "France",
          "Germany",
          "Italy",
          "Germany",
          "United States of America",
          "Denmark",
          "France",
          "Germany",
          "Italy",
          "Netherlands",
          "Spain",
          "Sweden",
          "United States of America",
          "Mexico",
          "United States of America",
          "Germany",
          "United Kingdom",
          "United States of America",
          "Austria",
          "Austria",
          "Germany",
          "Germany",
          "Austria",
          "Germany",
          "United States of America",
          "Denmark",
          "Sweden",
          "France",
          "United States of America",
          "United Kingdom",
          "United States of America",
          "Germany",
          "United States of America",
          "United States of America",
          "Germany",
          "France",
          "Poland",
          "United States of America",
          "United States of America",
          "United States of America",
          "Germany",
          "United States of America",
          "France",
          "Germany",
          "India",
          "Italy",
          "United States of America",
          "Spain",
          "United States of America",
          "United States of America",
          "United Kingdom",
          "United States of America",
          "United States of America",
          "Sweden",
          "Germany",
          "United States of America",
          "United States of America",
          "United States of America",
          "United Kingdom",
          "United States of America",
          "United States of America",
          "France",
          "Italy"
         ],
         "xaxis": "x",
         "yaxis": "y"
        }
       ],
       "layout": {
        "autosize": true,
        "barmode": "relative",
        "legend": {
         "tracegroupgap": 0
        },
        "margin": {
         "t": 60
        },
        "template": {
         "data": {
          "bar": [
           {
            "error_x": {
             "color": "#2a3f5f"
            },
            "error_y": {
             "color": "#2a3f5f"
            },
            "marker": {
             "line": {
              "color": "#E5ECF6",
              "width": 0.5
             },
             "pattern": {
              "fillmode": "overlay",
              "size": 10,
              "solidity": 0.2
             }
            },
            "type": "bar"
           }
          ],
          "barpolar": [
           {
            "marker": {
             "line": {
              "color": "#E5ECF6",
              "width": 0.5
             },
             "pattern": {
              "fillmode": "overlay",
              "size": 10,
              "solidity": 0.2
             }
            },
            "type": "barpolar"
           }
          ],
          "carpet": [
           {
            "aaxis": {
             "endlinecolor": "#2a3f5f",
             "gridcolor": "white",
             "linecolor": "white",
             "minorgridcolor": "white",
             "startlinecolor": "#2a3f5f"
            },
            "baxis": {
             "endlinecolor": "#2a3f5f",
             "gridcolor": "white",
             "linecolor": "white",
             "minorgridcolor": "white",
             "startlinecolor": "#2a3f5f"
            },
            "type": "carpet"
           }
          ],
          "choropleth": [
           {
            "colorbar": {
             "outlinewidth": 0,
             "ticks": ""
            },
            "type": "choropleth"
           }
          ],
          "contour": [
           {
            "colorbar": {
             "outlinewidth": 0,
             "ticks": ""
            },
            "colorscale": [
             [
              0,
              "#0d0887"
             ],
             [
              0.1111111111111111,
              "#46039f"
             ],
             [
              0.2222222222222222,
              "#7201a8"
             ],
             [
              0.3333333333333333,
              "#9c179e"
             ],
             [
              0.4444444444444444,
              "#bd3786"
             ],
             [
              0.5555555555555556,
              "#d8576b"
             ],
             [
              0.6666666666666666,
              "#ed7953"
             ],
             [
              0.7777777777777778,
              "#fb9f3a"
             ],
             [
              0.8888888888888888,
              "#fdca26"
             ],
             [
              1,
              "#f0f921"
             ]
            ],
            "type": "contour"
           }
          ],
          "contourcarpet": [
           {
            "colorbar": {
             "outlinewidth": 0,
             "ticks": ""
            },
            "type": "contourcarpet"
           }
          ],
          "heatmap": [
           {
            "colorbar": {
             "outlinewidth": 0,
             "ticks": ""
            },
            "colorscale": [
             [
              0,
              "#0d0887"
             ],
             [
              0.1111111111111111,
              "#46039f"
             ],
             [
              0.2222222222222222,
              "#7201a8"
             ],
             [
              0.3333333333333333,
              "#9c179e"
             ],
             [
              0.4444444444444444,
              "#bd3786"
             ],
             [
              0.5555555555555556,
              "#d8576b"
             ],
             [
              0.6666666666666666,
              "#ed7953"
             ],
             [
              0.7777777777777778,
              "#fb9f3a"
             ],
             [
              0.8888888888888888,
              "#fdca26"
             ],
             [
              1,
              "#f0f921"
             ]
            ],
            "type": "heatmap"
           }
          ],
          "heatmapgl": [
           {
            "colorbar": {
             "outlinewidth": 0,
             "ticks": ""
            },
            "colorscale": [
             [
              0,
              "#0d0887"
             ],
             [
              0.1111111111111111,
              "#46039f"
             ],
             [
              0.2222222222222222,
              "#7201a8"
             ],
             [
              0.3333333333333333,
              "#9c179e"
             ],
             [
              0.4444444444444444,
              "#bd3786"
             ],
             [
              0.5555555555555556,
              "#d8576b"
             ],
             [
              0.6666666666666666,
              "#ed7953"
             ],
             [
              0.7777777777777778,
              "#fb9f3a"
             ],
             [
              0.8888888888888888,
              "#fdca26"
             ],
             [
              1,
              "#f0f921"
             ]
            ],
            "type": "heatmapgl"
           }
          ],
          "histogram": [
           {
            "marker": {
             "pattern": {
              "fillmode": "overlay",
              "size": 10,
              "solidity": 0.2
             }
            },
            "type": "histogram"
           }
          ],
          "histogram2d": [
           {
            "colorbar": {
             "outlinewidth": 0,
             "ticks": ""
            },
            "colorscale": [
             [
              0,
              "#0d0887"
             ],
             [
              0.1111111111111111,
              "#46039f"
             ],
             [
              0.2222222222222222,
              "#7201a8"
             ],
             [
              0.3333333333333333,
              "#9c179e"
             ],
             [
              0.4444444444444444,
              "#bd3786"
             ],
             [
              0.5555555555555556,
              "#d8576b"
             ],
             [
              0.6666666666666666,
              "#ed7953"
             ],
             [
              0.7777777777777778,
              "#fb9f3a"
             ],
             [
              0.8888888888888888,
              "#fdca26"
             ],
             [
              1,
              "#f0f921"
             ]
            ],
            "type": "histogram2d"
           }
          ],
          "histogram2dcontour": [
           {
            "colorbar": {
             "outlinewidth": 0,
             "ticks": ""
            },
            "colorscale": [
             [
              0,
              "#0d0887"
             ],
             [
              0.1111111111111111,
              "#46039f"
             ],
             [
              0.2222222222222222,
              "#7201a8"
             ],
             [
              0.3333333333333333,
              "#9c179e"
             ],
             [
              0.4444444444444444,
              "#bd3786"
             ],
             [
              0.5555555555555556,
              "#d8576b"
             ],
             [
              0.6666666666666666,
              "#ed7953"
             ],
             [
              0.7777777777777778,
              "#fb9f3a"
             ],
             [
              0.8888888888888888,
              "#fdca26"
             ],
             [
              1,
              "#f0f921"
             ]
            ],
            "type": "histogram2dcontour"
           }
          ],
          "mesh3d": [
           {
            "colorbar": {
             "outlinewidth": 0,
             "ticks": ""
            },
            "type": "mesh3d"
           }
          ],
          "parcoords": [
           {
            "line": {
             "colorbar": {
              "outlinewidth": 0,
              "ticks": ""
             }
            },
            "type": "parcoords"
           }
          ],
          "pie": [
           {
            "automargin": true,
            "type": "pie"
           }
          ],
          "scatter": [
           {
            "fillpattern": {
             "fillmode": "overlay",
             "size": 10,
             "solidity": 0.2
            },
            "type": "scatter"
           }
          ],
          "scatter3d": [
           {
            "line": {
             "colorbar": {
              "outlinewidth": 0,
              "ticks": ""
             }
            },
            "marker": {
             "colorbar": {
              "outlinewidth": 0,
              "ticks": ""
             }
            },
            "type": "scatter3d"
           }
          ],
          "scattercarpet": [
           {
            "marker": {
             "colorbar": {
              "outlinewidth": 0,
              "ticks": ""
             }
            },
            "type": "scattercarpet"
           }
          ],
          "scattergeo": [
           {
            "marker": {
             "colorbar": {
              "outlinewidth": 0,
              "ticks": ""
             }
            },
            "type": "scattergeo"
           }
          ],
          "scattergl": [
           {
            "marker": {
             "colorbar": {
              "outlinewidth": 0,
              "ticks": ""
             }
            },
            "type": "scattergl"
           }
          ],
          "scattermapbox": [
           {
            "marker": {
             "colorbar": {
              "outlinewidth": 0,
              "ticks": ""
             }
            },
            "type": "scattermapbox"
           }
          ],
          "scatterpolar": [
           {
            "marker": {
             "colorbar": {
              "outlinewidth": 0,
              "ticks": ""
             }
            },
            "type": "scatterpolar"
           }
          ],
          "scatterpolargl": [
           {
            "marker": {
             "colorbar": {
              "outlinewidth": 0,
              "ticks": ""
             }
            },
            "type": "scatterpolargl"
           }
          ],
          "scatterternary": [
           {
            "marker": {
             "colorbar": {
              "outlinewidth": 0,
              "ticks": ""
             }
            },
            "type": "scatterternary"
           }
          ],
          "surface": [
           {
            "colorbar": {
             "outlinewidth": 0,
             "ticks": ""
            },
            "colorscale": [
             [
              0,
              "#0d0887"
             ],
             [
              0.1111111111111111,
              "#46039f"
             ],
             [
              0.2222222222222222,
              "#7201a8"
             ],
             [
              0.3333333333333333,
              "#9c179e"
             ],
             [
              0.4444444444444444,
              "#bd3786"
             ],
             [
              0.5555555555555556,
              "#d8576b"
             ],
             [
              0.6666666666666666,
              "#ed7953"
             ],
             [
              0.7777777777777778,
              "#fb9f3a"
             ],
             [
              0.8888888888888888,
              "#fdca26"
             ],
             [
              1,
              "#f0f921"
             ]
            ],
            "type": "surface"
           }
          ],
          "table": [
           {
            "cells": {
             "fill": {
              "color": "#EBF0F8"
             },
             "line": {
              "color": "white"
             }
            },
            "header": {
             "fill": {
              "color": "#C8D4E3"
             },
             "line": {
              "color": "white"
             }
            },
            "type": "table"
           }
          ]
         },
         "layout": {
          "annotationdefaults": {
           "arrowcolor": "#2a3f5f",
           "arrowhead": 0,
           "arrowwidth": 1
          },
          "autotypenumbers": "strict",
          "coloraxis": {
           "colorbar": {
            "outlinewidth": 0,
            "ticks": ""
           }
          },
          "colorscale": {
           "diverging": [
            [
             0,
             "#8e0152"
            ],
            [
             0.1,
             "#c51b7d"
            ],
            [
             0.2,
             "#de77ae"
            ],
            [
             0.3,
             "#f1b6da"
            ],
            [
             0.4,
             "#fde0ef"
            ],
            [
             0.5,
             "#f7f7f7"
            ],
            [
             0.6,
             "#e6f5d0"
            ],
            [
             0.7,
             "#b8e186"
            ],
            [
             0.8,
             "#7fbc41"
            ],
            [
             0.9,
             "#4d9221"
            ],
            [
             1,
             "#276419"
            ]
           ],
           "sequential": [
            [
             0,
             "#0d0887"
            ],
            [
             0.1111111111111111,
             "#46039f"
            ],
            [
             0.2222222222222222,
             "#7201a8"
            ],
            [
             0.3333333333333333,
             "#9c179e"
            ],
            [
             0.4444444444444444,
             "#bd3786"
            ],
            [
             0.5555555555555556,
             "#d8576b"
            ],
            [
             0.6666666666666666,
             "#ed7953"
            ],
            [
             0.7777777777777778,
             "#fb9f3a"
            ],
            [
             0.8888888888888888,
             "#fdca26"
            ],
            [
             1,
             "#f0f921"
            ]
           ],
           "sequentialminus": [
            [
             0,
             "#0d0887"
            ],
            [
             0.1111111111111111,
             "#46039f"
            ],
            [
             0.2222222222222222,
             "#7201a8"
            ],
            [
             0.3333333333333333,
             "#9c179e"
            ],
            [
             0.4444444444444444,
             "#bd3786"
            ],
            [
             0.5555555555555556,
             "#d8576b"
            ],
            [
             0.6666666666666666,
             "#ed7953"
            ],
            [
             0.7777777777777778,
             "#fb9f3a"
            ],
            [
             0.8888888888888888,
             "#fdca26"
            ],
            [
             1,
             "#f0f921"
            ]
           ]
          },
          "colorway": [
           "#636efa",
           "#EF553B",
           "#00cc96",
           "#ab63fa",
           "#FFA15A",
           "#19d3f3",
           "#FF6692",
           "#B6E880",
           "#FF97FF",
           "#FECB52"
          ],
          "font": {
           "color": "#2a3f5f"
          },
          "geo": {
           "bgcolor": "white",
           "lakecolor": "white",
           "landcolor": "#E5ECF6",
           "showlakes": true,
           "showland": true,
           "subunitcolor": "white"
          },
          "hoverlabel": {
           "align": "left"
          },
          "hovermode": "closest",
          "mapbox": {
           "style": "light"
          },
          "paper_bgcolor": "white",
          "plot_bgcolor": "#E5ECF6",
          "polar": {
           "angularaxis": {
            "gridcolor": "white",
            "linecolor": "white",
            "ticks": ""
           },
           "bgcolor": "#E5ECF6",
           "radialaxis": {
            "gridcolor": "white",
            "linecolor": "white",
            "ticks": ""
           }
          },
          "scene": {
           "xaxis": {
            "backgroundcolor": "#E5ECF6",
            "gridcolor": "white",
            "gridwidth": 2,
            "linecolor": "white",
            "showbackground": true,
            "ticks": "",
            "zerolinecolor": "white"
           },
           "yaxis": {
            "backgroundcolor": "#E5ECF6",
            "gridcolor": "white",
            "gridwidth": 2,
            "linecolor": "white",
            "showbackground": true,
            "ticks": "",
            "zerolinecolor": "white"
           },
           "zaxis": {
            "backgroundcolor": "#E5ECF6",
            "gridcolor": "white",
            "gridwidth": 2,
            "linecolor": "white",
            "showbackground": true,
            "ticks": "",
            "zerolinecolor": "white"
           }
          },
          "shapedefaults": {
           "line": {
            "color": "#2a3f5f"
           }
          },
          "ternary": {
           "aaxis": {
            "gridcolor": "white",
            "linecolor": "white",
            "ticks": ""
           },
           "baxis": {
            "gridcolor": "white",
            "linecolor": "white",
            "ticks": ""
           },
           "bgcolor": "#E5ECF6",
           "caxis": {
            "gridcolor": "white",
            "linecolor": "white",
            "ticks": ""
           }
          },
          "title": {
           "x": 0.05
          },
          "xaxis": {
           "automargin": true,
           "gridcolor": "white",
           "linecolor": "white",
           "ticks": "",
           "title": {
            "standoff": 15
           },
           "zerolinecolor": "white",
           "zerolinewidth": 2
          },
          "yaxis": {
           "automargin": true,
           "gridcolor": "white",
           "linecolor": "white",
           "ticks": "",
           "title": {
            "standoff": 15
           },
           "zerolinecolor": "white",
           "zerolinewidth": 2
          }
         }
        },
        "xaxis": {
         "anchor": "y",
         "autorange": true,
         "domain": [
          0,
          1
         ],
         "range": [
          -0.5,
          40.5
         ],
         "title": {
          "text": "pays"
         },
         "type": "category"
        },
        "yaxis": {
         "anchor": "x",
         "autorange": true,
         "domain": [
          0,
          1
         ],
         "range": [
          0,
          266.3157894736842
         ],
         "title": {
          "text": "count"
         }
        }
       }
      },
      "image/png": "[encoded data removed]",
      "text/html": [
       "<div>                            <div id=\"69ff46e6-cbbe-4447-9613-c831c7ed47a2\" class=\"plotly-graph-div\" style=\"height:525px; width:100%;\"></div>            <script type=\"text/javascript\">                require([\"plotly\"], function(Plotly) {                    window.PLOTLYENV=window.PLOTLYENV || {};                                    if (document.getElementById(\"69ff46e6-cbbe-4447-9613-c831c7ed47a2\")) {                    Plotly.newPlot(                        \"69ff46e6-cbbe-4447-9613-c831c7ed47a2\",                        [{\"alignmentgroup\":\"True\",\"bingroup\":\"x\",\"hovertemplate\":\"pays=%{x}<br>count=%{y}<extra></extra>\",\"legendgroup\":\"\",\"marker\":{\"color\":\"#636efa\",\"pattern\":{\"shape\":\"\"}},\"name\":\"\",\"offsetgroup\":\"\",\"orientation\":\"v\",\"showlegend\":false,\"x\":[\"Finland\",\"Finland\",\"United States of America\",\"United States of America\",\"Austria\",\"Germany\",\"United States of America\",\"United States of America\",\"United States of America\",\"United States of America\",\"United States of America\",\"Argentina\",\"Denmark\",\"Finland\",\"France\",\"Germany\",\"Iceland\",\"Italy\",\"Netherlands\",\"Norway\",\"Sweden\",\"United Kingdom\",\"United States of America\",\"Germany\",\"United Kingdom\",\"France\",\"United Kingdom\",\"Germany\",\"Canada\",\"Spain\",\"United States of America\",\"United States of America\",\"United States of America\",\"United Kingdom\",\"United States of America\",\"Israel\",\"Sweden\",\"United Kingdom\",\"United States of America\",\"United States of America\",\"South Korea\",\"United States of America\",\"United States of America\",\"Mexico\",\"United States of America\",\"United States of America\",\"Canada\",\"Germany\",\"United Kingdom\",\"United States of America\",\"United States of America\",\"Spain\",\"Germany\",\"United States of America\",\"United States of America\",\"France\",\"Germany\",\"Netherlands\",\"Palestinian Territory\",\"United Kingdom\",\"United States of America\",\"Germany\",\"United States of America\",\"United States of America\",\"France\",\"United Kingdom\",\"United States of America\",\"United States of America\",\"United States of America\",\"United States of America\",\"Austria\",\"Switzerland\",\"United States of America\",\"United States of America\",\"United States of America\",\"Hong Kong\",\"United Kingdom\",\"China\",\"United States of America\",\"Japan\",\"Uruguay\",\"United States of America\",\"Germany\",\"Paraguay\",\"United States of America\",\"United States of America\",\"Germany\",\"United States of America\",\"United States of America\",\"United States of America\",\"United States of America\",\"France\",\"Spain\",\"Austria\",\"Switzerland\",\"United States of America\",\"Germany\",\"United States of America\",\"United States of America\",\"United States of America\",\"United Kingdom\",\"United States of America\",\"Spain\",\"France\",\"United Kingdom\",\"United States of America\",\"France\",\"Denmark\",\"United States of America\",\"Germany\",\"United States of America\",\"United States of America\",\"United Kingdom\",\"United States of America\",\"France\",\"Poland\",\"Switzerland\",\"France\",\"Poland\",\"France\",\"Poland\",\"Switzerland\",\"United States of America\",\"Denmark\",\"Sweden\",\"South Korea\",\"Germany\",\"United States of America\",\"United Kingdom\",\"United States of America\",\"France\",\"Ireland\",\"Luxembourg\",\"United Kingdom\",\"United States of America\",\"United States of America\",\"United Kingdom\",\"United States of America\",\"New Zealand\",\"United States of America\",\"New Zealand\",\"United States of America\",\"New Zealand\",\"United States of America\",\"Spain\",\"United Kingdom\",\"United States of America\",\"Poland\",\"Poland\",\"Poland\",\"Poland\",\"Japan\",\"Japan\",\"United States of America\",\"United States of America\",\"United States of America\",\"United Kingdom\",\"United States of America\",\"United States of America\",\"United States of America\",\"United States of America\",\"Denmark\",\"Sweden\",\"Spain\",\"United States of America\",\"Canada\",\"United States of America\",\"United States of America\",\"France\",\"Germany\",\"Denmark\",\"France\",\"Iceland\",\"Netherlands\",\"Norway\",\"Spain\",\"Sweden\",\"United Kingdom\",\"China\",\"Hong Kong\",\"Taiwan\",\"United States of America\",\"France\",\"Spain\",\"Japan\",\"United States of America\",\"United States of America\",\"Japan\",\"United Kingdom\",\"United States of America\",\"United States of America\",\"United Kingdom\",\"United States of America\",\"Denmark\",\"France\",\"United Kingdom\",\"Sweden\",\"United States of America\",\"Germany\",\"Germany\",\"France\",\"United States of America\",\"United States of America\",\"United States of America\",\"United States of America\",\"United States of America\",\"France\",\"Germany\",\"United Kingdom\",\"United States of America\",\"United States of America\",\"United States of America\",\"United Kingdom\",\"France\",\"United States of America\",\"United States of America\",\"United States of America\",\"France\",\"Italy\",\"United States of America\",\"United States of America\",\"United States of America\",\"United States of America\",\"France\",\"Germany\",\"United Kingdom\",\"United States of America\",\"United States of America\",\"United States of America\",\"United States of America\",\"United States of America\",\"United Kingdom\",\"United States of America\",\"Canada\",\"Germany\",\"United Kingdom\",\"United States of America\",\"United States of America\",\"United States of America\",\"Germany\",\"Germany\",\"Germany\",\"France\",\"Italy\",\"United States of America\",\"France\",\"Germany\",\"United States of America\",\"United States of America\",\"United States of America\",\"United States of America\",\"United States of America\",\"United States of America\",\"United States of America\",\"United States of America\",\"France\",\"Italy\",\"Italy\",\"South Africa\",\"United Kingdom\",\"United States of America\",\"Australia\",\"Germany\",\"France\",\"United Kingdom\",\"United States of America\",\"Germany\",\"Argentina\",\"United States of America\",\"United States of America\",\"United States of America\",\"United States of America\",\"Germany\",\"United States of America\",\"United Kingdom\",\"United States of America\",\"Spain\",\"United States of America\",\"United States of America\",\"Germany\",\"United States of America\",\"Poland\",\"Poland\",\"United States of America\",\"United States of America\",\"Germany\",\"United States of America\",\"United States of America\",\"United States of America\",\"United States of America\",\"Germany\",\"United States of America\",\"Australia\",\"France\",\"France\",\"United Kingdom\",\"United States of America\",\"United States of America\",\"United States of America\",\"United States of America\",\"United States of America\",\"United Kingdom\",\"United States of America\",\"United States of America\",\"United Kingdom\",\"United States of America\",\"Japan\",\"United States of America\",\"United States of America\",\"United States of America\",\"Denmark\",\"United States of America\",\"United States of America\",\"United Kingdom\",\"New Zealand\",\"United States of America\",\"Germany\",\"France\",\"France\",\"Czech Republic\",\"France\",\"Italy\",\"United Kingdom\",\"France\",\"Italy\",\"France\",\"United Kingdom\",\"United States of America\",\"United States of America\",\"Germany\",\"France\",\"Italy\",\"Spain\",\"France\",\"United States of America\",\"France\",\"Germany\",\"Sweden\",\"Norway\",\"United Kingdom\",\"United States of America\",\"Germany\",\"United States of America\",\"United Kingdom\",\"United States of America\",\"Austria\",\"Germany\",\"Germany\",\"Hungary\",\"United Kingdom\",\"United States of America\",\"United States of America\",\"United States of America\",\"France\",\"United States of America\",\"United States of America\",\"United States of America\",\"United States of America\",\"Germany\",\"United States of America\",\"United States of America\",\"United States of America\",\"United Kingdom\",\"United States of America\",\"France\",\"United States of America\",\"United States of America\",\"United States of America\",\"United States of America\",\"Germany\",\"United Kingdom\",\"United States of America\",\"United States of America\",\"United States of America\",\"United States of America\",\"France\",\"Italy\",\"United States of America\",\"France\",\"United Kingdom\",\"United States of America\",\"United States of America\",\"Italy\",\"France\",\"United States of America\",\"Denmark\",\"Sweden\",\"United States of America\",\"United States of America\",\"Italy\",\"Germany\",\"Canada\",\"United Kingdom\",\"United States of America\",\"United States of America\",\"Germany\",\"Bosnia and Herzegovina\",\"Austria\",\"Germany\",\"Croatia\",\"United States of America\",\"Germany\",\"United States of America\",\"United States of America\",\"Canada\",\"United States of America\",\"United States of America\",\"United States of America\",\"Japan\",\"United Kingdom\",\"United States of America\",\"United States of America\",\"United States of America\",\"United States of America\",\"Canada\",\"United States of America\",\"Italy\",\"United States of America\",\"Spain\",\"Italy\",\"France\",\"Germany\",\"Germany\",\"France\",\"Japan\",\"United Kingdom\",\"United States of America\",\"United States of America\",\"France\",\"United States of America\",\"Germany\",\"United States of America\",\"Germany\",\"United Kingdom\",\"United States of America\",\"Japan\",\"Germany\",\"United States of America\",\"United Kingdom\",\"France\",\"France\",\"United States of America\",\"Germany\",\"Germany\",\"Turkey\",\"United States of America\",\"United States of America\",\"United Kingdom\",\"United States of America\",\"United States of America\",\"United States of America\",\"United States of America\",\"United States of America\",\"Germany\",\"United States of America\",\"United States of America\",\"Germany\",\"Portugal\",\"Germany\",\"Spain\",\"Italy\",\"United Kingdom\",\"United States of America\",\"United States of America\",\"Germany\",\"Canada\",\"Czech Republic\",\"United States of America\",\"United States of America\",\"United Kingdom\",\"United States of America\",\"Canada\",\"United States of America\",\"United States of America\",\"United States of America\",\"France\",\"United States of America\",\"United States of America\",\"United States of America\",\"Italy\",\"France\",\"Germany\",\"United States of America\",\"United Kingdom\",\"United States of America\",\"Germany\",\"United Kingdom\",\"United States of America\",\"United States of America\",\"United States of America\",\"Germany\",\"United States of America\",\"Italy\",\"France\",\"France\",\"Germany\",\"Poland\",\"United Kingdom\",\"United States of America\",\"United States of America\",\"United States of America\",\"France\",\"Italy\",\"Germany\",\"United States of America\",\"Italy\",\"Spain\",\"Germany\",\"United States of America\",\"Canada\",\"United States of America\",\"Germany\",\"United States of America\",\"Ecuador\",\"Colombia\",\"United States of America\",\"Canada\",\"Canada\",\"France\",\"Italy\",\"United States of America\",\"United States of America\",\"Denmark\",\"Finland\",\"Sweden\",\"Austria\",\"France\",\"Germany\",\"Italy\",\"Germany\",\"United States of America\",\"Denmark\",\"France\",\"Germany\",\"Italy\",\"Netherlands\",\"Spain\",\"Sweden\",\"United States of America\",\"Mexico\",\"United States of America\",\"Germany\",\"United Kingdom\",\"United States of America\",\"Austria\",\"Austria\",\"Germany\",\"Germany\",\"Austria\",\"Germany\",\"United States of America\",\"Denmark\",\"Sweden\",\"France\",\"United States of America\",\"United Kingdom\",\"United States of America\",\"Germany\",\"United States of America\",\"United States of America\",\"Germany\",\"France\",\"Poland\",\"United States of America\",\"United States of America\",\"United States of America\",\"Germany\",\"United States of America\",\"France\",\"Germany\",\"India\",\"Italy\",\"United States of America\",\"Spain\",\"United States of America\",\"United States of America\",\"United Kingdom\",\"United States of America\",\"United States of America\",\"Sweden\",\"Germany\",\"United States of America\",\"United States of America\",\"United States of America\",\"United Kingdom\",\"United States of America\",\"United States of America\",\"France\",\"Italy\"],\"xaxis\":\"x\",\"yaxis\":\"y\",\"type\":\"histogram\"}],                        {\"template\":{\"data\":{\"histogram2dcontour\":[{\"type\":\"histogram2dcontour\",\"colorbar\":{\"outlinewidth\":0,\"ticks\":\"\"},\"colorscale\":[[0.0,\"#0d0887\"],[0.1111111111111111,\"#46039f\"],[0.2222222222222222,\"#7201a8\"],[0.3333333333333333,\"#9c179e\"],[0.4444444444444444,\"#bd3786\"],[0.5555555555555556,\"#d8576b\"],[0.6666666666666666,\"#ed7953\"],[0.7777777777777778,\"#fb9f3a\"],[0.8888888888888888,\"#fdca26\"],[1.0,\"#f0f921\"]]}],\"choropleth\":[{\"type\":\"choropleth\",\"colorbar\":{\"outlinewidth\":0,\"ticks\":\"\"}}],\"histogram2d\":[{\"type\":\"histogram2d\",\"colorbar\":{\"outlinewidth\":0,\"ticks\":\"\"},\"colorscale\":[[0.0,\"#0d0887\"],[0.1111111111111111,\"#46039f\"],[0.2222222222222222,\"#7201a8\"],[0.3333333333333333,\"#9c179e\"],[0.4444444444444444,\"#bd3786\"],[0.5555555555555556,\"#d8576b\"],[0.6666666666666666,\"#ed7953\"],[0.7777777777777778,\"#fb9f3a\"],[0.8888888888888888,\"#fdca26\"],[1.0,\"#f0f921\"]]}],\"heatmap\":[{\"type\":\"heatmap\",\"colorbar\":{\"outlinewidth\":0,\"ticks\":\"\"},\"colorscale\":[[0.0,\"#0d0887\"],[0.1111111111111111,\"#46039f\"],[0.2222222222222222,\"#7201a8\"],[0.3333333333333333,\"#9c179e\"],[0.4444444444444444,\"#bd3786\"],[0.5555555555555556,\"#d8576b\"],[0.6666666666666666,\"#ed7953\"],[0.7777777777777778,\"#fb9f3a\"],[0.8888888888888888,\"#fdca26\"],[1.0,\"#f0f921\"]]}],\"heatmapgl\":[{\"type\":\"heatmapgl\",\"colorbar\":{\"outlinewidth\":0,\"ticks\":\"\"},\"colorscale\":[[0.0,\"#0d0887\"],[0.1111111111111111,\"#46039f\"],[0.2222222222222222,\"#7201a8\"],[0.3333333333333333,\"#9c179e\"],[0.4444444444444444,\"#bd3786\"],[0.5555555555555556,\"#d8576b\"],[0.6666666666666666,\"#ed7953\"],[0.7777777777777778,\"#fb9f3a\"],[0.8888888888888888,\"#fdca26\"],[1.0,\"#f0f921\"]]}],\"contourcarpet\":[{\"type\":\"contourcarpet\",\"colorbar\":{\"outlinewidth\":0,\"ticks\":\"\"}}],\"contour\":[{\"type\":\"contour\",\"colorbar\":{\"outlinewidth\":0,\"ticks\":\"\"},\"colorscale\":[[0.0,\"#0d0887\"],[0.1111111111111111,\"#46039f\"],[0.2222222222222222,\"#7201a8\"],[0.3333333333333333,\"#9c179e\"],[0.4444444444444444,\"#bd3786\"],[0.5555555555555556,\"#d8576b\"],[0.6666666666666666,\"#ed7953\"],[0.7777777777777778,\"#fb9f3a\"],[0.8888888888888888,\"#fdca26\"],[1.0,\"#f0f921\"]]}],\"surface\":[{\"type\":\"surface\",\"colorbar\":{\"outlinewidth\":0,\"ticks\":\"\"},\"colorscale\":[[0.0,\"#0d0887\"],[0.1111111111111111,\"#46039f\"],[0.2222222222222222,\"#7201a8\"],[0.3333333333333333,\"#9c179e\"],[0.4444444444444444,\"#bd3786\"],[0.5555555555555556,\"#d8576b\"],[0.6666666666666666,\"#ed7953\"],[0.7777777777777778,\"#fb9f3a\"],[0.8888888888888888,\"#fdca26\"],[1.0,\"#f0f921\"]]}],\"mesh3d\":[{\"type\":\"mesh3d\",\"colorbar\":{\"outlinewidth\":0,\"ticks\":\"\"}}],\"scatter\":[{\"fillpattern\":{\"fillmode\":\"overlay\",\"size\":10,\"solidity\":0.2},\"type\":\"scatter\"}],\"parcoords\":[{\"type\":\"parcoords\",\"line\":{\"colorbar\":{\"outlinewidth\":0,\"ticks\":\"\"}}}],\"scatterpolargl\":[{\"type\":\"scatterpolargl\",\"marker\":{\"colorbar\":{\"outlinewidth\":0,\"ticks\":\"\"}}}],\"bar\":[{\"error_x\":{\"color\":\"#2a3f5f\"},\"error_y\":{\"color\":\"#2a3f5f\"},\"marker\":{\"line\":{\"color\":\"#E5ECF6\",\"width\":0.5},\"pattern\":{\"fillmode\":\"overlay\",\"size\":10,\"solidity\":0.2}},\"type\":\"bar\"}],\"scattergeo\":[{\"type\":\"scattergeo\",\"marker\":{\"colorbar\":{\"outlinewidth\":0,\"ticks\":\"\"}}}],\"scatterpolar\":[{\"type\":\"scatterpolar\",\"marker\":{\"colorbar\":{\"outlinewidth\":0,\"ticks\":\"\"}}}],\"histogram\":[{\"marker\":{\"pattern\":{\"fillmode\":\"overlay\",\"size\":10,\"solidity\":0.2}},\"type\":\"histogram\"}],\"scattergl\":[{\"type\":\"scattergl\",\"marker\":{\"colorbar\":{\"outlinewidth\":0,\"ticks\":\"\"}}}],\"scatter3d\":[{\"type\":\"scatter3d\",\"line\":{\"colorbar\":{\"outlinewidth\":0,\"ticks\":\"\"}},\"marker\":{\"colorbar\":{\"outlinewidth\":0,\"ticks\":\"\"}}}],\"scattermapbox\":[{\"type\":\"scattermapbox\",\"marker\":{\"colorbar\":{\"outlinewidth\":0,\"ticks\":\"\"}}}],\"scatterternary\":[{\"type\":\"scatterternary\",\"marker\":{\"colorbar\":{\"outlinewidth\":0,\"ticks\":\"\"}}}],\"scattercarpet\":[{\"type\":\"scattercarpet\",\"marker\":{\"colorbar\":{\"outlinewidth\":0,\"ticks\":\"\"}}}],\"carpet\":[{\"aaxis\":{\"endlinecolor\":\"#2a3f5f\",\"gridcolor\":\"white\",\"linecolor\":\"white\",\"minorgridcolor\":\"white\",\"startlinecolor\":\"#2a3f5f\"},\"baxis\":{\"endlinecolor\":\"#2a3f5f\",\"gridcolor\":\"white\",\"linecolor\":\"white\",\"minorgridcolor\":\"white\",\"startlinecolor\":\"#2a3f5f\"},\"type\":\"carpet\"}],\"table\":[{\"cells\":{\"fill\":{\"color\":\"#EBF0F8\"},\"line\":{\"color\":\"white\"}},\"header\":{\"fill\":{\"color\":\"#C8D4E3\"},\"line\":{\"color\":\"white\"}},\"type\":\"table\"}],\"barpolar\":[{\"marker\":{\"line\":{\"color\":\"#E5ECF6\",\"width\":0.5},\"pattern\":{\"fillmode\":\"overlay\",\"size\":10,\"solidity\":0.2}},\"type\":\"barpolar\"}],\"pie\":[{\"automargin\":true,\"type\":\"pie\"}]},\"layout\":{\"autotypenumbers\":\"strict\",\"colorway\":[\"#636efa\",\"#EF553B\",\"#00cc96\",\"#ab63fa\",\"#FFA15A\",\"#19d3f3\",\"#FF6692\",\"#B6E880\",\"#FF97FF\",\"#FECB52\"],\"font\":{\"color\":\"#2a3f5f\"},\"hovermode\":\"closest\",\"hoverlabel\":{\"align\":\"left\"},\"paper_bgcolor\":\"white\",\"plot_bgcolor\":\"#E5ECF6\",\"polar\":{\"bgcolor\":\"#E5ECF6\",\"angularaxis\":{\"gridcolor\":\"white\",\"linecolor\":\"white\",\"ticks\":\"\"},\"radialaxis\":{\"gridcolor\":\"white\",\"linecolor\":\"white\",\"ticks\":\"\"}},\"ternary\":{\"bgcolor\":\"#E5ECF6\",\"aaxis\":{\"gridcolor\":\"white\",\"linecolor\":\"white\",\"ticks\":\"\"},\"baxis\":{\"gridcolor\":\"white\",\"linecolor\":\"white\",\"ticks\":\"\"},\"caxis\":{\"gridcolor\":\"white\",\"linecolor\":\"white\",\"ticks\":\"\"}},\"coloraxis\":{\"colorbar\":{\"outlinewidth\":0,\"ticks\":\"\"}},\"colorscale\":{\"sequential\":[[0.0,\"#0d0887\"],[0.1111111111111111,\"#46039f\"],[0.2222222222222222,\"#7201a8\"],[0.3333333333333333,\"#9c179e\"],[0.4444444444444444,\"#bd3786\"],[0.5555555555555556,\"#d8576b\"],[0.6666666666666666,\"#ed7953\"],[0.7777777777777778,\"#fb9f3a\"],[0.8888888888888888,\"#fdca26\"],[1.0,\"#f0f921\"]],\"sequentialminus\":[[0.0,\"#0d0887\"],[0.1111111111111111,\"#46039f\"],[0.2222222222222222,\"#7201a8\"],[0.3333333333333333,\"#9c179e\"],[0.4444444444444444,\"#bd3786\"],[0.5555555555555556,\"#d8576b\"],[0.6666666666666666,\"#ed7953\"],[0.7777777777777778,\"#fb9f3a\"],[0.8888888888888888,\"#fdca26\"],[1.0,\"#f0f921\"]],\"diverging\":[[0,\"#8e0152\"],[0.1,\"#c51b7d\"],[0.2,\"#de77ae\"],[0.3,\"#f1b6da\"],[0.4,\"#fde0ef\"],[0.5,\"#f7f7f7\"],[0.6,\"#e6f5d0\"],[0.7,\"#b8e186\"],[0.8,\"#7fbc41\"],[0.9,\"#4d9221\"],[1,\"#276419\"]]},\"xaxis\":{\"gridcolor\":\"white\",\"linecolor\":\"white\",\"ticks\":\"\",\"title\":{\"standoff\":15},\"zerolinecolor\":\"white\",\"automargin\":true,\"zerolinewidth\":2},\"yaxis\":{\"gridcolor\":\"white\",\"linecolor\":\"white\",\"ticks\":\"\",\"title\":{\"standoff\":15},\"zerolinecolor\":\"white\",\"automargin\":true,\"zerolinewidth\":2},\"scene\":{\"xaxis\":{\"backgroundcolor\":\"#E5ECF6\",\"gridcolor\":\"white\",\"linecolor\":\"white\",\"showbackground\":true,\"ticks\":\"\",\"zerolinecolor\":\"white\",\"gridwidth\":2},\"yaxis\":{\"backgroundcolor\":\"#E5ECF6\",\"gridcolor\":\"white\",\"linecolor\":\"white\",\"showbackground\":true,\"ticks\":\"\",\"zerolinecolor\":\"white\",\"gridwidth\":2},\"zaxis\":{\"backgroundcolor\":\"#E5ECF6\",\"gridcolor\":\"white\",\"linecolor\":\"white\",\"showbackground\":true,\"ticks\":\"\",\"zerolinecolor\":\"white\",\"gridwidth\":2}},\"shapedefaults\":{\"line\":{\"color\":\"#2a3f5f\"}},\"annotationdefaults\":{\"arrowcolor\":\"#2a3f5f\",\"arrowhead\":0,\"arrowwidth\":1},\"geo\":{\"bgcolor\":\"white\",\"landcolor\":\"#E5ECF6\",\"subunitcolor\":\"white\",\"showland\":true,\"showlakes\":true,\"lakecolor\":\"white\"},\"title\":{\"x\":0.05},\"mapbox\":{\"style\":\"light\"}}},\"xaxis\":{\"anchor\":\"y\",\"domain\":[0.0,1.0],\"title\":{\"text\":\"pays\"}},\"yaxis\":{\"anchor\":\"x\",\"domain\":[0.0,1.0],\"title\":{\"text\":\"count\"}},\"legend\":{\"tracegroupgap\":0},\"margin\":{\"t\":60},\"barmode\":\"relative\"},                        {\"responsive\": true}                    ).then(function(){\n",
       "                            \n",
       "var gd = document.getElementById('69ff46e6-cbbe-4447-9613-c831c7ed47a2');\n",
       "var x = new MutationObserver(function (mutations, observer) {{\n",
       "        var display = window.getComputedStyle(gd).display;\n",
       "        if (!display || display === 'none') {{\n",
       "            console.log([gd, 'removed!']);\n",
       "            Plotly.purge(gd);\n",
       "            observer.disconnect();\n",
       "        }}\n",
       "}});\n",
       "\n",
       "// Listen for the removal of the full notebook cells\n",
       "var notebookContainer = gd.closest('#notebook-container');\n",
       "if (notebookContainer) {{\n",
       "    x.observe(notebookContainer, {childList: true});\n",
       "}}\n",
       "\n",
       "// Listen for the clearing of the current output cell\n",
       "var outputEl = gd.closest('.output');\n",
       "if (outputEl) {{\n",
       "    x.observe(outputEl, {childList: true});\n",
       "}}\n",
       "\n",
       "                        })                };                });            </script>        </div>"
      ]
     },
     "metadata": {},
     "output_type": "display_data"
    }
   ],
   "source": [
    "# The most represented countries\n",
    "pays = df_movies[\"production_countries\"]\n",
    "\n",
    "acc_pays= []\n",
    "for countries in range(len(pays)):\n",
    "    acc_pays.extend(pays[countries])\n",
    "\n",
    "colums=[\"pays\"]\n",
    "data=acc_pays\n",
    "\n",
    "df_countries=pd.DataFrame(data=acc_pays, columns=colums)\n",
    "\n",
    "px.histogram(df_countries, x=\"pays\")"
   ]
  },
  {
   "cell_type": "code",
   "execution_count": 351,
   "id": "f5ba6e21-2a77-45da-abac-c79957ecf07d",
   "metadata": {},
   "outputs": [
    {
     "data": {
      "application/vnd.plotly.v1+json": {
       "config": {
        "plotlyServerURL": "https://plot.ly"
       },
       "data": [
        {
         "alignmentgroup": "True",
         "bingroup": "x",
         "hovertemplate": "genres=%{x}<br>count=%{y}<extra></extra>",
         "legendgroup": "",
         "marker": {
          "color": "#636efa",
          "pattern": {
           "shape": ""
          }
         },
         "name": "",
         "offsetgroup": "",
         "orientation": "v",
         "showlegend": false,
         "type": "histogram",
         "x": [
          "Drama",
          "Comedy",
          "Crime",
          "Drama",
          "Comedy",
          "Romance",
          "Crime",
          "Comedy",
          "Action",
          "Crime",
          "Thriller",
          "Documentary",
          "Drama",
          "Adventure",
          "Action",
          "Science Fiction",
          "Animation",
          "Family",
          "Comedy",
          "Drama",
          "Romance",
          "Drama",
          "Mystery",
          "Drama",
          "Drama",
          "Crime",
          "Horror",
          "Thriller",
          "Mystery",
          "Adventure",
          "Fantasy",
          "Action",
          "Thriller",
          "Science Fiction",
          "Drama",
          "Science Fiction",
          "Drama",
          "Romance",
          "Documentary",
          "Adventure",
          "Fantasy",
          "Action",
          "Action",
          "Crime",
          "Drama",
          "War",
          "Drama",
          "Drama",
          "Music",
          "Romance",
          "Drama",
          "War",
          "Western",
          "Animation",
          "Comedy",
          "Family",
          "Science Fiction",
          "Drama",
          "Romance",
          "Drama",
          "Thriller",
          "Adventure",
          "Fantasy",
          "Action",
          "Drama",
          "Thriller",
          "Crime",
          "Science Fiction",
          "Mystery",
          "Adventure",
          "Science Fiction",
          "Thriller",
          "Mystery",
          "Drama",
          "Romance",
          "Music",
          "Drama",
          "Crime",
          "Drama",
          "Action",
          "Thriller",
          "Crime",
          "Drama",
          "Comedy",
          "Science Fiction",
          "Drama",
          "Music",
          "Romance",
          "Drama",
          "Drama",
          "Comedy",
          "Music",
          "Drama",
          "Adventure",
          "Thriller",
          "Science Fiction",
          "Comedy",
          "Fantasy",
          "Science Fiction",
          "Drama",
          "Romance",
          "Mystery",
          "Thriller",
          "Science Fiction",
          "Drama",
          "Thriller",
          "Drama",
          "Adventure",
          "Action",
          "History",
          "Drama",
          "Romance",
          "Adventure",
          "Animation",
          "Fantasy",
          "Action",
          "Crime",
          "Thriller",
          "Drama",
          "Thriller",
          "Horror",
          "Adventure",
          "Action",
          "Drama",
          "Romance",
          "Adventure",
          "Action",
          "Drama",
          "Music",
          "Romance",
          "Adventure",
          "Action",
          "Action",
          "Comedy",
          "Crime",
          "Documentary",
          "Documentary",
          "Crime",
          "Drama",
          "Mystery",
          "Thriller",
          "Comedy",
          "Action",
          "Thriller",
          "Science Fiction",
          "Adventure",
          "Action",
          "Comedy",
          "Crime",
          "Science Fiction",
          "Action",
          "Adventure",
          "Action",
          "Drama",
          "Adventure",
          "Comedy",
          "Drama",
          "Comedy",
          "Crime",
          "Crime",
          "Drama",
          "Action",
          "Drama",
          "Romance",
          "Crime",
          "Drama",
          "Action",
          "Drama",
          "Thriller",
          "Adventure",
          "Comedy",
          "Science Fiction",
          "Science Fiction",
          "Action",
          "Adventure",
          "Thriller",
          "Crime",
          "Comedy",
          "Drama",
          "Comedy",
          "Drama",
          "Mystery",
          "Drama",
          "Mystery",
          "Romance",
          "Action",
          "Crime",
          "Drama",
          "Comedy",
          "Drama",
          "Romance",
          "Drama",
          "Romance",
          "Comedy",
          "Comedy",
          "Crime",
          "Drama",
          "Thriller",
          "Crime",
          "Romance",
          "Crime",
          "Drama",
          "History",
          "Thriller",
          "Adventure",
          "Comedy",
          "Family",
          "Fantasy",
          "Adventure",
          "Fantasy",
          "Action",
          "Adventure",
          "Fantasy",
          "Action",
          "Adventure",
          "Fantasy",
          "Action",
          "Adventure",
          "Animation",
          "Fantasy",
          "Drama",
          "Documentary",
          "Drama",
          "TV Movie",
          "Drama",
          "Adventure",
          "Fantasy",
          "Animation",
          "Animation",
          "Family",
          "Fantasy",
          "Documentary",
          "Music",
          "Documentary",
          "Adventure",
          "Comedy",
          "Crime",
          "Documentary",
          "Music",
          "Drama",
          "Horror",
          "Romance",
          "Fantasy",
          "Drama",
          "Comedy",
          "Horror",
          "Drama",
          "Fantasy",
          "Drama",
          "Comedy",
          "Romance",
          "Crime",
          "Drama",
          "Fantasy",
          "Drama",
          "Mystery",
          "Drama",
          "Romance",
          "Drama",
          "War",
          "Drama",
          "Fantasy",
          "Romance",
          "Drama",
          "Romance",
          "Adventure",
          "Drama",
          "Action",
          "Romance",
          "Drama",
          "Romance",
          "Drama",
          "Animation",
          "Science Fiction",
          "Action",
          "Thriller",
          "Action",
          "Comedy",
          "Crime",
          "Drama",
          "Science Fiction",
          "Adventure",
          "Mystery",
          "Comedy",
          "Drama",
          "Romance",
          "Action",
          "Adventure",
          "Science Fiction",
          "Thriller",
          "Drama",
          "Action",
          "Crime",
          "Thriller",
          "Comedy",
          "Drama",
          "Romance",
          "Science Fiction",
          "Action",
          "Adventure",
          "Thriller",
          "Comedy",
          "Crime",
          "Comedy",
          "Drama",
          "Documentary",
          "Thriller",
          "Crime",
          "Fantasy",
          "Drama",
          "Romance",
          "Thriller",
          "Crime",
          "Comedy",
          "Romance",
          "Adventure",
          "Comedy",
          "Science Fiction",
          "Drama",
          "Romance",
          "Comedy",
          "Science Fiction",
          "Drama",
          "Science Fiction",
          "Adventure",
          "Science Fiction",
          "Action",
          "Thriller",
          "Horror",
          "Thriller",
          "Science Fiction",
          "Comedy",
          "Romance",
          "Drama",
          "Science Fiction",
          "Action",
          "Adventure",
          "Thriller",
          "Adventure",
          "Drama",
          "Family",
          "Fantasy",
          "Science Fiction",
          "Action",
          "Science Fiction",
          "Action",
          "Adventure",
          "Thriller",
          "Adventure",
          "Drama",
          "Romance",
          "Horror",
          "Mystery",
          "Crime",
          "Comedy",
          "Drama",
          "Action",
          "Crime",
          "Thriller",
          "Action",
          "Thriller",
          "Science Fiction",
          "Mystery",
          "Drama",
          "War",
          "Thriller",
          "Mystery",
          "Adventure",
          "Comedy",
          "Drama",
          "Family",
          "Crime",
          "Thriller",
          "Drama",
          "Science Fiction",
          "Drama",
          "Drama",
          "Thriller",
          "Crime",
          "Mystery",
          "Thriller",
          "Action",
          "Crime",
          "Crime",
          "Action",
          "Thriller",
          "Documentary",
          "Drama",
          "Drama",
          "Thriller",
          "Mystery",
          "Science Fiction",
          "Action",
          "Adventure",
          "Thriller",
          "Comedy",
          "Romance",
          "Comedy",
          "Crime",
          "Romance",
          "Adventure",
          "Comedy",
          "Science Fiction",
          "Action",
          "Drama",
          "History",
          "War",
          "Comedy",
          "War",
          "Science Fiction",
          "Action",
          "Adventure",
          "Thriller",
          "Science Fiction",
          "Action",
          "Adventure",
          "Thriller",
          "Science Fiction",
          "Action",
          "Adventure",
          "Thriller",
          "Drama",
          "Crime",
          "Drama",
          "Thriller",
          "Adventure",
          "Drama",
          "History",
          "War",
          "Drama",
          "Drama",
          "Comedy",
          "Drama",
          "Comedy",
          "Crime",
          "Mystery",
          "Thriller",
          "Horror",
          "Thriller",
          "Crime",
          "Horror",
          "Romance",
          "Drama",
          "Adventure",
          "Action",
          "Action",
          "Thriller",
          "Science Fiction",
          "Comedy",
          "Drama",
          "Romance",
          "Drama",
          "Romance",
          "Drama",
          "Documentary",
          "Animation",
          "History",
          "Mystery",
          "Drama",
          "Thriller",
          "Romance",
          "Drama",
          "Drama",
          "History",
          "Crime",
          "Drama",
          "Crime",
          "Drama",
          "Drama",
          "Drama",
          "Horror",
          "Science Fiction",
          "Drama",
          "Thriller",
          "Action",
          "Crime",
          "Drama",
          "Drama",
          "Drama",
          "Horror",
          "Thriller",
          "Crime",
          "Crime",
          "Drama",
          "Comedy",
          "Drama",
          "Romance",
          "Drama",
          "Thriller",
          "Crime",
          "Romance",
          "Drama",
          "Crime",
          "Comedy",
          "Music",
          "Romance",
          "Crime",
          "Drama",
          "Crime",
          "Crime",
          "Thriller",
          "Drama",
          "Crime",
          "Drama",
          "Thriller",
          "Comedy",
          "Drama",
          "Romance",
          "Music",
          "Adventure",
          "Fantasy",
          "Horror",
          "Drama",
          "Comedy",
          "Romance",
          "Adventure",
          "Drama",
          "Action",
          "Crime",
          "Drama",
          "Thriller",
          "Comedy",
          "Drama",
          "Comedy",
          "Drama",
          "Action",
          "Comedy",
          "Crime",
          "Fantasy",
          "Drama",
          "Thriller",
          "Mystery",
          "Romance",
          "Family",
          "Fantasy",
          "Comedy",
          "Adventure",
          "Action",
          "Thriller",
          "Adventure",
          "Drama",
          "Action",
          "Comedy",
          "Drama",
          "Romance",
          "Comedy",
          "Drama",
          "Romance",
          "Crime",
          "Drama",
          "Family",
          "Comedy",
          "Drama",
          "Romance",
          "Comedy",
          "Drama",
          "Romance",
          "Mystery",
          "Thriller",
          "Drama",
          "Romance",
          "Drama",
          "Comedy",
          "War",
          "Drama",
          "Romance",
          "Drama",
          "Drama",
          "Thriller",
          "Romance",
          "Fantasy",
          "Action",
          "Crime",
          "Drama",
          "Crime",
          "Comedy",
          "Drama",
          "Fantasy",
          "Adventure",
          "Drama",
          "Fantasy",
          "Family",
          "Action",
          "Crime",
          "Drama",
          "Drama",
          "Crime",
          "Drama",
          "Thriller",
          "Crime",
          "Drama",
          "Thriller",
          "Drama",
          "Comedy",
          "Fantasy",
          "Action",
          "Thriller",
          "Drama",
          "Crime",
          "History",
          "Music",
          "Drama",
          "Action",
          "Thriller",
          "Science Fiction",
          "Crime",
          "Drama",
          "Science Fiction",
          "Thriller",
          "Comedy",
          "Drama",
          "Romance",
          "Adventure",
          "Fantasy",
          "Action",
          "Documentary",
          "Comedy",
          "Romance",
          "Western",
          "Drama",
          "Romance",
          "Comedy",
          "Drama",
          "Thriller",
          "Mystery",
          "Documentary",
          "Comedy",
          "Documentary",
          "Music",
          "Drama",
          "Family",
          "Drama",
          "Romance",
          "Action",
          "Thriller",
          "Science Fiction",
          "Fantasy",
          "Drama",
          "Romance",
          "Crime",
          "Thriller",
          "Crime",
          "Comedy",
          "Music",
          "Thriller",
          "Comedy",
          "Drama",
          "Fantasy",
          "Western",
          "Crime",
          "Thriller",
          "Thriller",
          "Romance",
          "Mystery",
          "Action",
          "Comedy",
          "Crime",
          "Drama",
          "History",
          "War",
          "Comedy",
          "Drama",
          "Mystery",
          "Romance",
          "Drama",
          "Fantasy",
          "Comedy",
          "Drama",
          "Crime",
          "Drama",
          "Music",
          "Romance",
          "Drama",
          "Action",
          "Fantasy",
          "Mystery",
          "Crime",
          "Action",
          "Crime",
          "Comedy",
          "Comedy",
          "Drama",
          "Drama",
          "History",
          "Drama",
          "Thriller",
          "Action",
          "Crime",
          "Romance",
          "Crime",
          "Mystery",
          "Thriller",
          "Comedy",
          "Romance",
          "Thriller",
          "Crime",
          "Drama",
          "Mystery",
          "Action",
          "Crime",
          "Thriller",
          "Horror",
          "Crime",
          "Drama",
          "Thriller",
          "Adventure",
          "Science Fiction",
          "Adventure",
          "Action",
          "Science Fiction",
          "Adventure",
          "Action",
          "Thriller",
          "Science Fiction",
          "Action",
          "Adventure",
          "Comedy",
          "Family",
          "Comedy",
          "Drama",
          "Music",
          "Romance",
          "Drama",
          "Drama",
          "Western",
          "Western",
          "Drama",
          "Comedy",
          "Drama",
          "Comedy",
          "Drama",
          "Comedy",
          "Drama",
          "Crime",
          "Comedy",
          "Drama",
          "Comedy",
          "Drama",
          "Romance",
          "Crime",
          "Action",
          "Comedy",
          "Drama",
          "Thriller",
          "Mystery",
          "Action",
          "Drama",
          "Drama",
          "Horror",
          "Science Fiction",
          "Comedy",
          "Comedy",
          "Drama",
          "Romance",
          "Drama",
          "Drama",
          "Romance",
          "Action",
          "Fantasy",
          "Horror",
          "Comedy",
          "Crime",
          "Drama",
          "Thriller",
          "Crime",
          "Drama",
          "Crime",
          "Drama",
          "Mystery",
          "Romance",
          "Thriller",
          "Drama",
          "Drama",
          "History",
          "War",
          "Crime",
          "Drama",
          "Thriller",
          "Drama",
          "Drama",
          "Music",
          "Western",
          "Comedy",
          "Drama",
          "Romance",
          "Action",
          "Crime",
          "Thriller",
          "Adventure",
          "Science Fiction",
          "Action",
          "Horror",
          "Drama",
          "Comedy",
          "Romance",
          "Crime",
          "Drama",
          "Drama",
          "Crime",
          "Comedy",
          "Drama",
          "Romance",
          "Thriller",
          "Mystery",
          "Drama",
          "Drama",
          "Drama",
          "Drama",
          "Crime",
          "Thriller",
          "Drama",
          "Fantasy",
          "Animation",
          "Family",
          "Drama",
          "Romance",
          "War",
          "Comedy",
          "Drama",
          "Adventure",
          "Family",
          "Fantasy",
          "Action",
          "Crime",
          "Fantasy",
          "Science Fiction",
          "Action",
          "Comedy",
          "Comedy",
          "Romance",
          "Drama",
          "Music",
          "Adventure",
          "Comedy",
          "Drama",
          "Fantasy",
          "Drama",
          "Drama",
          "War",
          "Drama",
          "History",
          "War",
          "Animation",
          "Comedy",
          "Family",
          "Adventure",
          "Mystery",
          "Romance",
          "Thriller",
          "Comedy",
          "Drama",
          "Romance",
          "Western",
          "Comedy",
          "Thriller",
          "Science Fiction",
          "Mystery",
          "Comedy",
          "Family",
          "Fantasy",
          "Drama",
          "Thriller",
          "Action",
          "Adventure",
          "Science Fiction",
          "Thriller",
          "Drama",
          "Thriller",
          "Crime",
          "Thriller",
          "Science Fiction",
          "Mystery",
          "Mystery",
          "Science Fiction",
          "Thriller",
          "Comedy",
          "Drama",
          "Fantasy",
          "Action",
          "Science Fiction",
          "Thriller",
          "Horror",
          "Drama",
          "Comedy",
          "Comedy",
          "Drama",
          "Mystery",
          "Drama",
          "Thriller",
          "Drama",
          "Drama",
          "Romance",
          "Drama",
          "Comedy",
          "Drama",
          "Romance",
          "Drama",
          "Romance",
          "Comedy",
          "Drama",
          "Romance",
          "Comedy",
          "Drama",
          "Romance",
          "Drama",
          "Comedy",
          "Romance",
          "Romance",
          "Drama",
          "History",
          "Comedy",
          "Drama",
          "Romance",
          "Drama",
          "Comedy",
          "Music",
          "Drama",
          "Romance",
          "Mystery",
          "Thriller",
          "Crime",
          "Crime",
          "Drama",
          "Horror",
          "Thriller",
          "Drama",
          "Comedy",
          "Drama",
          "Drama",
          "Crime",
          "Thriller",
          "Drama",
          "Mystery",
          "Drama",
          "Thriller",
          "Crime",
          "Drama",
          "Drama",
          "Crime",
          "Action",
          "Adventure",
          "Crime",
          "Thriller",
          "Comedy",
          "Drama",
          "Romance",
          "Drama",
          "Action",
          "Crime",
          "Thriller",
          "Comedy",
          "Crime",
          "Thriller",
          "Adventure",
          "Romance",
          "Drama",
          "Fantasy",
          "Drama",
          "Drama",
          "Comedy",
          "Drama",
          "Fantasy",
          "Action",
          "Adventure",
          "Crime",
          "Mystery",
          "Adventure",
          "Action",
          "Thriller",
          "Crime",
          "Mystery",
          "Comedy",
          "Fantasy",
          "Drama",
          "Crime",
          "Drama"
         ],
         "xaxis": "x",
         "yaxis": "y"
        }
       ],
       "layout": {
        "autosize": true,
        "barmode": "relative",
        "legend": {
         "tracegroupgap": 0
        },
        "margin": {
         "t": 60
        },
        "template": {
         "data": {
          "bar": [
           {
            "error_x": {
             "color": "#2a3f5f"
            },
            "error_y": {
             "color": "#2a3f5f"
            },
            "marker": {
             "line": {
              "color": "#E5ECF6",
              "width": 0.5
             },
             "pattern": {
              "fillmode": "overlay",
              "size": 10,
              "solidity": 0.2
             }
            },
            "type": "bar"
           }
          ],
          "barpolar": [
           {
            "marker": {
             "line": {
              "color": "#E5ECF6",
              "width": 0.5
             },
             "pattern": {
              "fillmode": "overlay",
              "size": 10,
              "solidity": 0.2
             }
            },
            "type": "barpolar"
           }
          ],
          "carpet": [
           {
            "aaxis": {
             "endlinecolor": "#2a3f5f",
             "gridcolor": "white",
             "linecolor": "white",
             "minorgridcolor": "white",
             "startlinecolor": "#2a3f5f"
            },
            "baxis": {
             "endlinecolor": "#2a3f5f",
             "gridcolor": "white",
             "linecolor": "white",
             "minorgridcolor": "white",
             "startlinecolor": "#2a3f5f"
            },
            "type": "carpet"
           }
          ],
          "choropleth": [
           {
            "colorbar": {
             "outlinewidth": 0,
             "ticks": ""
            },
            "type": "choropleth"
           }
          ],
          "contour": [
           {
            "colorbar": {
             "outlinewidth": 0,
             "ticks": ""
            },
            "colorscale": [
             [
              0,
              "#0d0887"
             ],
             [
              0.1111111111111111,
              "#46039f"
             ],
             [
              0.2222222222222222,
              "#7201a8"
             ],
             [
              0.3333333333333333,
              "#9c179e"
             ],
             [
              0.4444444444444444,
              "#bd3786"
             ],
             [
              0.5555555555555556,
              "#d8576b"
             ],
             [
              0.6666666666666666,
              "#ed7953"
             ],
             [
              0.7777777777777778,
              "#fb9f3a"
             ],
             [
              0.8888888888888888,
              "#fdca26"
             ],
             [
              1,
              "#f0f921"
             ]
            ],
            "type": "contour"
           }
          ],
          "contourcarpet": [
           {
            "colorbar": {
             "outlinewidth": 0,
             "ticks": ""
            },
            "type": "contourcarpet"
           }
          ],
          "heatmap": [
           {
            "colorbar": {
             "outlinewidth": 0,
             "ticks": ""
            },
            "colorscale": [
             [
              0,
              "#0d0887"
             ],
             [
              0.1111111111111111,
              "#46039f"
             ],
             [
              0.2222222222222222,
              "#7201a8"
             ],
             [
              0.3333333333333333,
              "#9c179e"
             ],
             [
              0.4444444444444444,
              "#bd3786"
             ],
             [
              0.5555555555555556,
              "#d8576b"
             ],
             [
              0.6666666666666666,
              "#ed7953"
             ],
             [
              0.7777777777777778,
              "#fb9f3a"
             ],
             [
              0.8888888888888888,
              "#fdca26"
             ],
             [
              1,
              "#f0f921"
             ]
            ],
            "type": "heatmap"
           }
          ],
          "heatmapgl": [
           {
            "colorbar": {
             "outlinewidth": 0,
             "ticks": ""
            },
            "colorscale": [
             [
              0,
              "#0d0887"
             ],
             [
              0.1111111111111111,
              "#46039f"
             ],
             [
              0.2222222222222222,
              "#7201a8"
             ],
             [
              0.3333333333333333,
              "#9c179e"
             ],
             [
              0.4444444444444444,
              "#bd3786"
             ],
             [
              0.5555555555555556,
              "#d8576b"
             ],
             [
              0.6666666666666666,
              "#ed7953"
             ],
             [
              0.7777777777777778,
              "#fb9f3a"
             ],
             [
              0.8888888888888888,
              "#fdca26"
             ],
             [
              1,
              "#f0f921"
             ]
            ],
            "type": "heatmapgl"
           }
          ],
          "histogram": [
           {
            "marker": {
             "pattern": {
              "fillmode": "overlay",
              "size": 10,
              "solidity": 0.2
             }
            },
            "type": "histogram"
           }
          ],
          "histogram2d": [
           {
            "colorbar": {
             "outlinewidth": 0,
             "ticks": ""
            },
            "colorscale": [
             [
              0,
              "#0d0887"
             ],
             [
              0.1111111111111111,
              "#46039f"
             ],
             [
              0.2222222222222222,
              "#7201a8"
             ],
             [
              0.3333333333333333,
              "#9c179e"
             ],
             [
              0.4444444444444444,
              "#bd3786"
             ],
             [
              0.5555555555555556,
              "#d8576b"
             ],
             [
              0.6666666666666666,
              "#ed7953"
             ],
             [
              0.7777777777777778,
              "#fb9f3a"
             ],
             [
              0.8888888888888888,
              "#fdca26"
             ],
             [
              1,
              "#f0f921"
             ]
            ],
            "type": "histogram2d"
           }
          ],
          "histogram2dcontour": [
           {
            "colorbar": {
             "outlinewidth": 0,
             "ticks": ""
            },
            "colorscale": [
             [
              0,
              "#0d0887"
             ],
             [
              0.1111111111111111,
              "#46039f"
             ],
             [
              0.2222222222222222,
              "#7201a8"
             ],
             [
              0.3333333333333333,
              "#9c179e"
             ],
             [
              0.4444444444444444,
              "#bd3786"
             ],
             [
              0.5555555555555556,
              "#d8576b"
             ],
             [
              0.6666666666666666,
              "#ed7953"
             ],
             [
              0.7777777777777778,
              "#fb9f3a"
             ],
             [
              0.8888888888888888,
              "#fdca26"
             ],
             [
              1,
              "#f0f921"
             ]
            ],
            "type": "histogram2dcontour"
           }
          ],
          "mesh3d": [
           {
            "colorbar": {
             "outlinewidth": 0,
             "ticks": ""
            },
            "type": "mesh3d"
           }
          ],
          "parcoords": [
           {
            "line": {
             "colorbar": {
              "outlinewidth": 0,
              "ticks": ""
             }
            },
            "type": "parcoords"
           }
          ],
          "pie": [
           {
            "automargin": true,
            "type": "pie"
           }
          ],
          "scatter": [
           {
            "fillpattern": {
             "fillmode": "overlay",
             "size": 10,
             "solidity": 0.2
            },
            "type": "scatter"
           }
          ],
          "scatter3d": [
           {
            "line": {
             "colorbar": {
              "outlinewidth": 0,
              "ticks": ""
             }
            },
            "marker": {
             "colorbar": {
              "outlinewidth": 0,
              "ticks": ""
             }
            },
            "type": "scatter3d"
           }
          ],
          "scattercarpet": [
           {
            "marker": {
             "colorbar": {
              "outlinewidth": 0,
              "ticks": ""
             }
            },
            "type": "scattercarpet"
           }
          ],
          "scattergeo": [
           {
            "marker": {
             "colorbar": {
              "outlinewidth": 0,
              "ticks": ""
             }
            },
            "type": "scattergeo"
           }
          ],
          "scattergl": [
           {
            "marker": {
             "colorbar": {
              "outlinewidth": 0,
              "ticks": ""
             }
            },
            "type": "scattergl"
           }
          ],
          "scattermapbox": [
           {
            "marker": {
             "colorbar": {
              "outlinewidth": 0,
              "ticks": ""
             }
            },
            "type": "scattermapbox"
           }
          ],
          "scatterpolar": [
           {
            "marker": {
             "colorbar": {
              "outlinewidth": 0,
              "ticks": ""
             }
            },
            "type": "scatterpolar"
           }
          ],
          "scatterpolargl": [
           {
            "marker": {
             "colorbar": {
              "outlinewidth": 0,
              "ticks": ""
             }
            },
            "type": "scatterpolargl"
           }
          ],
          "scatterternary": [
           {
            "marker": {
             "colorbar": {
              "outlinewidth": 0,
              "ticks": ""
             }
            },
            "type": "scatterternary"
           }
          ],
          "surface": [
           {
            "colorbar": {
             "outlinewidth": 0,
             "ticks": ""
            },
            "colorscale": [
             [
              0,
              "#0d0887"
             ],
             [
              0.1111111111111111,
              "#46039f"
             ],
             [
              0.2222222222222222,
              "#7201a8"
             ],
             [
              0.3333333333333333,
              "#9c179e"
             ],
             [
              0.4444444444444444,
              "#bd3786"
             ],
             [
              0.5555555555555556,
              "#d8576b"
             ],
             [
              0.6666666666666666,
              "#ed7953"
             ],
             [
              0.7777777777777778,
              "#fb9f3a"
             ],
             [
              0.8888888888888888,
              "#fdca26"
             ],
             [
              1,
              "#f0f921"
             ]
            ],
            "type": "surface"
           }
          ],
          "table": [
           {
            "cells": {
             "fill": {
              "color": "#EBF0F8"
             },
             "line": {
              "color": "white"
             }
            },
            "header": {
             "fill": {
              "color": "#C8D4E3"
             },
             "line": {
              "color": "white"
             }
            },
            "type": "table"
           }
          ]
         },
         "layout": {
          "annotationdefaults": {
           "arrowcolor": "#2a3f5f",
           "arrowhead": 0,
           "arrowwidth": 1
          },
          "autotypenumbers": "strict",
          "coloraxis": {
           "colorbar": {
            "outlinewidth": 0,
            "ticks": ""
           }
          },
          "colorscale": {
           "diverging": [
            [
             0,
             "#8e0152"
            ],
            [
             0.1,
             "#c51b7d"
            ],
            [
             0.2,
             "#de77ae"
            ],
            [
             0.3,
             "#f1b6da"
            ],
            [
             0.4,
             "#fde0ef"
            ],
            [
             0.5,
             "#f7f7f7"
            ],
            [
             0.6,
             "#e6f5d0"
            ],
            [
             0.7,
             "#b8e186"
            ],
            [
             0.8,
             "#7fbc41"
            ],
            [
             0.9,
             "#4d9221"
            ],
            [
             1,
             "#276419"
            ]
           ],
           "sequential": [
            [
             0,
             "#0d0887"
            ],
            [
             0.1111111111111111,
             "#46039f"
            ],
            [
             0.2222222222222222,
             "#7201a8"
            ],
            [
             0.3333333333333333,
             "#9c179e"
            ],
            [
             0.4444444444444444,
             "#bd3786"
            ],
            [
             0.5555555555555556,
             "#d8576b"
            ],
            [
             0.6666666666666666,
             "#ed7953"
            ],
            [
             0.7777777777777778,
             "#fb9f3a"
            ],
            [
             0.8888888888888888,
             "#fdca26"
            ],
            [
             1,
             "#f0f921"
            ]
           ],
           "sequentialminus": [
            [
             0,
             "#0d0887"
            ],
            [
             0.1111111111111111,
             "#46039f"
            ],
            [
             0.2222222222222222,
             "#7201a8"
            ],
            [
             0.3333333333333333,
             "#9c179e"
            ],
            [
             0.4444444444444444,
             "#bd3786"
            ],
            [
             0.5555555555555556,
             "#d8576b"
            ],
            [
             0.6666666666666666,
             "#ed7953"
            ],
            [
             0.7777777777777778,
             "#fb9f3a"
            ],
            [
             0.8888888888888888,
             "#fdca26"
            ],
            [
             1,
             "#f0f921"
            ]
           ]
          },
          "colorway": [
           "#636efa",
           "#EF553B",
           "#00cc96",
           "#ab63fa",
           "#FFA15A",
           "#19d3f3",
           "#FF6692",
           "#B6E880",
           "#FF97FF",
           "#FECB52"
          ],
          "font": {
           "color": "#2a3f5f"
          },
          "geo": {
           "bgcolor": "white",
           "lakecolor": "white",
           "landcolor": "#E5ECF6",
           "showlakes": true,
           "showland": true,
           "subunitcolor": "white"
          },
          "hoverlabel": {
           "align": "left"
          },
          "hovermode": "closest",
          "mapbox": {
           "style": "light"
          },
          "paper_bgcolor": "white",
          "plot_bgcolor": "#E5ECF6",
          "polar": {
           "angularaxis": {
            "gridcolor": "white",
            "linecolor": "white",
            "ticks": ""
           },
           "bgcolor": "#E5ECF6",
           "radialaxis": {
            "gridcolor": "white",
            "linecolor": "white",
            "ticks": ""
           }
          },
          "scene": {
           "xaxis": {
            "backgroundcolor": "#E5ECF6",
            "gridcolor": "white",
            "gridwidth": 2,
            "linecolor": "white",
            "showbackground": true,
            "ticks": "",
            "zerolinecolor": "white"
           },
           "yaxis": {
            "backgroundcolor": "#E5ECF6",
            "gridcolor": "white",
            "gridwidth": 2,
            "linecolor": "white",
            "showbackground": true,
            "ticks": "",
            "zerolinecolor": "white"
           },
           "zaxis": {
            "backgroundcolor": "#E5ECF6",
            "gridcolor": "white",
            "gridwidth": 2,
            "linecolor": "white",
            "showbackground": true,
            "ticks": "",
            "zerolinecolor": "white"
           }
          },
          "shapedefaults": {
           "line": {
            "color": "#2a3f5f"
           }
          },
          "ternary": {
           "aaxis": {
            "gridcolor": "white",
            "linecolor": "white",
            "ticks": ""
           },
           "baxis": {
            "gridcolor": "white",
            "linecolor": "white",
            "ticks": ""
           },
           "bgcolor": "#E5ECF6",
           "caxis": {
            "gridcolor": "white",
            "linecolor": "white",
            "ticks": ""
           }
          },
          "title": {
           "x": 0.05
          },
          "xaxis": {
           "automargin": true,
           "gridcolor": "white",
           "linecolor": "white",
           "ticks": "",
           "title": {
            "standoff": 15
           },
           "zerolinecolor": "white",
           "zerolinewidth": 2
          },
          "yaxis": {
           "automargin": true,
           "gridcolor": "white",
           "linecolor": "white",
           "ticks": "",
           "title": {
            "standoff": 15
           },
           "zerolinecolor": "white",
           "zerolinewidth": 2
          }
         }
        },
        "xaxis": {
         "anchor": "y",
         "autorange": true,
         "domain": [
          0,
          1
         ],
         "range": [
          -0.5,
          18.5
         ],
         "title": {
          "text": "genres"
         },
         "type": "category"
        },
        "yaxis": {
         "anchor": "x",
         "autorange": true,
         "domain": [
          0,
          1
         ],
         "range": [
          0,
          244.21052631578948
         ],
         "title": {
          "text": "count"
         }
        }
       }
      },
      "image/png": "[encoded data removed]",
      "text/html": [
       "<div>                            <div id=\"fd97d866-9d4a-40db-bb16-d5721c4818fc\" class=\"plotly-graph-div\" style=\"height:525px; width:100%;\"></div>            <script type=\"text/javascript\">                require([\"plotly\"], function(Plotly) {                    window.PLOTLYENV=window.PLOTLYENV || {};                                    if (document.getElementById(\"fd97d866-9d4a-40db-bb16-d5721c4818fc\")) {                    Plotly.newPlot(                        \"fd97d866-9d4a-40db-bb16-d5721c4818fc\",                        [{\"alignmentgroup\":\"True\",\"bingroup\":\"x\",\"hovertemplate\":\"genres=%{x}<br>count=%{y}<extra></extra>\",\"legendgroup\":\"\",\"marker\":{\"color\":\"#636efa\",\"pattern\":{\"shape\":\"\"}},\"name\":\"\",\"offsetgroup\":\"\",\"orientation\":\"v\",\"showlegend\":false,\"x\":[\"Drama\",\"Comedy\",\"Crime\",\"Drama\",\"Comedy\",\"Romance\",\"Crime\",\"Comedy\",\"Action\",\"Crime\",\"Thriller\",\"Documentary\",\"Drama\",\"Adventure\",\"Action\",\"Science Fiction\",\"Animation\",\"Family\",\"Comedy\",\"Drama\",\"Romance\",\"Drama\",\"Mystery\",\"Drama\",\"Drama\",\"Crime\",\"Horror\",\"Thriller\",\"Mystery\",\"Adventure\",\"Fantasy\",\"Action\",\"Thriller\",\"Science Fiction\",\"Drama\",\"Science Fiction\",\"Drama\",\"Romance\",\"Documentary\",\"Adventure\",\"Fantasy\",\"Action\",\"Action\",\"Crime\",\"Drama\",\"War\",\"Drama\",\"Drama\",\"Music\",\"Romance\",\"Drama\",\"War\",\"Western\",\"Animation\",\"Comedy\",\"Family\",\"Science Fiction\",\"Drama\",\"Romance\",\"Drama\",\"Thriller\",\"Adventure\",\"Fantasy\",\"Action\",\"Drama\",\"Thriller\",\"Crime\",\"Science Fiction\",\"Mystery\",\"Adventure\",\"Science Fiction\",\"Thriller\",\"Mystery\",\"Drama\",\"Romance\",\"Music\",\"Drama\",\"Crime\",\"Drama\",\"Action\",\"Thriller\",\"Crime\",\"Drama\",\"Comedy\",\"Science Fiction\",\"Drama\",\"Music\",\"Romance\",\"Drama\",\"Drama\",\"Comedy\",\"Music\",\"Drama\",\"Adventure\",\"Thriller\",\"Science Fiction\",\"Comedy\",\"Fantasy\",\"Science Fiction\",\"Drama\",\"Romance\",\"Mystery\",\"Thriller\",\"Science Fiction\",\"Drama\",\"Thriller\",\"Drama\",\"Adventure\",\"Action\",\"History\",\"Drama\",\"Romance\",\"Adventure\",\"Animation\",\"Fantasy\",\"Action\",\"Crime\",\"Thriller\",\"Drama\",\"Thriller\",\"Horror\",\"Adventure\",\"Action\",\"Drama\",\"Romance\",\"Adventure\",\"Action\",\"Drama\",\"Music\",\"Romance\",\"Adventure\",\"Action\",\"Action\",\"Comedy\",\"Crime\",\"Documentary\",\"Documentary\",\"Crime\",\"Drama\",\"Mystery\",\"Thriller\",\"Comedy\",\"Action\",\"Thriller\",\"Science Fiction\",\"Adventure\",\"Action\",\"Comedy\",\"Crime\",\"Science Fiction\",\"Action\",\"Adventure\",\"Action\",\"Drama\",\"Adventure\",\"Comedy\",\"Drama\",\"Comedy\",\"Crime\",\"Crime\",\"Drama\",\"Action\",\"Drama\",\"Romance\",\"Crime\",\"Drama\",\"Action\",\"Drama\",\"Thriller\",\"Adventure\",\"Comedy\",\"Science Fiction\",\"Science Fiction\",\"Action\",\"Adventure\",\"Thriller\",\"Crime\",\"Comedy\",\"Drama\",\"Comedy\",\"Drama\",\"Mystery\",\"Drama\",\"Mystery\",\"Romance\",\"Action\",\"Crime\",\"Drama\",\"Comedy\",\"Drama\",\"Romance\",\"Drama\",\"Romance\",\"Comedy\",\"Comedy\",\"Crime\",\"Drama\",\"Thriller\",\"Crime\",\"Romance\",\"Crime\",\"Drama\",\"History\",\"Thriller\",\"Adventure\",\"Comedy\",\"Family\",\"Fantasy\",\"Adventure\",\"Fantasy\",\"Action\",\"Adventure\",\"Fantasy\",\"Action\",\"Adventure\",\"Fantasy\",\"Action\",\"Adventure\",\"Animation\",\"Fantasy\",\"Drama\",\"Documentary\",\"Drama\",\"TV Movie\",\"Drama\",\"Adventure\",\"Fantasy\",\"Animation\",\"Animation\",\"Family\",\"Fantasy\",\"Documentary\",\"Music\",\"Documentary\",\"Adventure\",\"Comedy\",\"Crime\",\"Documentary\",\"Music\",\"Drama\",\"Horror\",\"Romance\",\"Fantasy\",\"Drama\",\"Comedy\",\"Horror\",\"Drama\",\"Fantasy\",\"Drama\",\"Comedy\",\"Romance\",\"Crime\",\"Drama\",\"Fantasy\",\"Drama\",\"Mystery\",\"Drama\",\"Romance\",\"Drama\",\"War\",\"Drama\",\"Fantasy\",\"Romance\",\"Drama\",\"Romance\",\"Adventure\",\"Drama\",\"Action\",\"Romance\",\"Drama\",\"Romance\",\"Drama\",\"Animation\",\"Science Fiction\",\"Action\",\"Thriller\",\"Action\",\"Comedy\",\"Crime\",\"Drama\",\"Science Fiction\",\"Adventure\",\"Mystery\",\"Comedy\",\"Drama\",\"Romance\",\"Action\",\"Adventure\",\"Science Fiction\",\"Thriller\",\"Drama\",\"Action\",\"Crime\",\"Thriller\",\"Comedy\",\"Drama\",\"Romance\",\"Science Fiction\",\"Action\",\"Adventure\",\"Thriller\",\"Comedy\",\"Crime\",\"Comedy\",\"Drama\",\"Documentary\",\"Thriller\",\"Crime\",\"Fantasy\",\"Drama\",\"Romance\",\"Thriller\",\"Crime\",\"Comedy\",\"Romance\",\"Adventure\",\"Comedy\",\"Science Fiction\",\"Drama\",\"Romance\",\"Comedy\",\"Science Fiction\",\"Drama\",\"Science Fiction\",\"Adventure\",\"Science Fiction\",\"Action\",\"Thriller\",\"Horror\",\"Thriller\",\"Science Fiction\",\"Comedy\",\"Romance\",\"Drama\",\"Science Fiction\",\"Action\",\"Adventure\",\"Thriller\",\"Adventure\",\"Drama\",\"Family\",\"Fantasy\",\"Science Fiction\",\"Action\",\"Science Fiction\",\"Action\",\"Adventure\",\"Thriller\",\"Adventure\",\"Drama\",\"Romance\",\"Horror\",\"Mystery\",\"Crime\",\"Comedy\",\"Drama\",\"Action\",\"Crime\",\"Thriller\",\"Action\",\"Thriller\",\"Science Fiction\",\"Mystery\",\"Drama\",\"War\",\"Thriller\",\"Mystery\",\"Adventure\",\"Comedy\",\"Drama\",\"Family\",\"Crime\",\"Thriller\",\"Drama\",\"Science Fiction\",\"Drama\",\"Drama\",\"Thriller\",\"Crime\",\"Mystery\",\"Thriller\",\"Action\",\"Crime\",\"Crime\",\"Action\",\"Thriller\",\"Documentary\",\"Drama\",\"Drama\",\"Thriller\",\"Mystery\",\"Science Fiction\",\"Action\",\"Adventure\",\"Thriller\",\"Comedy\",\"Romance\",\"Comedy\",\"Crime\",\"Romance\",\"Adventure\",\"Comedy\",\"Science Fiction\",\"Action\",\"Drama\",\"History\",\"War\",\"Comedy\",\"War\",\"Science Fiction\",\"Action\",\"Adventure\",\"Thriller\",\"Science Fiction\",\"Action\",\"Adventure\",\"Thriller\",\"Science Fiction\",\"Action\",\"Adventure\",\"Thriller\",\"Drama\",\"Crime\",\"Drama\",\"Thriller\",\"Adventure\",\"Drama\",\"History\",\"War\",\"Drama\",\"Drama\",\"Comedy\",\"Drama\",\"Comedy\",\"Crime\",\"Mystery\",\"Thriller\",\"Horror\",\"Thriller\",\"Crime\",\"Horror\",\"Romance\",\"Drama\",\"Adventure\",\"Action\",\"Action\",\"Thriller\",\"Science Fiction\",\"Comedy\",\"Drama\",\"Romance\",\"Drama\",\"Romance\",\"Drama\",\"Documentary\",\"Animation\",\"History\",\"Mystery\",\"Drama\",\"Thriller\",\"Romance\",\"Drama\",\"Drama\",\"History\",\"Crime\",\"Drama\",\"Crime\",\"Drama\",\"Drama\",\"Drama\",\"Horror\",\"Science Fiction\",\"Drama\",\"Thriller\",\"Action\",\"Crime\",\"Drama\",\"Drama\",\"Drama\",\"Horror\",\"Thriller\",\"Crime\",\"Crime\",\"Drama\",\"Comedy\",\"Drama\",\"Romance\",\"Drama\",\"Thriller\",\"Crime\",\"Romance\",\"Drama\",\"Crime\",\"Comedy\",\"Music\",\"Romance\",\"Crime\",\"Drama\",\"Crime\",\"Crime\",\"Thriller\",\"Drama\",\"Crime\",\"Drama\",\"Thriller\",\"Comedy\",\"Drama\",\"Romance\",\"Music\",\"Adventure\",\"Fantasy\",\"Horror\",\"Drama\",\"Comedy\",\"Romance\",\"Adventure\",\"Drama\",\"Action\",\"Crime\",\"Drama\",\"Thriller\",\"Comedy\",\"Drama\",\"Comedy\",\"Drama\",\"Action\",\"Comedy\",\"Crime\",\"Fantasy\",\"Drama\",\"Thriller\",\"Mystery\",\"Romance\",\"Family\",\"Fantasy\",\"Comedy\",\"Adventure\",\"Action\",\"Thriller\",\"Adventure\",\"Drama\",\"Action\",\"Comedy\",\"Drama\",\"Romance\",\"Comedy\",\"Drama\",\"Romance\",\"Crime\",\"Drama\",\"Family\",\"Comedy\",\"Drama\",\"Romance\",\"Comedy\",\"Drama\",\"Romance\",\"Mystery\",\"Thriller\",\"Drama\",\"Romance\",\"Drama\",\"Comedy\",\"War\",\"Drama\",\"Romance\",\"Drama\",\"Drama\",\"Thriller\",\"Romance\",\"Fantasy\",\"Action\",\"Crime\",\"Drama\",\"Crime\",\"Comedy\",\"Drama\",\"Fantasy\",\"Adventure\",\"Drama\",\"Fantasy\",\"Family\",\"Action\",\"Crime\",\"Drama\",\"Drama\",\"Crime\",\"Drama\",\"Thriller\",\"Crime\",\"Drama\",\"Thriller\",\"Drama\",\"Comedy\",\"Fantasy\",\"Action\",\"Thriller\",\"Drama\",\"Crime\",\"History\",\"Music\",\"Drama\",\"Action\",\"Thriller\",\"Science Fiction\",\"Crime\",\"Drama\",\"Science Fiction\",\"Thriller\",\"Comedy\",\"Drama\",\"Romance\",\"Adventure\",\"Fantasy\",\"Action\",\"Documentary\",\"Comedy\",\"Romance\",\"Western\",\"Drama\",\"Romance\",\"Comedy\",\"Drama\",\"Thriller\",\"Mystery\",\"Documentary\",\"Comedy\",\"Documentary\",\"Music\",\"Drama\",\"Family\",\"Drama\",\"Romance\",\"Action\",\"Thriller\",\"Science Fiction\",\"Fantasy\",\"Drama\",\"Romance\",\"Crime\",\"Thriller\",\"Crime\",\"Comedy\",\"Music\",\"Thriller\",\"Comedy\",\"Drama\",\"Fantasy\",\"Western\",\"Crime\",\"Thriller\",\"Thriller\",\"Romance\",\"Mystery\",\"Action\",\"Comedy\",\"Crime\",\"Drama\",\"History\",\"War\",\"Comedy\",\"Drama\",\"Mystery\",\"Romance\",\"Drama\",\"Fantasy\",\"Comedy\",\"Drama\",\"Crime\",\"Drama\",\"Music\",\"Romance\",\"Drama\",\"Action\",\"Fantasy\",\"Mystery\",\"Crime\",\"Action\",\"Crime\",\"Comedy\",\"Comedy\",\"Drama\",\"Drama\",\"History\",\"Drama\",\"Thriller\",\"Action\",\"Crime\",\"Romance\",\"Crime\",\"Mystery\",\"Thriller\",\"Comedy\",\"Romance\",\"Thriller\",\"Crime\",\"Drama\",\"Mystery\",\"Action\",\"Crime\",\"Thriller\",\"Horror\",\"Crime\",\"Drama\",\"Thriller\",\"Adventure\",\"Science Fiction\",\"Adventure\",\"Action\",\"Science Fiction\",\"Adventure\",\"Action\",\"Thriller\",\"Science Fiction\",\"Action\",\"Adventure\",\"Comedy\",\"Family\",\"Comedy\",\"Drama\",\"Music\",\"Romance\",\"Drama\",\"Drama\",\"Western\",\"Western\",\"Drama\",\"Comedy\",\"Drama\",\"Comedy\",\"Drama\",\"Comedy\",\"Drama\",\"Crime\",\"Comedy\",\"Drama\",\"Comedy\",\"Drama\",\"Romance\",\"Crime\",\"Action\",\"Comedy\",\"Drama\",\"Thriller\",\"Mystery\",\"Action\",\"Drama\",\"Drama\",\"Horror\",\"Science Fiction\",\"Comedy\",\"Comedy\",\"Drama\",\"Romance\",\"Drama\",\"Drama\",\"Romance\",\"Action\",\"Fantasy\",\"Horror\",\"Comedy\",\"Crime\",\"Drama\",\"Thriller\",\"Crime\",\"Drama\",\"Crime\",\"Drama\",\"Mystery\",\"Romance\",\"Thriller\",\"Drama\",\"Drama\",\"History\",\"War\",\"Crime\",\"Drama\",\"Thriller\",\"Drama\",\"Drama\",\"Music\",\"Western\",\"Comedy\",\"Drama\",\"Romance\",\"Action\",\"Crime\",\"Thriller\",\"Adventure\",\"Science Fiction\",\"Action\",\"Horror\",\"Drama\",\"Comedy\",\"Romance\",\"Crime\",\"Drama\",\"Drama\",\"Crime\",\"Comedy\",\"Drama\",\"Romance\",\"Thriller\",\"Mystery\",\"Drama\",\"Drama\",\"Drama\",\"Drama\",\"Crime\",\"Thriller\",\"Drama\",\"Fantasy\",\"Animation\",\"Family\",\"Drama\",\"Romance\",\"War\",\"Comedy\",\"Drama\",\"Adventure\",\"Family\",\"Fantasy\",\"Action\",\"Crime\",\"Fantasy\",\"Science Fiction\",\"Action\",\"Comedy\",\"Comedy\",\"Romance\",\"Drama\",\"Music\",\"Adventure\",\"Comedy\",\"Drama\",\"Fantasy\",\"Drama\",\"Drama\",\"War\",\"Drama\",\"History\",\"War\",\"Animation\",\"Comedy\",\"Family\",\"Adventure\",\"Mystery\",\"Romance\",\"Thriller\",\"Comedy\",\"Drama\",\"Romance\",\"Western\",\"Comedy\",\"Thriller\",\"Science Fiction\",\"Mystery\",\"Comedy\",\"Family\",\"Fantasy\",\"Drama\",\"Thriller\",\"Action\",\"Adventure\",\"Science Fiction\",\"Thriller\",\"Drama\",\"Thriller\",\"Crime\",\"Thriller\",\"Science Fiction\",\"Mystery\",\"Mystery\",\"Science Fiction\",\"Thriller\",\"Comedy\",\"Drama\",\"Fantasy\",\"Action\",\"Science Fiction\",\"Thriller\",\"Horror\",\"Drama\",\"Comedy\",\"Comedy\",\"Drama\",\"Mystery\",\"Drama\",\"Thriller\",\"Drama\",\"Drama\",\"Romance\",\"Drama\",\"Comedy\",\"Drama\",\"Romance\",\"Drama\",\"Romance\",\"Comedy\",\"Drama\",\"Romance\",\"Comedy\",\"Drama\",\"Romance\",\"Drama\",\"Comedy\",\"Romance\",\"Romance\",\"Drama\",\"History\",\"Comedy\",\"Drama\",\"Romance\",\"Drama\",\"Comedy\",\"Music\",\"Drama\",\"Romance\",\"Mystery\",\"Thriller\",\"Crime\",\"Crime\",\"Drama\",\"Horror\",\"Thriller\",\"Drama\",\"Comedy\",\"Drama\",\"Drama\",\"Crime\",\"Thriller\",\"Drama\",\"Mystery\",\"Drama\",\"Thriller\",\"Crime\",\"Drama\",\"Drama\",\"Crime\",\"Action\",\"Adventure\",\"Crime\",\"Thriller\",\"Comedy\",\"Drama\",\"Romance\",\"Drama\",\"Action\",\"Crime\",\"Thriller\",\"Comedy\",\"Crime\",\"Thriller\",\"Adventure\",\"Romance\",\"Drama\",\"Fantasy\",\"Drama\",\"Drama\",\"Comedy\",\"Drama\",\"Fantasy\",\"Action\",\"Adventure\",\"Crime\",\"Mystery\",\"Adventure\",\"Action\",\"Thriller\",\"Crime\",\"Mystery\",\"Comedy\",\"Fantasy\",\"Drama\",\"Crime\",\"Drama\"],\"xaxis\":\"x\",\"yaxis\":\"y\",\"type\":\"histogram\"}],                        {\"template\":{\"data\":{\"histogram2dcontour\":[{\"type\":\"histogram2dcontour\",\"colorbar\":{\"outlinewidth\":0,\"ticks\":\"\"},\"colorscale\":[[0.0,\"#0d0887\"],[0.1111111111111111,\"#46039f\"],[0.2222222222222222,\"#7201a8\"],[0.3333333333333333,\"#9c179e\"],[0.4444444444444444,\"#bd3786\"],[0.5555555555555556,\"#d8576b\"],[0.6666666666666666,\"#ed7953\"],[0.7777777777777778,\"#fb9f3a\"],[0.8888888888888888,\"#fdca26\"],[1.0,\"#f0f921\"]]}],\"choropleth\":[{\"type\":\"choropleth\",\"colorbar\":{\"outlinewidth\":0,\"ticks\":\"\"}}],\"histogram2d\":[{\"type\":\"histogram2d\",\"colorbar\":{\"outlinewidth\":0,\"ticks\":\"\"},\"colorscale\":[[0.0,\"#0d0887\"],[0.1111111111111111,\"#46039f\"],[0.2222222222222222,\"#7201a8\"],[0.3333333333333333,\"#9c179e\"],[0.4444444444444444,\"#bd3786\"],[0.5555555555555556,\"#d8576b\"],[0.6666666666666666,\"#ed7953\"],[0.7777777777777778,\"#fb9f3a\"],[0.8888888888888888,\"#fdca26\"],[1.0,\"#f0f921\"]]}],\"heatmap\":[{\"type\":\"heatmap\",\"colorbar\":{\"outlinewidth\":0,\"ticks\":\"\"},\"colorscale\":[[0.0,\"#0d0887\"],[0.1111111111111111,\"#46039f\"],[0.2222222222222222,\"#7201a8\"],[0.3333333333333333,\"#9c179e\"],[0.4444444444444444,\"#bd3786\"],[0.5555555555555556,\"#d8576b\"],[0.6666666666666666,\"#ed7953\"],[0.7777777777777778,\"#fb9f3a\"],[0.8888888888888888,\"#fdca26\"],[1.0,\"#f0f921\"]]}],\"heatmapgl\":[{\"type\":\"heatmapgl\",\"colorbar\":{\"outlinewidth\":0,\"ticks\":\"\"},\"colorscale\":[[0.0,\"#0d0887\"],[0.1111111111111111,\"#46039f\"],[0.2222222222222222,\"#7201a8\"],[0.3333333333333333,\"#9c179e\"],[0.4444444444444444,\"#bd3786\"],[0.5555555555555556,\"#d8576b\"],[0.6666666666666666,\"#ed7953\"],[0.7777777777777778,\"#fb9f3a\"],[0.8888888888888888,\"#fdca26\"],[1.0,\"#f0f921\"]]}],\"contourcarpet\":[{\"type\":\"contourcarpet\",\"colorbar\":{\"outlinewidth\":0,\"ticks\":\"\"}}],\"contour\":[{\"type\":\"contour\",\"colorbar\":{\"outlinewidth\":0,\"ticks\":\"\"},\"colorscale\":[[0.0,\"#0d0887\"],[0.1111111111111111,\"#46039f\"],[0.2222222222222222,\"#7201a8\"],[0.3333333333333333,\"#9c179e\"],[0.4444444444444444,\"#bd3786\"],[0.5555555555555556,\"#d8576b\"],[0.6666666666666666,\"#ed7953\"],[0.7777777777777778,\"#fb9f3a\"],[0.8888888888888888,\"#fdca26\"],[1.0,\"#f0f921\"]]}],\"surface\":[{\"type\":\"surface\",\"colorbar\":{\"outlinewidth\":0,\"ticks\":\"\"},\"colorscale\":[[0.0,\"#0d0887\"],[0.1111111111111111,\"#46039f\"],[0.2222222222222222,\"#7201a8\"],[0.3333333333333333,\"#9c179e\"],[0.4444444444444444,\"#bd3786\"],[0.5555555555555556,\"#d8576b\"],[0.6666666666666666,\"#ed7953\"],[0.7777777777777778,\"#fb9f3a\"],[0.8888888888888888,\"#fdca26\"],[1.0,\"#f0f921\"]]}],\"mesh3d\":[{\"type\":\"mesh3d\",\"colorbar\":{\"outlinewidth\":0,\"ticks\":\"\"}}],\"scatter\":[{\"fillpattern\":{\"fillmode\":\"overlay\",\"size\":10,\"solidity\":0.2},\"type\":\"scatter\"}],\"parcoords\":[{\"type\":\"parcoords\",\"line\":{\"colorbar\":{\"outlinewidth\":0,\"ticks\":\"\"}}}],\"scatterpolargl\":[{\"type\":\"scatterpolargl\",\"marker\":{\"colorbar\":{\"outlinewidth\":0,\"ticks\":\"\"}}}],\"bar\":[{\"error_x\":{\"color\":\"#2a3f5f\"},\"error_y\":{\"color\":\"#2a3f5f\"},\"marker\":{\"line\":{\"color\":\"#E5ECF6\",\"width\":0.5},\"pattern\":{\"fillmode\":\"overlay\",\"size\":10,\"solidity\":0.2}},\"type\":\"bar\"}],\"scattergeo\":[{\"type\":\"scattergeo\",\"marker\":{\"colorbar\":{\"outlinewidth\":0,\"ticks\":\"\"}}}],\"scatterpolar\":[{\"type\":\"scatterpolar\",\"marker\":{\"colorbar\":{\"outlinewidth\":0,\"ticks\":\"\"}}}],\"histogram\":[{\"marker\":{\"pattern\":{\"fillmode\":\"overlay\",\"size\":10,\"solidity\":0.2}},\"type\":\"histogram\"}],\"scattergl\":[{\"type\":\"scattergl\",\"marker\":{\"colorbar\":{\"outlinewidth\":0,\"ticks\":\"\"}}}],\"scatter3d\":[{\"type\":\"scatter3d\",\"line\":{\"colorbar\":{\"outlinewidth\":0,\"ticks\":\"\"}},\"marker\":{\"colorbar\":{\"outlinewidth\":0,\"ticks\":\"\"}}}],\"scattermapbox\":[{\"type\":\"scattermapbox\",\"marker\":{\"colorbar\":{\"outlinewidth\":0,\"ticks\":\"\"}}}],\"scatterternary\":[{\"type\":\"scatterternary\",\"marker\":{\"colorbar\":{\"outlinewidth\":0,\"ticks\":\"\"}}}],\"scattercarpet\":[{\"type\":\"scattercarpet\",\"marker\":{\"colorbar\":{\"outlinewidth\":0,\"ticks\":\"\"}}}],\"carpet\":[{\"aaxis\":{\"endlinecolor\":\"#2a3f5f\",\"gridcolor\":\"white\",\"linecolor\":\"white\",\"minorgridcolor\":\"white\",\"startlinecolor\":\"#2a3f5f\"},\"baxis\":{\"endlinecolor\":\"#2a3f5f\",\"gridcolor\":\"white\",\"linecolor\":\"white\",\"minorgridcolor\":\"white\",\"startlinecolor\":\"#2a3f5f\"},\"type\":\"carpet\"}],\"table\":[{\"cells\":{\"fill\":{\"color\":\"#EBF0F8\"},\"line\":{\"color\":\"white\"}},\"header\":{\"fill\":{\"color\":\"#C8D4E3\"},\"line\":{\"color\":\"white\"}},\"type\":\"table\"}],\"barpolar\":[{\"marker\":{\"line\":{\"color\":\"#E5ECF6\",\"width\":0.5},\"pattern\":{\"fillmode\":\"overlay\",\"size\":10,\"solidity\":0.2}},\"type\":\"barpolar\"}],\"pie\":[{\"automargin\":true,\"type\":\"pie\"}]},\"layout\":{\"autotypenumbers\":\"strict\",\"colorway\":[\"#636efa\",\"#EF553B\",\"#00cc96\",\"#ab63fa\",\"#FFA15A\",\"#19d3f3\",\"#FF6692\",\"#B6E880\",\"#FF97FF\",\"#FECB52\"],\"font\":{\"color\":\"#2a3f5f\"},\"hovermode\":\"closest\",\"hoverlabel\":{\"align\":\"left\"},\"paper_bgcolor\":\"white\",\"plot_bgcolor\":\"#E5ECF6\",\"polar\":{\"bgcolor\":\"#E5ECF6\",\"angularaxis\":{\"gridcolor\":\"white\",\"linecolor\":\"white\",\"ticks\":\"\"},\"radialaxis\":{\"gridcolor\":\"white\",\"linecolor\":\"white\",\"ticks\":\"\"}},\"ternary\":{\"bgcolor\":\"#E5ECF6\",\"aaxis\":{\"gridcolor\":\"white\",\"linecolor\":\"white\",\"ticks\":\"\"},\"baxis\":{\"gridcolor\":\"white\",\"linecolor\":\"white\",\"ticks\":\"\"},\"caxis\":{\"gridcolor\":\"white\",\"linecolor\":\"white\",\"ticks\":\"\"}},\"coloraxis\":{\"colorbar\":{\"outlinewidth\":0,\"ticks\":\"\"}},\"colorscale\":{\"sequential\":[[0.0,\"#0d0887\"],[0.1111111111111111,\"#46039f\"],[0.2222222222222222,\"#7201a8\"],[0.3333333333333333,\"#9c179e\"],[0.4444444444444444,\"#bd3786\"],[0.5555555555555556,\"#d8576b\"],[0.6666666666666666,\"#ed7953\"],[0.7777777777777778,\"#fb9f3a\"],[0.8888888888888888,\"#fdca26\"],[1.0,\"#f0f921\"]],\"sequentialminus\":[[0.0,\"#0d0887\"],[0.1111111111111111,\"#46039f\"],[0.2222222222222222,\"#7201a8\"],[0.3333333333333333,\"#9c179e\"],[0.4444444444444444,\"#bd3786\"],[0.5555555555555556,\"#d8576b\"],[0.6666666666666666,\"#ed7953\"],[0.7777777777777778,\"#fb9f3a\"],[0.8888888888888888,\"#fdca26\"],[1.0,\"#f0f921\"]],\"diverging\":[[0,\"#8e0152\"],[0.1,\"#c51b7d\"],[0.2,\"#de77ae\"],[0.3,\"#f1b6da\"],[0.4,\"#fde0ef\"],[0.5,\"#f7f7f7\"],[0.6,\"#e6f5d0\"],[0.7,\"#b8e186\"],[0.8,\"#7fbc41\"],[0.9,\"#4d9221\"],[1,\"#276419\"]]},\"xaxis\":{\"gridcolor\":\"white\",\"linecolor\":\"white\",\"ticks\":\"\",\"title\":{\"standoff\":15},\"zerolinecolor\":\"white\",\"automargin\":true,\"zerolinewidth\":2},\"yaxis\":{\"gridcolor\":\"white\",\"linecolor\":\"white\",\"ticks\":\"\",\"title\":{\"standoff\":15},\"zerolinecolor\":\"white\",\"automargin\":true,\"zerolinewidth\":2},\"scene\":{\"xaxis\":{\"backgroundcolor\":\"#E5ECF6\",\"gridcolor\":\"white\",\"linecolor\":\"white\",\"showbackground\":true,\"ticks\":\"\",\"zerolinecolor\":\"white\",\"gridwidth\":2},\"yaxis\":{\"backgroundcolor\":\"#E5ECF6\",\"gridcolor\":\"white\",\"linecolor\":\"white\",\"showbackground\":true,\"ticks\":\"\",\"zerolinecolor\":\"white\",\"gridwidth\":2},\"zaxis\":{\"backgroundcolor\":\"#E5ECF6\",\"gridcolor\":\"white\",\"linecolor\":\"white\",\"showbackground\":true,\"ticks\":\"\",\"zerolinecolor\":\"white\",\"gridwidth\":2}},\"shapedefaults\":{\"line\":{\"color\":\"#2a3f5f\"}},\"annotationdefaults\":{\"arrowcolor\":\"#2a3f5f\",\"arrowhead\":0,\"arrowwidth\":1},\"geo\":{\"bgcolor\":\"white\",\"landcolor\":\"#E5ECF6\",\"subunitcolor\":\"white\",\"showland\":true,\"showlakes\":true,\"lakecolor\":\"white\"},\"title\":{\"x\":0.05},\"mapbox\":{\"style\":\"light\"}}},\"xaxis\":{\"anchor\":\"y\",\"domain\":[0.0,1.0],\"title\":{\"text\":\"genres\"}},\"yaxis\":{\"anchor\":\"x\",\"domain\":[0.0,1.0],\"title\":{\"text\":\"count\"}},\"legend\":{\"tracegroupgap\":0},\"margin\":{\"t\":60},\"barmode\":\"relative\"},                        {\"responsive\": true}                    ).then(function(){\n",
       "                            \n",
       "var gd = document.getElementById('fd97d866-9d4a-40db-bb16-d5721c4818fc');\n",
       "var x = new MutationObserver(function (mutations, observer) {{\n",
       "        var display = window.getComputedStyle(gd).display;\n",
       "        if (!display || display === 'none') {{\n",
       "            console.log([gd, 'removed!']);\n",
       "            Plotly.purge(gd);\n",
       "            observer.disconnect();\n",
       "        }}\n",
       "}});\n",
       "\n",
       "// Listen for the removal of the full notebook cells\n",
       "var notebookContainer = gd.closest('#notebook-container');\n",
       "if (notebookContainer) {{\n",
       "    x.observe(notebookContainer, {childList: true});\n",
       "}}\n",
       "\n",
       "// Listen for the clearing of the current output cell\n",
       "var outputEl = gd.closest('.output');\n",
       "if (outputEl) {{\n",
       "    x.observe(outputEl, {childList: true});\n",
       "}}\n",
       "\n",
       "                        })                };                });            </script>        </div>"
      ]
     },
     "metadata": {},
     "output_type": "display_data"
    }
   ],
   "source": [
    "# The most represented genres\n",
    "genres = df_movies[\"genres\"]\n",
    "\n",
    "acc_genres= []\n",
    "for genre in range(len(genres)):\n",
    "    acc_genres.extend(genres[genre])\n",
    "\n",
    "colums=[\"genres\"]\n",
    "data=acc_genres\n",
    "\n",
    "df_genres=pd.DataFrame(data=acc_genres, columns=colums)\n",
    "\n",
    "px.histogram(df_genres, x=\"genres\")"
   ]
  },
  {
   "cell_type": "markdown",
   "id": "5e9327da-178d-4f8e-905b-3f844df4ed00",
   "metadata": {},
   "source": [
    "### 3 Modélisation"
   ]
  },
  {
   "cell_type": "code",
   "execution_count": null,
   "id": "0c024847-6994-4c6f-bdbf-83472bdeafa7",
   "metadata": {},
   "outputs": [],
   "source": [
    "    "
   ]
  }
 ],
 "metadata": {
  "kernelspec": {
   "display_name": "Python 3 (ipykernel)",
   "language": "python",
   "name": "python3"
  },
  "language_info": {
   "codemirror_mode": {
    "name": "ipython",
    "version": 3
   },
   "file_extension": ".py",
   "mimetype": "text/x-python",
   "name": "python",
   "nbconvert_exporter": "python",
   "pygments_lexer": "ipython3",
   "version": "3.10.4"
  }
 },
 "nbformat": 4,
 "nbformat_minor": 5
}
