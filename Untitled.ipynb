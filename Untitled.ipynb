{
 "cells": [
  {
   "cell_type": "code",
   "execution_count": null,
   "id": "a36da01d-6f2b-447f-86c6-1422db3e0c63",
   "metadata": {},
   "outputs": [],
   "source": [
    "# import pandas module \n",
    "import pandas as pd \n",
    "%matplotlib inline\n",
    "import numpy as np\n",
    "import matplotlib.pyplot as plt\n",
    "import seaborn as sns\n"
   ]
  },
  {
   "cell_type": "code",
   "execution_count": null,
   "id": "da15fbf7-ca1d-4fc6-b27f-12772802b032",
   "metadata": {},
   "outputs": [],
   "source": [
    "# supprimer valeurs manquantes \n",
    "df = pd.read_csv(\"df_tmdb.csv\")\n",
    "indexNames = df[ df['Budget'] == 0 ].index\n",
    "# Delete these row indexes from dataFrame\n",
    "df.drop(indexNames , inplace=True)\n",
    "\n",
    "indexNames2 = df[ df['Revenu'] == 0 ].index\n",
    "df.drop(indexNames2 , inplace=True)"
   ]
  },
  {
   "cell_type": "code",
   "execution_count": null,
   "id": "085d4300-c00d-413a-a107-975112322e6e",
   "metadata": {},
   "outputs": [],
   "source": [
    "df.Release_date.sort_values(ascending=False)"
   ]
  },
  {
   "cell_type": "code",
   "execution_count": null,
   "id": "776dc556-e8e8-4463-a4b6-acc2394591ce",
   "metadata": {},
   "outputs": [],
   "source": [
    "df.shape"
   ]
  },
  {
   "cell_type": "code",
   "execution_count": null,
   "id": "b783bd5a-0099-42a6-a85a-17c9e393cb78",
   "metadata": {},
   "outputs": [],
   "source": [
    "df['Revenu'].mean()\n",
    "df['Budget'].mean()"
   ]
  },
  {
   "cell_type": "code",
   "execution_count": null,
   "id": "c2824be5-99db-4420-bd05-d80fc9b3d692",
   "metadata": {},
   "outputs": [],
   "source": [
    "#df.plot.scatter(x='Budget',y='Revenu')\n",
    "\n",
    "sns.set()\n",
    "x = np.array(df[\"Budget\"])\n",
    "y = np.array(df[\"Revenu\"])\n",
    "fig = plt.figure(1, figsize=(10, 8))\n",
    "#plt.plot([0,400000000],[0,1300000000],c=\"green\")\n",
    "sns.regplot(x, y)\n",
    "plt.xlabel(\"budget\", fontsize=10)  \n",
    "plt.ylabel(\"revenue\", fontsize=10)\n",
    "plt.title(\"Link between revenue and budget\", fontsize=10)\n"
   ]
  },
  {
   "cell_type": "code",
   "execution_count": null,
   "id": "da09498e-7707-451a-9970-db5ada33d756",
   "metadata": {},
   "outputs": [],
   "source": [
    "df.loc[:,['Popularity','Runtime','Revenu','Budget','Vote_average','Vote_count']]"
   ]
  },
  {
   "cell_type": "code",
   "execution_count": null,
   "id": "b7f7ced4-5d04-4e9c-8208-dfe51de06852",
   "metadata": {},
   "outputs": [],
   "source": []
  }
 ],
 "metadata": {
  "kernelspec": {
   "display_name": "Python 3 (ipykernel)",
   "language": "python",
   "name": "python3"
  },
  "language_info": {
   "codemirror_mode": {
    "name": "ipython",
    "version": 3
   },
   "file_extension": ".py",
   "mimetype": "text/x-python",
   "name": "python",
   "nbconvert_exporter": "python",
   "pygments_lexer": "ipython3",
   "version": "3.10.4"
  }
 },
 "nbformat": 4,
 "nbformat_minor": 5
}
