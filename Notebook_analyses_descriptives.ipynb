{
 "cells": [
  {
   "cell_type": "code",
   "execution_count": null,
   "id": "a36da01d-6f2b-447f-86c6-1422db3e0c63",
   "metadata": {},
   "outputs": [],
   "source": [
    "# import pandas module \n",
    "import pandas as pd \n",
    "%matplotlib inline\n",
    "import numpy as np\n",
    "import matplotlib.pyplot as plt\n",
    "import seaborn as sns\n"
   ]
  },
  {
   "cell_type": "code",
   "execution_count": null,
   "id": "da15fbf7-ca1d-4fc6-b27f-12772802b032",
   "metadata": {},
   "outputs": [],
   "source": [
    "# supprimer valeurs manquantes \n",
    "df = pd.read_csv(\"df_tmdb.csv\")\n",
    "indexNames = df[ df['Budget'] == 0 ].index\n",
    "# Delete these row indexes from dataFrame\n",
    "df.drop(indexNames , inplace=True)\n",
    "\n",
    "indexNames2 = df[ df['Revenu'] == 0 ].index\n",
    "df.drop(indexNames2 , inplace=True)"
   ]
  },
  {
   "cell_type": "code",
   "execution_count": null,
   "id": "085d4300-c00d-413a-a107-975112322e6e",
   "metadata": {},
   "outputs": [],
   "source": [
    "df.Release_date.sort_values(ascending=False)"
   ]
  },
  {
   "cell_type": "code",
   "execution_count": null,
   "id": "776dc556-e8e8-4463-a4b6-acc2394591ce",
   "metadata": {},
   "outputs": [],
   "source": [
    "df.shape"
   ]
  },
  {
   "cell_type": "code",
   "execution_count": null,
   "id": "b783bd5a-0099-42a6-a85a-17c9e393cb78",
   "metadata": {},
   "outputs": [],
   "source": [
    "df['Revenu'].mean()\n",
    "df['Budget'].mean()"
   ]
  },
  {
   "cell_type": "code",
   "execution_count": null,
   "id": "c2824be5-99db-4420-bd05-d80fc9b3d692",
   "metadata": {},
   "outputs": [],
   "source": [
    "#df.plot.scatter(x='Budget',y='Revenu')\n",
    "\n",
    "sns.set()\n",
    "x = np.array(df[\"Budget\"])\n",
    "y = np.array(df[\"Revenu\"])\n",
    "fig = plt.figure(1, figsize=(10, 8))\n",
    "#plt.plot([0,400000000],[0,1300000000],c=\"green\")\n",
    "sns.regplot(x, y)\n",
    "plt.xlabel(\"budget\", fontsize=10)  \n",
    "plt.ylabel(\"revenue\", fontsize=10)\n",
    "plt.title(\"Link between revenue and budget\", fontsize=10)\n"
   ]
  },
  {
   "cell_type": "code",
   "execution_count": null,
   "id": "da09498e-7707-451a-9970-db5ada33d756",
   "metadata": {},
   "outputs": [],
   "source": [
    "df.loc[:,['Popularity','Runtime','Revenu','Budget','Vote_average','Vote_count']]"
   ]
  },
  {
   "cell_type": "code",
   "execution_count": null,
   "id": "b7f7ced4-5d04-4e9c-8208-dfe51de06852",
   "metadata": {},
   "outputs": [],
   "source": [
    "sns.heatmap(df.loc[:,['Popularity','Runtime','Revenu','Budget','Vote_average','Vote_count']].corr(), cmap='YlGnBu', annot=True, linewidths = 0.2);\n",
    "plt.title(\"Matrice de corrélation entre les différentes caractéristiques des films\\n\", fontsize=18, color='#009432')"
   ]
  },
  {
   "cell_type": "code",
   "execution_count": null,
   "id": "85b28946-0572-4081-8d67-970f0360bfbc",
   "metadata": {},
   "outputs": [],
   "source": [
    "sns.set(style=\"ticks\", color_codes=True)\n",
    "df2 = df.loc[:,['Popularity','Runtime','Revenu','Budget','Vote_average','Vote_count']]\n",
    "g = sns.pairplot(df2)\n",
    "plt.show()"
   ]
  },
  {
   "cell_type": "code",
   "execution_count": null,
   "id": "e8b72e4b-1443-40d3-a0c9-bf666ba4747b",
   "metadata": {},
   "outputs": [],
   "source": [
    "from mpl_toolkits.mplot3d import Axes3D\n",
    "\n",
    "fig = plt.figure(figsize=(15,15))\n",
    "ax = plt.subplot(111,projection = '3d')\n",
    "ax.scatter(df['Budget'],df['Runtime'],df['Popularity'], c = df['Revenu'], marker = 'o', s = 100)\n",
    "ax.set_xlabel('Budget of the Movie',fontsize=15)\n",
    "ax.set_ylabel('Runtime of the Movie',fontsize=15)\n",
    "ax.set_zlabel('Popularity of the Movie',fontsize=15)\n",
    "plt.show()"
   ]
  },
  {
   "cell_type": "code",
   "execution_count": null,
   "id": "e64fb53d-f5cf-4b5f-b51c-5af3af8cc433",
   "metadata": {},
   "outputs": [],
   "source": [
    "plt.figure(figsize=(15,12)) \n",
    "a1 = sns.swarmplot(x='Original_language', y='Revenu', \n",
    "                   data=df[(df['Original_language'].isin((df['Original_language'].value_counts()[:10].index.values)))])\n",
    "a1.set_title(\"Plot revenue by original language in the movie\", fontsize=20) \n",
    "a1.set_xticklabels(a1.get_xticklabels(),rotation=45) \n",
    "a1.set_xlabel('Original language', fontsize=18)\n",
    "a1.set_ylabel('Revenu', fontsize=18) \n",
    "\n",
    "plt.show()"
   ]
  },
  {
   "cell_type": "code",
   "execution_count": null,
   "id": "e91c5f33-56b2-4c22-bee4-d6d3d291bd9a",
   "metadata": {},
   "outputs": [],
   "source": [
    "#Créer une variable qui ne conserve que l'année\n",
    "plt.figure(figsize=(15,8))\n",
    "sns.countplot(df.Release_date.year)\n",
    "plt.xticks(rotation=90)\n",
    "plt.xlabel('Years')\n",
    "plt.title('Amount of movies launched every year')\n",
    "\n",
    "sns.catplot(x='release_day',y='revenue',data=trainData)"
   ]
  },
  {
   "cell_type": "code",
   "execution_count": null,
   "id": "4bbfd10b-e974-47dd-8a5d-ecca1a7454e1",
   "metadata": {},
   "outputs": [],
   "source": [
    "#nettoyer production country\n",
    "sns.set(rc = {'figure.figsize':(15,8)})\n",
    "sns.catplot(x='production_country',y='revenue',data=trainData)"
   ]
  },
  {
   "cell_type": "code",
   "execution_count": null,
   "id": "3eb79a72-1d44-482a-ade4-77e11f0b6d05",
   "metadata": {},
   "outputs": [],
   "source": [
    "#faire le wordcloud uniquement sur les films qui dépassent un certain budget, pour pouvoir dire : les films qui réussisent le mieux contiennent ces mots\n",
    "from wordcloud import WordCloud\n",
    "plt.figure(figsize = (12, 12))\n",
    "text = ' '.join(df['Tagline'].fillna('').values)\n",
    "wordcloud = WordCloud(max_font_size=None, background_color='black', width=1200, height=1000).generate(text)\n",
    "plt.imshow(wordcloud)\n",
    "plt.title('Top words in tagline')\n",
    "plt.axis(\"off\")\n",
    "plt.show()"
   ]
  },
  {
   "cell_type": "code",
   "execution_count": null,
   "id": "29a61070-5b4c-41db-a3b1-25a86868d2ff",
   "metadata": {},
   "outputs": [],
   "source": [
    "revenue_df = df[['Titre', 'Revenu']].sort_values('Revenu')\n",
    "print(len(revenue_df[revenue_df.Revenu<2e4]))\n",
    "revenue_boxplot = revenue_df[['Revenu']][revenue_df.Revenu < 1e6]\n",
    "plt.figure(figsize=(20,10))\n",
    "sns.distplot(revenue_boxplot)\n",
    "plt.xlabel('Data')\n",
    "plt.ylabel('Value')\n",
    "plt.title('Box plot of revenues')\n",
    "plt.legend()\n",
    "plt.show()"
   ]
  },
  {
   "cell_type": "code",
   "execution_count": null,
   "id": "c05478f7-2b88-4621-a5ee-0af04e90ec86",
   "metadata": {},
   "outputs": [],
   "source": [
    "budget_df = df[['Titre', 'Budget']].sort_values('Budget')\n",
    "print(len(budget_df[budget_df.Budget<1e5]))\n",
    "budget_boxplot = budget_df[['Budget']][budget_df.Budget < 1e9]\n",
    "plt.figure(figsize=(20,10))\n",
    "sns.distplot(budget_boxplot)\n",
    "plt.title('Distribution of Budget')\n",
    "plt.legend()\n",
    "plt.show()"
   ]
  },
  {
   "cell_type": "code",
   "execution_count": null,
   "id": "15ca3781-ef89-4ff2-aa24-e1f5e1570f4d",
   "metadata": {},
   "outputs": [],
   "source": []
  }
 ],
 "metadata": {
  "kernelspec": {
   "display_name": "Python 3 (ipykernel)",
   "language": "python",
   "name": "python3"
  },
  "language_info": {
   "codemirror_mode": {
    "name": "ipython",
    "version": 3
   },
   "file_extension": ".py",
   "mimetype": "text/x-python",
   "name": "python",
   "nbconvert_exporter": "python",
   "pygments_lexer": "ipython3",
   "version": "3.10.4"
  }
 },
 "nbformat": 4,
 "nbformat_minor": 5
}
